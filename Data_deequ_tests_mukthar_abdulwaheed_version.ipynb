{
 "cells": [
  {
   "cell_type": "markdown",
   "metadata": {},
   "source": [
    "# Processing Big Data - Deequ Analysis\n",
    "\n",
    "© Explore Data Science Academy\n",
    "\n",
    "## Honour Code\n",
    "I {**MUKTHAR**, **ABDULWAHEED**}, confirm - by submitting this document - that the solutions in this notebook are a result of my own work and that I abide by the [EDSA honour code](https://drive.google.com/file/d/1QDCjGZJ8-FmJE3bZdIQNwnJyQKPhHZBn/view?usp=sharing).\n",
    "    Non-compliance with the honour code constitutes a material breach of contract.\n",
    "\n",
    "\n",
    "## Context\n",
    "\n",
    "Having completed manual data quality checks, it should be obvious that the process can become quite cumbersome. As the Data Engineer in the team, you have researched some tools that could potentially save the team from having to do this cumbersome work. In your research, you have come a across a tool called [Deequ](https://github.com/awslabs/deequ), which is a library for measuring the data quality of large datasets.\n",
    "\n",
    "<div align=\"center\" style=\"width: 600px; font-size: 80%; text-align: center; margin: 0 auto\">\n",
    "<img src=\"https://github.com/Explore-AI/Pictures/raw/master/data_engineering/transform/predict/DataQuality.jpg\"\n",
    "     alt=\"Data Quality\"\n",
    "     style=\"float: center; padding-bottom=0.5em\"\n",
    "     width=100%/>\n",
    "     <p><em>Figure 1. Six dimensions of data quality</em></p>\n",
    "</div>\n",
    "\n",
    "You present this tool to your manager; he is quite impressed and gives you the go-ahead to use this in your implementation. You are now required to perform some data quality tests using this automated data testing tool.\n",
    " "
   ]
  },
  {
   "cell_type": "markdown",
   "metadata": {},
   "source": [
    "> ## 🚩️ Important Notice 🚩️\n",
    ">\n",
    ">To successfully run `pydeequ` without any errors, please make sure that you have an environment that is running pyspark version 3.0.\n",
    "> You are advised to **create a new conda environment** and install this specific version of pyspark to avoid any technical issues:\n",
    ">\n",
    "> `pip install pyspark==3.0`\n",
    "\n",
    "<br>\n",
    "\n",
    "## Import dependencies\n",
    "\n",
    "If you do not have `pydeequ` already installed, install it using the following command:\n",
    "- `pip install pydeequ`"
   ]
  },
  {
   "cell_type": "code",
   "execution_count": null,
   "metadata": {},
   "outputs": [],
   "source": [
    "pip install pyspark==3.0"
   ]
  },
  {
   "cell_type": "code",
   "execution_count": 1,
   "metadata": {},
   "outputs": [
    {
     "name": "stdout",
     "output_type": "stream",
     "text": [
      "Collecting pydeequNote: you may need to restart the kernel to use updated packages.\n",
      "  Downloading pydeequ-1.0.1-py3-none-any.whl (36 kB)\n",
      "\n",
      "Requirement already satisfied: numpy>=1.14.1 in c:\\programdata\\anaconda3\\lib\\site-packages (from pydeequ) (1.20.3)\n",
      "Requirement already satisfied: pandas>=0.23.0 in c:\\programdata\\anaconda3\\lib\\site-packages (from pydeequ) (1.3.4)\n",
      "Requirement already satisfied: pytz>=2017.3 in c:\\programdata\\anaconda3\\lib\\site-packages (from pandas>=0.23.0->pydeequ) (2021.3)\n",
      "Requirement already satisfied: python-dateutil>=2.7.3 in c:\\programdata\\anaconda3\\lib\\site-packages (from pandas>=0.23.0->pydeequ) (2.8.2)\n",
      "Requirement already satisfied: six>=1.5 in c:\\programdata\\anaconda3\\lib\\site-packages (from python-dateutil>=2.7.3->pandas>=0.23.0->pydeequ) (1.16.0)\n",
      "Installing collected packages: pydeequ\n",
      "Successfully installed pydeequ-1.0.1\n"
     ]
    }
   ],
   "source": [
    "pip install pydeequ"
   ]
  },
  {
   "cell_type": "code",
   "execution_count": 7,
   "metadata": {},
   "outputs": [],
   "source": [
    "import pandas as pd\n",
    "import numpy as np\n",
    "import matplotlib.pyplot as plt\n",
    "import pydeequ\n",
    "from pydeequ.analyzers import *\n",
    "from pydeequ.profiles import *\n",
    "from pydeequ.suggestions import *\n",
    "from pydeequ.checks import *\n",
    "from pydeequ.verification import *\n",
    "\n",
    "from pyspark.sql import SparkSession\n",
    "from pyspark.sql import functions as F\n",
    "from pyspark.sql.types import DecimalType, DoubleType, IntegerType, DateType, NumericType, StructType, StringType, StructField"
   ]
  },
  {
   "cell_type": "code",
   "execution_count": 8,
   "metadata": {},
   "outputs": [],
   "source": [
    "spark = (SparkSession\n",
    "    .builder\n",
    "    .config(\"spark.jars.packages\", pydeequ.deequ_maven_coord)\n",
    "    .config(\"spark.jars.excludes\", pydeequ.f2j_maven_coord)\n",
    "    .getOrCreate())"
   ]
  },
  {
   "cell_type": "markdown",
   "metadata": {},
   "source": [
    "## Read data into spark dataframe\n",
    "\n",
    "In this notebook, we set out to run some data quality tests, with the possiblity of running end to end on the years 1963, 1974, 1985, 1996, 2007, and 2018. \n",
    "\n",
    "> ℹ️ **Instructions** ℹ️\n",
    ">\n",
    ">1. Make use of the `Data_ingestion_student_version.ipynb` notebook to create the parquet files for the following years:\n",
    ">       - 1963\n",
    ">       - 1974\n",
    ">       - 1985\n",
    ">       - 1996\n",
    ">       - 2007\n",
    ">       - 2018\n",
    ">\n",
    ">2. Ingest the data for the for the years given above. You should only do it one year at a time.\n",
    ">3. Ingest the metadata file.\n",
    "\n",
    "\n",
    "When developing your code, it will be sufficient to focus on a single year. However, after your development is done, you will need to run this notebook for all of the given years above so that you can answer all the questions given in the Data Testing MCQ."
   ]
  },
  {
   "cell_type": "code",
   "execution_count": 12,
   "metadata": {},
   "outputs": [],
   "source": [
    "#TODO: Write your code here\n",
    "# Use this variable (year) to determine which year your are focusing on\n",
    "year = 1963\n",
    "df = spark.read.parquet(\"parquet/1963/data_ingestion.parquet\")"
   ]
  },
  {
   "cell_type": "code",
   "execution_count": 13,
   "metadata": {},
   "outputs": [
    {
     "name": "stdout",
     "output_type": "stream",
     "text": [
      "+-------------------+----------+----------+---------+----------+-----------+--------+-----+\n",
      "|               date|      open|      high|      low|     close|  adj_close|  volume|stock|\n",
      "+-------------------+----------+----------+---------+----------+-----------+--------+-----+\n",
      "|1963-10-28 00:00:00|  6.924645|  6.940665| 6.908625|  6.908625|  1.6844347| 39900.0|   AA|\n",
      "|1963-10-28 00:00:00|  6.488943| 6.5123687| 6.465517|  6.465517|  1.5472991| 42600.0| ARNC|\n",
      "|1963-10-28 00:00:00|0.56790125|0.56995887|0.5617284|0.56995887| 0.11004562|789600.0|   BA|\n",
      "|1963-10-28 00:00:00| 1.8541666| 1.9166666|1.8541666| 1.9166666|  0.1730804|319200.0|  CAT|\n",
      "|1963-10-28 00:00:00|       0.0| 4.0859375|4.0234375|  4.046875|0.067614794|156800.0|  CVX|\n",
      "+-------------------+----------+----------+---------+----------+-----------+--------+-----+\n",
      "only showing top 5 rows\n",
      "\n"
     ]
    }
   ],
   "source": [
    "df.show(5)"
   ]
  },
  {
   "cell_type": "code",
   "execution_count": 14,
   "metadata": {},
   "outputs": [
    {
     "name": "stdout",
     "output_type": "stream",
     "text": [
      "root\n",
      " |-- date: timestamp (nullable = true)\n",
      " |-- open: float (nullable = true)\n",
      " |-- high: float (nullable = true)\n",
      " |-- low: float (nullable = true)\n",
      " |-- close: float (nullable = true)\n",
      " |-- adj_close: float (nullable = true)\n",
      " |-- volume: float (nullable = true)\n",
      " |-- stock: string (nullable = true)\n",
      "\n"
     ]
    }
   ],
   "source": [
    "df.printSchema()"
   ]
  },
  {
   "cell_type": "code",
   "execution_count": 16,
   "metadata": {},
   "outputs": [
    {
     "name": "stdout",
     "output_type": "stream",
     "text": [
      "+-------------+------+--------------------+----------------+---------------+---+--------------+----------+----------------+----------+-------------+----------+\n",
      "|Nasdaq Traded|Symbol|       Security Name|Listing Exchange|Market Category|ETF|Round Lot Size|Test Issue|Financial Status|CQS Symbol|NASDAQ Symbol|NextShares|\n",
      "+-------------+------+--------------------+----------------+---------------+---+--------------+----------+----------------+----------+-------------+----------+\n",
      "|            Y|     A|Agilent Technolog...|               N|               |  N|         100.0|         N|            null|         A|            A|         N|\n",
      "|            Y|    AA|Alcoa Corporation...|               N|               |  N|         100.0|         N|            null|        AA|           AA|         N|\n",
      "|            Y|  AAAU|Perth Mint Physic...|               P|               |  Y|         100.0|         N|            null|      AAAU|         AAAU|         N|\n",
      "|            Y|  AACG|ATA Creativity Gl...|               Q|              G|  N|         100.0|         N|               N|      null|         AACG|         N|\n",
      "|            Y|  AADR|AdvisorShares Dor...|               P|               |  Y|         100.0|         N|            null|      AADR|         AADR|         N|\n",
      "+-------------+------+--------------------+----------------+---------------+---+--------------+----------+----------------+----------+-------------+----------+\n",
      "only showing top 5 rows\n",
      "\n"
     ]
    }
   ],
   "source": [
    "meta_df = spark.read.csv('symbols_valid_meta.csv', header=True)\n",
    "meta_df.show(5)"
   ]
  },
  {
   "cell_type": "markdown",
   "metadata": {},
   "source": [
    "## **Run tests on the dataset**\n",
    "\n",
    "## Test 1 - Null values ⛔️\n",
    "For the first test, you are required to check the data for completeness.\n",
    "\n",
    "> ℹ️ **Instructions** ℹ️\n",
    ">\n",
    ">1. Make use of the `Verification Suite` and write code to check for missing values in the data. \n",
    ">2. Display the results of your test.\n",
    ">\n",
    "> *You may use as many cells as necessary*\n"
   ]
  },
  {
   "cell_type": "code",
   "execution_count": 17,
   "metadata": {},
   "outputs": [
    {
     "name": "stdout",
     "output_type": "stream",
     "text": [
      "+----------------+-----------+------------+----------------------------------------------------+-----------------+------------------+\n",
      "|check           |check_level|check_status|constraint                                          |constraint_status|constraint_message|\n",
      "+----------------+-----------+------------+----------------------------------------------------+-----------------+------------------+\n",
      "|Null value Check|Warning    |Success     |CompletenessConstraint(Completeness(date,None))     |Success          |                  |\n",
      "|Null value Check|Warning    |Success     |CompletenessConstraint(Completeness(open,None))     |Success          |                  |\n",
      "|Null value Check|Warning    |Success     |CompletenessConstraint(Completeness(high,None))     |Success          |                  |\n",
      "|Null value Check|Warning    |Success     |CompletenessConstraint(Completeness(low,None))      |Success          |                  |\n",
      "|Null value Check|Warning    |Success     |CompletenessConstraint(Completeness(close,None))    |Success          |                  |\n",
      "|Null value Check|Warning    |Success     |CompletenessConstraint(Completeness(adj_close,None))|Success          |                  |\n",
      "|Null value Check|Warning    |Success     |CompletenessConstraint(Completeness(volume,None))   |Success          |                  |\n",
      "|Null value Check|Warning    |Success     |CompletenessConstraint(Completeness(stock,None))    |Success          |                  |\n",
      "+----------------+-----------+------------+----------------------------------------------------+-----------------+------------------+\n",
      "\n"
     ]
    },
    {
     "name": "stderr",
     "output_type": "stream",
     "text": [
      "C:\\ProgramData\\Anaconda3\\lib\\site-packages\\pyspark\\sql\\dataframe.py:127: UserWarning: DataFrame constructor is internal. Do not directly use it.\n",
      "  warnings.warn(\"DataFrame constructor is internal. Do not directly use it.\")\n"
     ]
    }
   ],
   "source": [
    "#TODO: Write your code here\n",
    "from pydeequ.verification import *\n",
    "check = Check(spark, CheckLevel.Warning, \"Null value Check\")\n",
    "\n",
    "checkResult = VerificationSuite(spark) \\\n",
    "    .onData(df) \\\n",
    "    .addCheck(  \n",
    "     check.isComplete(\"date\")\\\n",
    "    .isComplete(\"open\")\\\n",
    "    .isComplete(\"high\")\\\n",
    "    .isComplete(\"low\")\\\n",
    "    .isComplete(\"close\")\\\n",
    "    .isComplete(\"adj_close\")\\\n",
    "    .isComplete(\"volume\")\\\n",
    "    .isComplete(\"stock\"))\\\n",
    "    .run()\n",
    "\n",
    "checkResult_df = VerificationResult.checkResultsAsDataFrame(spark, checkResult)\n",
    "checkResult_df.show(truncate=False)"
   ]
  },
  {
   "cell_type": "markdown",
   "metadata": {},
   "source": [
    "## Test 2 - Zero Values 🅾️\n",
    "\n",
    "For the second test, you are required to check for zero values within the dataset.\n",
    "\n",
    "> ℹ️ **Instructions** ℹ️\n",
    ">\n",
    ">1. Make use of the `Verification Suite` and write code to check for zero values within the data. \n",
    ">2. Display the results of your test.\n",
    ">\n",
    "> *You may use as many cells as necessary*"
   ]
  },
  {
   "cell_type": "code",
   "execution_count": 18,
   "metadata": {},
   "outputs": [
    {
     "name": "stdout",
     "output_type": "stream",
     "text": [
      "Python Callback server started!\n",
      "+----------------+-----------+------------+----------------------------------------------------------------------+-----------------+--------------------------------------------------------------------+\n",
      "|check           |check_level|check_status|constraint                                                            |constraint_status|constraint_message                                                  |\n",
      "+----------------+-----------+------------+----------------------------------------------------------------------+-----------------+--------------------------------------------------------------------+\n",
      "|Zero value Check|Warning    |Warning     |ComplianceConstraint(Compliance(Zero value check,open == 0,None))     |Failure          |Value: 0.549800796812749 does not meet the constraint requirement!  |\n",
      "|Zero value Check|Warning    |Warning     |ComplianceConstraint(Compliance(Zero value check,high == 0,None))     |Success          |                                                                    |\n",
      "|Zero value Check|Warning    |Warning     |ComplianceConstraint(Compliance(Zero value check,low == 0,None))      |Success          |                                                                    |\n",
      "|Zero value Check|Warning    |Warning     |ComplianceConstraint(Compliance(Zero value check,close == 0,None))    |Success          |                                                                    |\n",
      "|Zero value Check|Warning    |Warning     |ComplianceConstraint(Compliance(Zero value check,adj_close == 0,None))|Success          |                                                                    |\n",
      "|Zero value Check|Warning    |Warning     |ComplianceConstraint(Compliance(Zero value check,volume == 0,None))   |Failure          |Value: 5.97609561752988E-4 does not meet the constraint requirement!|\n",
      "+----------------+-----------+------------+----------------------------------------------------------------------+-----------------+--------------------------------------------------------------------+\n",
      "\n"
     ]
    }
   ],
   "source": [
    "#TODO: Write your code here\n",
    "check = Check(spark, CheckLevel.Warning, \"Zero value Check\")\n",
    "result = VerificationSuite(spark)\\\n",
    ".onData(df)\\\n",
    ".addCheck(check\n",
    "    .satisfies(\"open == 0\", \"Zero value check\", lambda x: x==0)\\\n",
    "    .satisfies(\"high == 0\", \"Zero value check\", lambda x: x==0)\\\n",
    "    .satisfies(\"low == 0\", \"Zero value check\", lambda x: x==0)\\\n",
    "    .satisfies(\"close == 0\", \"Zero value check\", lambda x: x==0)\\\n",
    "    .satisfies(\"adj_close == 0\", \"Zero value check\", lambda x: x==0)\\\n",
    "    .satisfies(\"volume == 0\", \"Zero value check\", lambda x: x==0)\\\n",
    "    )\\\n",
    ".run()\n",
    "\n",
    "result_df = VerificationResult.checkResultsAsDataFrame(spark, result)\n",
    "result_df.show(truncate=False)"
   ]
  },
  {
   "cell_type": "markdown",
   "metadata": {},
   "source": [
    "## Test 3 - Negative values ➖️\n",
    "The third test requires you to check that all values in the data are positive.\n",
    "\n",
    "> ℹ️ **Instructions** ℹ️\n",
    ">\n",
    ">1. Make use of the `Verification Suite` and write code to check negative values within the dataset. \n",
    ">2. Display the results of your test.\n",
    ">\n",
    "> *You may use as many cells as necessary*"
   ]
  },
  {
   "cell_type": "code",
   "execution_count": 19,
   "metadata": {},
   "outputs": [
    {
     "name": "stdout",
     "output_type": "stream",
     "text": [
      "+--------------------+-----------+------------+-----------------------------------------------------------------------------------------------------------------+-----------------+----------------------------------------------------+\n",
      "|check               |check_level|check_status|constraint                                                                                                       |constraint_status|constraint_message                                  |\n",
      "+--------------------+-----------+------------+-----------------------------------------------------------------------------------------------------------------+-----------------+----------------------------------------------------+\n",
      "|Negative value Check|Warning    |Warning     |ComplianceConstraint(Compliance(date is non-negative,COALESCE(CAST(date AS DECIMAL(20,10)), 0.0) >= 0,None))     |Failure          |Value: 0.0 does not meet the constraint requirement!|\n",
      "|Negative value Check|Warning    |Warning     |ComplianceConstraint(Compliance(open is non-negative,COALESCE(CAST(open AS DECIMAL(20,10)), 0.0) >= 0,None))     |Success          |                                                    |\n",
      "|Negative value Check|Warning    |Warning     |ComplianceConstraint(Compliance(high is non-negative,COALESCE(CAST(high AS DECIMAL(20,10)), 0.0) >= 0,None))     |Success          |                                                    |\n",
      "|Negative value Check|Warning    |Warning     |ComplianceConstraint(Compliance(low is non-negative,COALESCE(CAST(low AS DECIMAL(20,10)), 0.0) >= 0,None))       |Success          |                                                    |\n",
      "|Negative value Check|Warning    |Warning     |ComplianceConstraint(Compliance(close is non-negative,COALESCE(CAST(close AS DECIMAL(20,10)), 0.0) >= 0,None))   |Success          |                                                    |\n",
      "|Negative value Check|Warning    |Warning     |ComplianceConstraint(Compliance(adj_close is positive,COALESCE(CAST(adj_close AS DECIMAL(20,10)), 1.0) > 0,None))|Success          |                                                    |\n",
      "|Negative value Check|Warning    |Warning     |ComplianceConstraint(Compliance(volume is non-negative,COALESCE(CAST(volume AS DECIMAL(20,10)), 0.0) >= 0,None)) |Success          |                                                    |\n",
      "|Negative value Check|Warning    |Warning     |ComplianceConstraint(Compliance(stock is non-negative,COALESCE(CAST(stock AS DECIMAL(20,10)), 0.0) >= 0,None))   |Success          |                                                    |\n",
      "+--------------------+-----------+------------+-----------------------------------------------------------------------------------------------------------------+-----------------+----------------------------------------------------+\n",
      "\n"
     ]
    }
   ],
   "source": [
    "#TODO: Write your code here\n",
    "from pydeequ.verification import *\n",
    "check = Check(spark, CheckLevel.Warning, \"Negative value Check\")\n",
    "\n",
    "checkResult = VerificationSuite(spark) \\\n",
    "    .onData(df) \\\n",
    "    .addCheck(  \n",
    "     check.isNonNegative(\"date\")\\\n",
    "    .isNonNegative(\"open\")\\\n",
    "    .isNonNegative(\"high\")\\\n",
    "    .isNonNegative(\"low\")\\\n",
    "    .isNonNegative(\"close\")\\\n",
    "    .isPositive(\"adj_close\")\\\n",
    "    .isNonNegative(\"volume\")\\\n",
    "    .isNonNegative(\"stock\"))\\\n",
    "    .run()\n",
    "\n",
    "checkResult_df = VerificationResult.checkResultsAsDataFrame(spark, checkResult)\n",
    "checkResult_df.show(truncate=False)"
   ]
  },
  {
   "cell_type": "markdown",
   "metadata": {},
   "source": [
    "## Test 4 - Determine Maximum Values ⚠️\n",
    "\n",
    "For the fourth test, we want to find the maximum values in the dataset for the numerical fields. Extremum values can often be used to define an upper bound for the column values so we can define them as the threshold values. \n",
    "\n",
    "> ℹ️ **Instructions** ℹ️\n",
    ">\n",
    ">1. Make use of the `Column Profiler Runner` to generate summary statistics for all the available columns. \n",
    ">2. Extract the maximum values for all the numeric columns in the data.\n",
    ">\n",
    "> *You may use as many cells as necessary*"
   ]
  },
  {
   "cell_type": "code",
   "execution_count": 24,
   "metadata": {},
   "outputs": [],
   "source": [
    "#TODO: Write your code here\n",
    "from pydeequ.profiles import *\n",
    "result = ColumnProfilerRunner(spark) \\\n",
    "    .onData(df.select('open','high','low','close','adj_close','volume')) \\\n",
    "    .run()\n",
    "for col, profile in result.profiles.items():\n",
    "    print(f\"Maximum value for {col} column is \"+ str(profile.maximum))"
   ]
  },
  {
   "cell_type": "markdown",
   "metadata": {},
   "source": [
    "## Test 5 - Stock Tickers 💹️\n",
    "\n",
    "For the fifth test, we want to determine if the stock tickers contained in our dataset are consistent. To do this, you will need to make use of use of the metadata file to check that the stock names used in the dataframe are valid. \n",
    "\n",
    "> ℹ️ **Instructions** ℹ️\n",
    ">\n",
    ">1. Make use of the `Verification Suite` and write code to determine if the stock tickers contained in the dataset appear in the metadata file.\n",
    ">2. Display the results of your test.\n",
    ">\n",
    "> *You may use as many cells as necessary*"
   ]
  },
  {
   "cell_type": "code",
   "execution_count": 26,
   "metadata": {},
   "outputs": [],
   "source": [
    "#TODO: Write your code here\n",
    "from pydeequ.verification import *\n",
    "check = Check(spark, CheckLevel.Warning, \"Stock ticker consistency Check\")\n",
    "\n",
    "checkResult = VerificationSuite(spark) \\\n",
    "    .onData(df) \\\n",
    "    .addCheck(  \n",
    "     check.isContainedIn(\"stock\",np.array(meta_df.select('Symbol').collect()).reshape(-1))\\\n",
    "    )\\\n",
    "    .run()\n",
    "\n",
    "checkResult_df = VerificationResult.checkResultsAsDataFrame(spark, checkResult)"
   ]
  },
  {
   "cell_type": "code",
   "execution_count": 27,
   "metadata": {},
   "outputs": [
    {
     "name": "stdout",
     "output_type": "stream",
     "text": [
      "+--------------------+-----------+------------+--------------------+-----------------+------------------+\n",
      "|               check|check_level|check_status|          constraint|constraint_status|constraint_message|\n",
      "+--------------------+-----------+------------+--------------------+-----------------+------------------+\n",
      "|Stock ticker cons...|    Warning|     Success|ComplianceConstra...|          Success|                  |\n",
      "+--------------------+-----------+------------+--------------------+-----------------+------------------+\n",
      "\n"
     ]
    }
   ],
   "source": [
    "checkResult_df.show()"
   ]
  },
  {
   "cell_type": "markdown",
   "metadata": {},
   "source": [
    "## Test 6 - Duplication 👥️\n",
    "Lastly, we want to determine the uniqueness of the items found in the dataframe. You need to make use of the Verification Suite to check for the validity of the stock tickers. \n",
    "\n",
    "Similar to the previous notebook - `Data_profiling_student_version.ipynb`, the first thing to check will be if the primary key values within the dataset are unique - in our case, that will be a combination of the stock name and the date. Secondly, we want to check if the entries are all unique, which is done by checking for duplicates across that whole dataset.\n",
    "\n",
    "> ℹ️ **Instructions** ℹ️\n",
    ">\n",
    ">1. Make use of the `Verification Suite` and write code to determine the uniqueness of entries contained within the dataset.\n",
    ">2. Display the results of your test.\n",
    ">\n",
    "> *You may use as many cells as necessary*\n",
    "\n"
   ]
  },
  {
   "cell_type": "code",
   "execution_count": 28,
   "metadata": {},
   "outputs": [
    {
     "name": "stdout",
     "output_type": "stream",
     "text": [
      "+----------------------+-----------+------------+------------------------------------------------------+-----------------+-------------------------------------------------------------------+\n",
      "|check                 |check_level|check_status|constraint                                            |constraint_status|constraint_message                                                 |\n",
      "+----------------------+-----------+------------+------------------------------------------------------+-----------------+-------------------------------------------------------------------+\n",
      "|Duplication test Check|Warning    |Warning     |UniquenessConstraint(Uniqueness(Stream(date, ?),None))|Success          |                                                                   |\n",
      "|Duplication test Check|Warning    |Warning     |UniquenessConstraint(Uniqueness(Stream(open, ?),None))|Failure          |Value: 0.9976095617529881 does not meet the constraint requirement!|\n",
      "+----------------------+-----------+------------+------------------------------------------------------+-----------------+-------------------------------------------------------------------+\n",
      "\n"
     ]
    }
   ],
   "source": [
    "#TODO: Write your code here\n",
    "from pydeequ.verification import *\n",
    "check = Check(spark, CheckLevel.Warning, \"Duplication test Check\")\n",
    "checkResult = VerificationSuite(spark).onData(df).addCheck(check\\\n",
    "                                                          #  .isPrimaryKey([\"date\",\"stock\"])\\\n",
    "                                                           .hasUniqueness([\"date\",\"stock\"], lambda x:x ==1)\\\n",
    "                                                           .hasUniqueness(['open','high','low','close','adj_close','volume'], lambda x:x ==1)\n",
    "                                                           ).run()\n",
    "                                                           \n",
    "checkResult_df = VerificationResult.checkResultsAsDataFrame(spark, checkResult)\n",
    "checkResult_df.show(truncate= False)"
   ]
  }
 ],
 "metadata": {
  "interpreter": {
   "hash": "0b41f59b882618484a4d28c089dca4efdf4ffb1e043e654ec6730d7439b802f5"
  },
  "kernelspec": {
   "display_name": "Python 3",
   "language": "python",
   "name": "python3"
  },
  "language_info": {
   "codemirror_mode": {
    "name": "ipython",
    "version": 3
   },
   "file_extension": ".py",
   "mimetype": "text/x-python",
   "name": "python",
   "nbconvert_exporter": "python",
   "pygments_lexer": "ipython3",
   "version": "3.8.5"
  }
 },
 "nbformat": 4,
 "nbformat_minor": 2
}
