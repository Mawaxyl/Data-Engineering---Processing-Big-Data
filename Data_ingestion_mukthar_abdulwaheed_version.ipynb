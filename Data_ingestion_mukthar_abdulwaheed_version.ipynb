{
 "cells": [
  {
   "cell_type": "markdown",
   "metadata": {},
   "source": [
    "# Processing Big Data - Data Ingestion\n",
    "© Explore Data Science Academy\n",
    "\n",
    "## Honour Code\n",
    "I {**MUKTHAR**, **ABDULWAHEED**}, confirm - by submitting this document - that the solutions in this notebook are a result of my own work and that I abide by the [EDSA honour code](https://drive.google.com/file/d/1QDCjGZJ8-FmJE3bZdIQNwnJyQKPhHZBn/view?usp=sharing).\n",
    "    Non-compliance with the honour code constitutes a material breach of contract.\n",
    "\n",
    "\n",
    "\n",
    "## Context \n",
    "\n",
    "To work constructively with any dataset, one needs to create an ingestion profile to make sure that the data at the source can be readily consumed. For this section of the predict, as the Data Engineer in the team, you will be required to design and implement the ingestion process. For the purposes of the project the AWS cloud storage service, namely, the S3 bucket service will act as your data source. All the data required can be found [here](https://processing-big-data-predict-stocks-data.s3.eu-west-1.amazonaws.com/stocks.zip).\n",
    "\n",
    "<div align=\"center\" style=\"width: 600px; font-size: 80%; text-align: center; margin: 0 auto\">\n",
    "<img src=\"https://raw.githubusercontent.com/Explore-AI/Pictures/master/data_engineering/transform/predict/DataIngestion.jpg\"\n",
    "     alt=\"Data Ingestion\"\n",
    "     style=\"float: center; padding-bottom=0.5em\"\n",
    "     width=40%/>\n",
    "     <p><em>Figure 1. Data Ingestion</em></p>\n",
    "</div>\n",
    "\n",
    "Your manager, Gnissecorp Atadgib, knowing very well that you've recently completed your Data Engineering qualification, asks you to make use of Apache Spark for the ingestion as well as the rest of the project. His rationale being, that stock market data is generated every day and is quite time-sensitive and would require scalability when deploying to a production environment. \n",
    "\n",
    "## Dataset - US Nasdaq\n",
    "\n",
    "\n",
    "\n",
    "\n",
    "<div align=\"center\" style=\"width: 600px; font-size: 80%; text-align: center; margin: 0 auto\">\n",
    "<img src=\"https://raw.githubusercontent.com/Explore-AI/Pictures/master/data_engineering/transform/predict/Nasdaq.png\"\n",
    "     alt=\"Nasdaq\"\n",
    "     style=\"float: center; padding-bottom=0.5em\"\n",
    "     width=50%/>\n",
    "     <p><em>Figure 2. Nasdaq</em></p>\n",
    "</div>\n",
    "\n",
    "The data that you will be working with is a historical snapshot of market data taken from the Nasdaq electronic market. This dataset contains historical daily prices for all tickers currently trading on Nasdaq. The up-to-date list can be found on their [website](https://www.nasdaq.com/)\n",
    "\n",
    "\n",
    "The provided data contains price data dating back from 02 January 1962 up until 01 April 2020. The data found in the S3 bucket has been stored in the following structure:\n",
    "\n",
    "```\n",
    "     stocks/<Year>/<Month>/<Day>/stocks.csv\n",
    "```\n",
    "Each CSV file for every trading day contains the following details:\n",
    "- **Date** - specifies trading date\n",
    "- **Open** - opening price\n",
    "- **High** - maximum price during the day\n",
    "- **Low** - minimum price during the day\n",
    "- **Close** - close price adjusted for splits\n",
    "- **Adj Close** - close price adjusted for both dividends and splits\n",
    "- **Volume** - the number of shares that changed hands during a given day"
   ]
  },
  {
   "cell_type": "markdown",
   "metadata": {},
   "source": [
    "## Basic initialisation\n",
    "To get you started, let's import some basic Python libraries as well as Spark modules and functions."
   ]
  },
  {
   "cell_type": "code",
   "execution_count": 1,
   "metadata": {},
   "outputs": [],
   "source": [
    "import pandas as pd\n",
    "import numpy as np\n",
    "import matplotlib.pyplot as plt\n",
    "\n",
    "from pyspark import SparkContext\n",
    "from pyspark.sql import SparkSession\n",
    "from pyspark.sql import functions as F\n",
    "from pyspark.sql.types import *"
   ]
  },
  {
   "cell_type": "markdown",
   "metadata": {},
   "source": [
    "Remember that we need a `SparkContext` and `SparkSession` to interface with Spark.\n",
    "We will mostly be using the `SparkContext` to interact with RDDs and the `SparkSession` to interface with Python objects.\n",
    "\n",
    "> ℹ️ **Instructions** ℹ️\n",
    ">\n",
    ">Initialise a new **Spark Context** and **Session** that you will use to interface with Spark."
   ]
  },
  {
   "cell_type": "code",
   "execution_count": 2,
   "metadata": {},
   "outputs": [],
   "source": [
    "sc = SparkContext()\n",
    "spark =SparkSession(sc)"
   ]
  },
  {
   "cell_type": "markdown",
   "metadata": {},
   "source": [
    "## Investigate dataset schema\n",
    "At this point, it is enough to read in a single file to ascertain the data structure. You will be required to use the information obtained from the small subset to create a data schema. This data schema will be used when reading the entire dataset using Spark.\n",
    "\n",
    "> ℹ️ **Instructions** ℹ️\n",
    ">\n",
    ">Make use of Pandas to read in a single file and investigate the plausible data types to be used when creating a Spark data schema. \n",
    ">\n",
    ">*You may use as many coding cells as necessary.*"
   ]
  },
  {
   "cell_type": "code",
   "execution_count": 3,
   "metadata": {},
   "outputs": [],
   "source": [
    "df_p = pd.read_csv(r'C:\\Users\\dell\\Documents\\Explore Data Engineering\\3. AWS Cloud Compute\\Processing Big Data\\stocks\\1963\\02\\04\\stocks.csv')"
   ]
  },
  {
   "cell_type": "code",
   "execution_count": 4,
   "metadata": {},
   "outputs": [
    {
     "data": {
      "text/html": [
       "<div>\n",
       "<style scoped>\n",
       "    .dataframe tbody tr th:only-of-type {\n",
       "        vertical-align: middle;\n",
       "    }\n",
       "\n",
       "    .dataframe tbody tr th {\n",
       "        vertical-align: top;\n",
       "    }\n",
       "\n",
       "    .dataframe thead th {\n",
       "        text-align: right;\n",
       "    }\n",
       "</style>\n",
       "<table border=\"1\" class=\"dataframe\">\n",
       "  <thead>\n",
       "    <tr style=\"text-align: right;\">\n",
       "      <th></th>\n",
       "      <th>Date</th>\n",
       "      <th>Open</th>\n",
       "      <th>High</th>\n",
       "      <th>Low</th>\n",
       "      <th>Close</th>\n",
       "      <th>Adj Close</th>\n",
       "      <th>Volume</th>\n",
       "      <th>stock</th>\n",
       "    </tr>\n",
       "  </thead>\n",
       "  <tbody>\n",
       "    <tr>\n",
       "      <th>0</th>\n",
       "      <td>1963-02-04</td>\n",
       "      <td>5.763195</td>\n",
       "      <td>5.763195</td>\n",
       "      <td>5.639040</td>\n",
       "      <td>5.663070</td>\n",
       "      <td>1.360517</td>\n",
       "      <td>27900.0</td>\n",
       "      <td>AA</td>\n",
       "    </tr>\n",
       "    <tr>\n",
       "      <th>1</th>\n",
       "      <td>1963-02-04</td>\n",
       "      <td>5.423069</td>\n",
       "      <td>5.423069</td>\n",
       "      <td>5.294228</td>\n",
       "      <td>5.329367</td>\n",
       "      <td>1.256773</td>\n",
       "      <td>29800.0</td>\n",
       "      <td>ARNC</td>\n",
       "    </tr>\n",
       "    <tr>\n",
       "      <th>2</th>\n",
       "      <td>1963-02-04</td>\n",
       "      <td>0.656379</td>\n",
       "      <td>0.664609</td>\n",
       "      <td>0.650206</td>\n",
       "      <td>0.650206</td>\n",
       "      <td>0.120512</td>\n",
       "      <td>959600.0</td>\n",
       "      <td>BA</td>\n",
       "    </tr>\n",
       "    <tr>\n",
       "      <th>3</th>\n",
       "      <td>1963-02-04</td>\n",
       "      <td>1.583333</td>\n",
       "      <td>1.583333</td>\n",
       "      <td>1.541667</td>\n",
       "      <td>1.572917</td>\n",
       "      <td>0.139002</td>\n",
       "      <td>103200.0</td>\n",
       "      <td>CAT</td>\n",
       "    </tr>\n",
       "    <tr>\n",
       "      <th>4</th>\n",
       "      <td>1963-02-04</td>\n",
       "      <td>0.000000</td>\n",
       "      <td>4.101562</td>\n",
       "      <td>4.062500</td>\n",
       "      <td>4.078125</td>\n",
       "      <td>0.066616</td>\n",
       "      <td>116800.0</td>\n",
       "      <td>CVX</td>\n",
       "    </tr>\n",
       "  </tbody>\n",
       "</table>\n",
       "</div>"
      ],
      "text/plain": [
       "         Date      Open      High       Low     Close  Adj Close    Volume  \\\n",
       "0  1963-02-04  5.763195  5.763195  5.639040  5.663070   1.360517   27900.0   \n",
       "1  1963-02-04  5.423069  5.423069  5.294228  5.329367   1.256773   29800.0   \n",
       "2  1963-02-04  0.656379  0.664609  0.650206  0.650206   0.120512  959600.0   \n",
       "3  1963-02-04  1.583333  1.583333  1.541667  1.572917   0.139002  103200.0   \n",
       "4  1963-02-04  0.000000  4.101562  4.062500  4.078125   0.066616  116800.0   \n",
       "\n",
       "  stock  \n",
       "0    AA  \n",
       "1  ARNC  \n",
       "2    BA  \n",
       "3   CAT  \n",
       "4   CVX  "
      ]
     },
     "execution_count": 4,
     "metadata": {},
     "output_type": "execute_result"
    }
   ],
   "source": [
    "df_p.head(5)"
   ]
  },
  {
   "cell_type": "code",
   "execution_count": 5,
   "metadata": {},
   "outputs": [
    {
     "name": "stdout",
     "output_type": "stream",
     "text": [
      "<class 'pandas.core.frame.DataFrame'>\n",
      "RangeIndex: 20 entries, 0 to 19\n",
      "Data columns (total 8 columns):\n",
      " #   Column     Non-Null Count  Dtype  \n",
      "---  ------     --------------  -----  \n",
      " 0   Date       20 non-null     object \n",
      " 1   Open       20 non-null     float64\n",
      " 2   High       20 non-null     float64\n",
      " 3   Low        20 non-null     float64\n",
      " 4   Close      20 non-null     float64\n",
      " 5   Adj Close  20 non-null     float64\n",
      " 6   Volume     20 non-null     float64\n",
      " 7   stock      20 non-null     object \n",
      "dtypes: float64(6), object(2)\n",
      "memory usage: 1.4+ KB\n"
     ]
    }
   ],
   "source": [
    "df_p.info()"
   ]
  },
  {
   "cell_type": "markdown",
   "metadata": {},
   "source": [
    "## Read CSV files\n",
    "\n",
    "When working with big data, it is often not tenable to keep processing an entire data batch when you are in the process of development - this can be quite time-consuming. If the data is uniform, it is sufficient to work with a smaller subset to create basic functionality. Your manager has identified the year **1962** to perform the initial testing for data ingestion. \n",
    "\n",
    "> ℹ️ **Instructions** ℹ️\n",
    ">\n",
    ">Read in the data for **1962** using a data schema that purely uses string data types. You will be required to convert to the appropriate data types at a later stage.\n",
    ">\n",
    ">*You may use as many coding cells as necessary.*"
   ]
  },
  {
   "cell_type": "code",
   "execution_count": 6,
   "metadata": {},
   "outputs": [],
   "source": [
    "from pyspark.sql.types import StructField, StructType, StringType\n",
    "\n",
    "df_schema = StructType([\n",
    "    StructField('Date', StringType()),\n",
    "    StructField('Open', StringType()),\n",
    "    StructField('High', StringType()),\n",
    "    StructField('Low', StringType()),\n",
    "    StructField('Close', StringType()),\n",
    "    StructField('Adj Close', StringType()),\n",
    "    StructField('Volume', StringType()),\n",
    "    StructField('stock', StringType())\n",
    "])"
   ]
  },
  {
   "cell_type": "code",
   "execution_count": 7,
   "metadata": {},
   "outputs": [],
   "source": [
    "df_nasdaq = spark.read.csv(r'C:\\Users\\dell\\Documents\\Explore Data Engineering\\3. AWS Cloud Compute\\Processing Big Data\\stocks\\1962\\*\\*\\*.csv', header=True, schema=df_schema)"
   ]
  },
  {
   "cell_type": "code",
   "execution_count": 8,
   "metadata": {},
   "outputs": [
    {
     "name": "stdout",
     "output_type": "stream",
     "text": [
      "root\n",
      " |-- Date: string (nullable = true)\n",
      " |-- Open: string (nullable = true)\n",
      " |-- High: string (nullable = true)\n",
      " |-- Low: string (nullable = true)\n",
      " |-- Close: string (nullable = true)\n",
      " |-- Adj Close: string (nullable = true)\n",
      " |-- Volume: string (nullable = true)\n",
      " |-- stock: string (nullable = true)\n",
      "\n"
     ]
    }
   ],
   "source": [
    "df_nasdaq.printSchema()"
   ]
  },
  {
   "cell_type": "code",
   "execution_count": 9,
   "metadata": {},
   "outputs": [
    {
     "name": "stdout",
     "output_type": "stream",
     "text": [
      "+----------+------------------+------------------+------------------+------------------+------------------+--------+-----+\n",
      "|Date      |Open              |High              |Low               |Close             |Adj Close         |Volume  |stock|\n",
      "+----------+------------------+------------------+------------------+------------------+------------------+--------+-----+\n",
      "|1962-02-19|5.839290142059326 |5.907374858856201 |5.839290142059326 |5.863319873809815 |1.3863292932510376|29900.0 |AA   |\n",
      "|1962-02-19|5.481634140014648 |5.5284857749938965|5.481634140014648 |5.516772747039795 |1.2804527282714844|32000.0 |ARNC |\n",
      "|1962-02-19|0.9074074029922484|0.9156378507614136|0.8991769552230835|0.903292179107666 |0.1614154428243637|619400.0|BA   |\n",
      "|1962-02-19|1.6770833730697632|1.6927083730697632|1.6614583730697632|1.6770833730697632|0.1440587043762207|170400.0|CAT  |\n",
      "|1962-02-19|0.0               |3.5788691043853764|20.0              |3.549107074737549 |0.0565012246370315|273600.0|CVX  |\n",
      "+----------+------------------+------------------+------------------+------------------+------------------+--------+-----+\n",
      "only showing top 5 rows\n",
      "\n"
     ]
    }
   ],
   "source": [
    "df_nasdaq.show(5, truncate=False)"
   ]
  },
  {
   "cell_type": "markdown",
   "metadata": {},
   "source": [
    "## Update column names\n",
    "To make the data easier to work with, you will need to make a few changes:\n",
    "1. Column headers should all be in lowercase; and\n",
    "2. Whitespaces should be replaced with underscores.\n",
    "\n",
    "\n",
    "> ℹ️ **Instructions** ℹ️\n",
    ">\n",
    ">Make sure that the column headers are all in lowercase and that any whitespaces are replaced with underscores.\n",
    ">\n",
    ">*You may use as many coding cells as necessary.*"
   ]
  },
  {
   "cell_type": "code",
   "execution_count": 10,
   "metadata": {},
   "outputs": [
    {
     "name": "stdout",
     "output_type": "stream",
     "text": [
      "+----------+------------------+------------------+------------------+------------------+------------------+--------+-----+\n",
      "|      date|              open|              high|               low|             close|         adj_close|  volume|stock|\n",
      "+----------+------------------+------------------+------------------+------------------+------------------+--------+-----+\n",
      "|1962-02-19| 5.839290142059326| 5.907374858856201| 5.839290142059326| 5.863319873809815|1.3863292932510376| 29900.0|   AA|\n",
      "|1962-02-19| 5.481634140014648|5.5284857749938965| 5.481634140014648| 5.516772747039795|1.2804527282714844| 32000.0| ARNC|\n",
      "|1962-02-19|0.9074074029922484|0.9156378507614136|0.8991769552230835| 0.903292179107666|0.1614154428243637|619400.0|   BA|\n",
      "|1962-02-19|1.6770833730697632|1.6927083730697632|1.6614583730697632|1.6770833730697632|0.1440587043762207|170400.0|  CAT|\n",
      "|1962-02-19|               0.0|3.5788691043853764|              20.0| 3.549107074737549|0.0565012246370315|273600.0|  CVX|\n",
      "+----------+------------------+------------------+------------------+------------------+------------------+--------+-----+\n",
      "only showing top 5 rows\n",
      "\n"
     ]
    }
   ],
   "source": [
    "# Replacing whitespaces in columns with underscore and put them in lowercase\n",
    "\n",
    "for column in df_nasdaq.columns:\n",
    "    df_nasdaq = df_nasdaq.withColumnRenamed(column, '_'.join(column.split()).lower())\n",
    "    \n",
    "df_nasdaq.show(5)"
   ]
  },
  {
   "cell_type": "markdown",
   "metadata": {},
   "source": [
    "## Null Values\n",
    "Null values often represent missing pieces of data. It is always good to know where your null values lie - so you can quickly identify and remedy any issues stemming from these.\n",
    "\n",
    "> ℹ️ **Instructions** ℹ️\n",
    ">\n",
    ">Write code to count the number of null values found in each column.\n",
    ">\n",
    ">*You may use as many coding cells as necessary.*"
   ]
  },
  {
   "cell_type": "code",
   "execution_count": 11,
   "metadata": {},
   "outputs": [
    {
     "name": "stdout",
     "output_type": "stream",
     "text": [
      "+----+----+----+---+-----+---------+------+-----+\n",
      "|date|open|high|low|close|adj_close|volume|stock|\n",
      "+----+----+----+---+-----+---------+------+-----+\n",
      "|   0|   0|   0| 22|    0|        0|    21|    0|\n",
      "+----+----+----+---+-----+---------+------+-----+\n",
      "\n"
     ]
    }
   ],
   "source": [
    "#checking for null values\n",
    "\n",
    "df_nasdaq.select([F.count(F.when(F.isnull(x), x)).alias(x) for x in df_nasdaq.columns]).show()"
   ]
  },
  {
   "cell_type": "markdown",
   "metadata": {},
   "source": [
    "## Data type conversion - The final data schema\n",
    "\n",
    "Now that we have identified the number of missing values in the data set, we'll move on to convert our data schema to the required data types. \n",
    "\n",
    "> ℹ️ **Instructions** ℹ️\n",
    ">\n",
    ">Use typecasting to convert the string data types in your current data schema to more appropriate data types.\n",
    ">\n",
    ">*You may use as many coding cells as necessary.*"
   ]
  },
  {
   "cell_type": "code",
   "execution_count": 12,
   "metadata": {},
   "outputs": [],
   "source": [
    "from pyspark.sql.types import StructField, StructType, StringType, IntegerType, FloatType, TimestampType, DateType\n",
    "\n",
    "df_schema = StructType([\n",
    "    StructField('date', DateType()),\n",
    "    StructField('open', FloatType()),\n",
    "    StructField('high', FloatType()),\n",
    "    StructField('low', FloatType()),\n",
    "    StructField('close', FloatType()),\n",
    "    StructField('adj_close', FloatType()),\n",
    "    StructField('volume', FloatType()),\n",
    "    StructField('stock', StringType())\n",
    "])"
   ]
  },
  {
   "cell_type": "code",
   "execution_count": 13,
   "metadata": {},
   "outputs": [],
   "source": [
    "df_nasdaq = spark.read.csv(r'C:\\Users\\dell\\Documents\\Explore Data Engineering\\3. AWS Cloud Compute\\Processing Big Data\\stocks\\1962\\*\\*\\*.csv', header=True, schema=df_schema)"
   ]
  },
  {
   "cell_type": "code",
   "execution_count": 14,
   "metadata": {},
   "outputs": [
    {
     "name": "stdout",
     "output_type": "stream",
     "text": [
      "+----------+-----------+-----------+----------+----------+------------+---------+-----+\n",
      "|date      |open       |high       |low       |close     |adj_close   |volume   |stock|\n",
      "+----------+-----------+-----------+----------+----------+------------+---------+-----+\n",
      "|1962-02-19|5.83929    |5.907375   |5.83929   |5.86332   |1.3863293   |29900.0  |AA   |\n",
      "|1962-02-19|5.481634   |5.528486   |5.481634  |5.5167727 |1.2804527   |32000.0  |ARNC |\n",
      "|1962-02-19|0.9074074  |0.91563785 |0.89917696|0.9032922 |0.16141544  |619400.0 |BA   |\n",
      "|1962-02-19|1.6770834  |1.6927084  |1.6614584 |1.6770834 |0.1440587   |170400.0 |CAT  |\n",
      "|1962-02-19|0.0        |3.578869   |20.0      |3.549107  |0.056501225 |273600.0 |CVX  |\n",
      "|1962-02-19|0.099767394|0.099767394|0.09820853|0.09820853|0.037543412 |817400.0 |DIS  |\n",
      "|1962-02-19|0.0        |29.9375    |29.75     |29.9375   |0.49964145  |1600.0   |DTE  |\n",
      "|1962-02-19|0.0        |9.921875   |9.890625  |9.921875  |0.22499175  |8800.0   |ED   |\n",
      "|1962-02-19|0.0        |7.0833335  |7.0208335 |7.0208335 |0.91296524  |20400.0  |FL   |\n",
      "|1962-02-19|0.77373797 |0.777494   |0.76372194|0.767478  |0.0018262818|1557500.0|GE   |\n",
      "+----------+-----------+-----------+----------+----------+------------+---------+-----+\n",
      "only showing top 10 rows\n",
      "\n"
     ]
    }
   ],
   "source": [
    "df_nasdaq.show(10, truncate=False)"
   ]
  },
  {
   "cell_type": "markdown",
   "metadata": {},
   "source": [
    "## Consolidate missing values\n",
    "We have to check if the data type conversion above was done correctly.\n",
    "If the casting was not successful, a null value gets inserted into the dataframe. You can thus check for successful conversion by determining if any null values are included in the resulting dataframe.\n",
    "\n",
    "\n",
    "> ℹ️ **Instructions** ℹ️\n",
    ">\n",
    ">Write code to compare the number of invalid entries (nulls) pre-conversion and post-conversion.\n",
    ">\n",
    ">*You may use as many coding cells as necessary.*"
   ]
  },
  {
   "cell_type": "code",
   "execution_count": 15,
   "metadata": {},
   "outputs": [
    {
     "name": "stdout",
     "output_type": "stream",
     "text": [
      "+----+----+----+---+-----+---------+------+-----+\n",
      "|date|open|high|low|close|adj_close|volume|stock|\n",
      "+----+----+----+---+-----+---------+------+-----+\n",
      "|   0|   0|   0| 42|    0|       21|    21|    0|\n",
      "+----+----+----+---+-----+---------+------+-----+\n",
      "\n"
     ]
    }
   ],
   "source": [
    "#checking for null values\n",
    "\n",
    "df_nasdaq.select([F.count(F.when(F.isnull(x), x)).alias(x) for x in df_nasdaq.columns]).show()"
   ]
  },
  {
   "cell_type": "markdown",
   "metadata": {},
   "source": [
    "Here you should be able to see if any of your casts went wrong. \n",
    "Do not attempt to correct any missing values at this point. This will be dealt with in later sections of the predict."
   ]
  },
  {
   "cell_type": "markdown",
   "metadata": {},
   "source": [
    "## Generate parquet files\n",
    "When writing in Spark, we typically use parquet format. This format allows parallel writing using Spark's optimisation while maintaining other useful things like metadata.\n",
    "\n",
    "When writing, it is good to make sure that the data is sufficiently partitioned. \n",
    "\n",
    "Generally, data should be partitioned with one partition for every 200MB of data, but this also depends on the size of your cluster and executors. \n"
   ]
  },
  {
   "cell_type": "markdown",
   "metadata": {},
   "source": [
    "### Check the size of the dataframe before partitioning"
   ]
  },
  {
   "cell_type": "code",
   "execution_count": 16,
   "metadata": {},
   "outputs": [],
   "source": [
    "from pyspark.serializers import PickleSerializer, AutoBatchedSerializer"
   ]
  },
  {
   "cell_type": "code",
   "execution_count": 17,
   "metadata": {},
   "outputs": [
    {
     "name": "stdout",
     "output_type": "stream",
     "text": [
      "The dataframe is 11.243584 MB\n"
     ]
    }
   ],
   "source": [
    "rdd = df_nasdaq.rdd._reserialize(AutoBatchedSerializer(PickleSerializer()))\n",
    "obj = rdd.ctx._jvm.org.apache.spark.mllib.api.python.SerDe.pythonToJava(rdd._jrdd, True)\n",
    "size = sc._jvm.org.apache.spark.util.SizeEstimator.estimate(obj)\n",
    "size_MB = size/1000000\n",
    "partitions = max(int(size_MB/200), 2)\n",
    "print(f'The dataframe is {size_MB} MB')"
   ]
  },
  {
   "cell_type": "markdown",
   "metadata": {},
   "source": [
    "### Write parquet files to the local directory\n",
    "> ℹ️ **Instructions** ℹ️\n",
    ">\n",
    "> Use the **coalesce** function and the number of **partitions** derived above to write parquet files to your local directory \n",
    ">\n",
    ">*You may use as many coding cells as necessary.*"
   ]
  },
  {
   "cell_type": "code",
   "execution_count": 18,
   "metadata": {},
   "outputs": [],
   "source": [
    "df_nasdaq.coalesce(partitions).write.format(\"parquet\").mode(\"append\").save(\"parquet/1962/data_ingestion.parquet\")"
   ]
  },
  {
   "cell_type": "code",
   "execution_count": 19,
   "metadata": {},
   "outputs": [],
   "source": [
    "spark.stop()"
   ]
  },
  {
   "cell_type": "code",
   "execution_count": null,
   "metadata": {},
   "outputs": [],
   "source": []
  }
 ],
 "metadata": {
  "celltoolbar": "Raw Cell Format",
  "interpreter": {
   "hash": "24a0a2ddc4dffcb168e507551dd24967ddc40ea2df7a72a200a74e0ae6d88beb"
  },
  "kernelspec": {
   "display_name": "Python 3",
   "language": "python",
   "name": "python3"
  },
  "language_info": {
   "codemirror_mode": {
    "name": "ipython",
    "version": 3
   },
   "file_extension": ".py",
   "mimetype": "text/x-python",
   "name": "python",
   "nbconvert_exporter": "python",
   "pygments_lexer": "ipython3",
   "version": "3.8.5"
  }
 },
 "nbformat": 4,
 "nbformat_minor": 2
}
