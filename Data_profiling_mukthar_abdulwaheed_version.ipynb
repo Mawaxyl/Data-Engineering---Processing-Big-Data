{
 "cells": [
  {
   "cell_type": "markdown",
   "metadata": {},
   "source": [
    "# Processing Big Data - Data profiling\n",
    "\n",
    "© Explore Data Science Academy\n",
    "\n",
    "## Honour Code\n",
    "I {**MUKTHAR**, **ABDULWAHEED**}, confirm - by submitting this document - that the solutions in this notebook are a result of my own work and that I abide by the [EDSA honour code](https://drive.google.com/file/d/1QDCjGZJ8-FmJE3bZdIQNwnJyQKPhHZBn/view?usp=sharing).\n",
    "    Non-compliance with the honour code constitutes a material breach of contract.\n",
    "\n",
    "## Context\n",
    "\n",
    "Having completed the first step - data ingestion, the data now needs to be thoroughly prepared so that it is readable, reliable and robust. As the Data Engineer in the team, this will be your responsibility. The Data Scientists are looking to you to clean this data so that model development and deployment become seamless when the data is used in a production environment. Having completed your Data Engineering course recently, your manager Gnissecorp Atadgid, asks you to create data summaries and perform checks using the six dimensions of data quality.\n",
    "\n",
    "<div align=\"center\" style=\"width: 600px; font-size: 80%; text-align: center; margin: 0 auto\">\n",
    "<img src=\"https://github.com/Explore-AI/Pictures/raw/master/data_engineering/transform/predict/DataQuality.jpg\"\n",
    "     alt=\"Data Quality\"\n",
    "     style=\"float: center; padding-bottom=0.5em\"\n",
    "     width=100%/>\n",
    "     <p><em>Figure 1. Six dimensions of data quality</em></p>\n",
    "</div>"
   ]
  },
  {
   "cell_type": "markdown",
   "metadata": {},
   "source": [
    "## Import libraries\n",
    "Below we import the libraries required to complete this section of the predict."
   ]
  },
  {
   "cell_type": "code",
   "execution_count": 2,
   "metadata": {},
   "outputs": [],
   "source": [
    "import pandas as pd\n",
    "import numpy as np\n",
    "import matplotlib.pyplot as plt\n",
    "\n",
    "from pyspark import SparkContext\n",
    "from pyspark.sql import SparkSession\n",
    "from pyspark.sql import functions as F\n",
    "from pyspark.sql.types import *"
   ]
  },
  {
   "cell_type": "markdown",
   "metadata": {},
   "source": [
    "Remember that we need a `SparkContext` and `SparkSession` to interface with Spark.\n",
    "We will mostly be using the `SparkContext` to interact with RDDs \n",
    "and the `SparkSession` to interface with Python objects.\n",
    "\n",
    "> ℹ️ **Instructions** ℹ️\n",
    ">\n",
    ">Initialise a new **Spark Context** and **Session** that you will use to interface with Spark."
   ]
  },
  {
   "cell_type": "code",
   "execution_count": 3,
   "metadata": {},
   "outputs": [],
   "source": [
    "from pyspark import SparkContext\n",
    "from pyspark.sql import SparkSession\n",
    "\n",
    "sc = SparkContext.getOrCreate()\n",
    "spark = SparkSession(sc)"
   ]
  },
  {
   "cell_type": "markdown",
   "metadata": {},
   "source": [
    "## Parquet files\n",
    "In the previous section of the predict, you generated parquet files to your local directory. You will be making use of these files to continue with this section of the predict. Please make sure that your parquet files are specifically for the year **1962**. Any other year used outside of **1962** will produce incorrect answers and have a negative impact on your overall predict mark.\n",
    "\n",
    "> ℹ️ **Instructions** ℹ️\n",
    ">\n",
    "> Read the parquet files stored in your directory for the year **1962** into a Spark DataFrame."
   ]
  },
  {
   "cell_type": "code",
   "execution_count": 5,
   "metadata": {},
   "outputs": [],
   "source": [
    "#TODO: Write your code here\n",
    "df = spark.read.parquet('parquet/1962/data_ingestion.parquet')"
   ]
  },
  {
   "cell_type": "code",
   "execution_count": 6,
   "metadata": {},
   "outputs": [
    {
     "name": "stdout",
     "output_type": "stream",
     "text": [
      "root\n",
      " |-- date: date (nullable = true)\n",
      " |-- open: float (nullable = true)\n",
      " |-- high: float (nullable = true)\n",
      " |-- low: float (nullable = true)\n",
      " |-- close: float (nullable = true)\n",
      " |-- adj_close: float (nullable = true)\n",
      " |-- volume: float (nullable = true)\n",
      " |-- stock: string (nullable = true)\n",
      "\n"
     ]
    }
   ],
   "source": [
    "#TODO: Write your code here\n",
    "df.printSchema()"
   ]
  },
  {
   "cell_type": "markdown",
   "metadata": {},
   "source": [
    "## Metadata \n",
    "\n",
    "Metadata is data containing additional information about the data itself. In the cloud storage, there is a metadata file called [`symbols_valid_meta.csv`](https://processing-big-data-predict-stocks-data.s3.eu-west-1.amazonaws.com/symbols_valid_meta.csv) that is collocated with the stock market data. You will need to download this to use when performing your data quality checks.\n",
    "\n",
    "> ℹ️ **Instructions** ℹ️\n",
    ">\n",
    "> Download the metadata from the S3 bucket and read it into a Spark DataFrame."
   ]
  },
  {
   "cell_type": "code",
   "execution_count": 8,
   "metadata": {},
   "outputs": [
    {
     "name": "stdout",
     "output_type": "stream",
     "text": [
      "+-------------+------+--------------------+----------------+---------------+---+--------------+----------+----------------+----------+-------------+----------+\n",
      "|Nasdaq Traded|Symbol|       Security Name|Listing Exchange|Market Category|ETF|Round Lot Size|Test Issue|Financial Status|CQS Symbol|NASDAQ Symbol|NextShares|\n",
      "+-------------+------+--------------------+----------------+---------------+---+--------------+----------+----------------+----------+-------------+----------+\n",
      "|            Y|     A|Agilent Technolog...|               N|               |  N|         100.0|         N|            null|         A|            A|         N|\n",
      "|            Y|    AA|Alcoa Corporation...|               N|               |  N|         100.0|         N|            null|        AA|           AA|         N|\n",
      "|            Y|  AAAU|Perth Mint Physic...|               P|               |  Y|         100.0|         N|            null|      AAAU|         AAAU|         N|\n",
      "|            Y|  AACG|ATA Creativity Gl...|               Q|              G|  N|         100.0|         N|               N|      null|         AACG|         N|\n",
      "|            Y|  AADR|AdvisorShares Dor...|               P|               |  Y|         100.0|         N|            null|      AADR|         AADR|         N|\n",
      "+-------------+------+--------------------+----------------+---------------+---+--------------+----------+----------------+----------+-------------+----------+\n",
      "only showing top 5 rows\n",
      "\n"
     ]
    }
   ],
   "source": [
    "meta_df = spark.read.csv('symbols_valid_meta.csv', header=True)\n",
    "meta_df.show(5)"
   ]
  },
  {
   "cell_type": "markdown",
   "metadata": {},
   "source": [
    "## Data Accuracy\n",
    "Data accuracy is the degree to which data correctly describes a \"real world\" object or event.\n",
    "\n",
    "It is important to do checks to determine the basic integrity of the dataset; do the values fall within expected ranges?\n",
    "\n",
    "Most of the possible errors relating to data accuracy can occur at collection time. In our case, it is not possible to test the collection time accuracy, so we have to infer from ranges and summary statistics. Here you need to look closely at each field to see if its values make sense, with no strange surprises.\n",
    "\n",
    "In assessing accuracy, it is important to look into precision as well. Do you need seven decimals, or will one or two suffice?\n",
    "\n",
    "- **Measured by**: The degree to which the data mirrors the characteristics of the real-world object or objects it represents;\n",
    "- **Units**: The percentage of data entries that pass the data accuracy rules;\n",
    "- **Related to**: Validity, Uniqueness, Consistency."
   ]
  },
  {
   "cell_type": "markdown",
   "metadata": {},
   "source": [
    "> ℹ️ **Instructions** ℹ️\n",
    ">\n",
    "> Generate summary statistics to explore your data. Make sure you understand the ranges, means, extremums, and deviations found in the data set."
   ]
  },
  {
   "cell_type": "code",
   "execution_count": 9,
   "metadata": {},
   "outputs": [
    {
     "data": {
      "text/html": [
       "<div>\n",
       "<style scoped>\n",
       "    .dataframe tbody tr th:only-of-type {\n",
       "        vertical-align: middle;\n",
       "    }\n",
       "\n",
       "    .dataframe tbody tr th {\n",
       "        vertical-align: top;\n",
       "    }\n",
       "\n",
       "    .dataframe thead th {\n",
       "        text-align: right;\n",
       "    }\n",
       "</style>\n",
       "<table border=\"1\" class=\"dataframe\">\n",
       "  <thead>\n",
       "    <tr style=\"text-align: right;\">\n",
       "      <th></th>\n",
       "      <th>summary</th>\n",
       "      <th>open</th>\n",
       "      <th>high</th>\n",
       "      <th>low</th>\n",
       "      <th>close</th>\n",
       "      <th>adj_close</th>\n",
       "      <th>volume</th>\n",
       "      <th>stock</th>\n",
       "    </tr>\n",
       "  </thead>\n",
       "  <tbody>\n",
       "    <tr>\n",
       "      <th>0</th>\n",
       "      <td>count</td>\n",
       "      <td>5106</td>\n",
       "      <td>5106</td>\n",
       "      <td>5064</td>\n",
       "      <td>5106</td>\n",
       "      <td>5085</td>\n",
       "      <td>5085</td>\n",
       "      <td>5106</td>\n",
       "    </tr>\n",
       "    <tr>\n",
       "      <th>1</th>\n",
       "      <td>mean</td>\n",
       "      <td>1.0904873526012002</td>\n",
       "      <td>16.757624946793637</td>\n",
       "      <td>15.728619917198033</td>\n",
       "      <td>16.64199179044607</td>\n",
       "      <td>5.986642513535306</td>\n",
       "      <td>540930.2458210423</td>\n",
       "      <td>None</td>\n",
       "    </tr>\n",
       "    <tr>\n",
       "      <th>2</th>\n",
       "      <td>stddev</td>\n",
       "      <td>2.36445352530491</td>\n",
       "      <td>53.91407348193546</td>\n",
       "      <td>51.32292289814399</td>\n",
       "      <td>53.54677139900802</td>\n",
       "      <td>24.64637054715319</td>\n",
       "      <td>864596.2440525505</td>\n",
       "      <td>None</td>\n",
       "    </tr>\n",
       "    <tr>\n",
       "      <th>3</th>\n",
       "      <td>min</td>\n",
       "      <td>0.0</td>\n",
       "      <td>0.0</td>\n",
       "      <td>0.052377883</td>\n",
       "      <td>0.053624976</td>\n",
       "      <td>4.0381454E-7</td>\n",
       "      <td>0.0</td>\n",
       "      <td>AA</td>\n",
       "    </tr>\n",
       "    <tr>\n",
       "      <th>4</th>\n",
       "      <td>max</td>\n",
       "      <td>20.0</td>\n",
       "      <td>287.5</td>\n",
       "      <td>282.5</td>\n",
       "      <td>285.0</td>\n",
       "      <td>127.45936</td>\n",
       "      <td>1.95456E7</td>\n",
       "      <td>XOM</td>\n",
       "    </tr>\n",
       "  </tbody>\n",
       "</table>\n",
       "</div>"
      ],
      "text/plain": [
       "  summary                open                high                 low  \\\n",
       "0   count                5106                5106                5064   \n",
       "1    mean  1.0904873526012002  16.757624946793637  15.728619917198033   \n",
       "2  stddev    2.36445352530491   53.91407348193546   51.32292289814399   \n",
       "3     min                 0.0                 0.0         0.052377883   \n",
       "4     max                20.0               287.5               282.5   \n",
       "\n",
       "               close          adj_close             volume stock  \n",
       "0               5106               5085               5085  5106  \n",
       "1  16.64199179044607  5.986642513535306  540930.2458210423  None  \n",
       "2  53.54677139900802  24.64637054715319  864596.2440525505  None  \n",
       "3        0.053624976       4.0381454E-7                0.0    AA  \n",
       "4              285.0          127.45936          1.95456E7   XOM  "
      ]
     },
     "execution_count": 9,
     "metadata": {},
     "output_type": "execute_result"
    }
   ],
   "source": [
    "#TODO: Write your code here\n",
    "df.describe().toPandas()"
   ]
  },
  {
   "cell_type": "code",
   "execution_count": 10,
   "metadata": {},
   "outputs": [
    {
     "data": {
      "text/html": [
       "<div>\n",
       "<style scoped>\n",
       "    .dataframe tbody tr th:only-of-type {\n",
       "        vertical-align: middle;\n",
       "    }\n",
       "\n",
       "    .dataframe tbody tr th {\n",
       "        vertical-align: top;\n",
       "    }\n",
       "\n",
       "    .dataframe thead th {\n",
       "        text-align: right;\n",
       "    }\n",
       "</style>\n",
       "<table border=\"1\" class=\"dataframe\">\n",
       "  <thead>\n",
       "    <tr style=\"text-align: right;\">\n",
       "      <th></th>\n",
       "      <th>summary</th>\n",
       "      <th>open</th>\n",
       "      <th>high</th>\n",
       "      <th>low</th>\n",
       "      <th>close</th>\n",
       "      <th>adj_close</th>\n",
       "      <th>volume</th>\n",
       "      <th>stock</th>\n",
       "    </tr>\n",
       "  </thead>\n",
       "  <tbody>\n",
       "    <tr>\n",
       "      <th>0</th>\n",
       "      <td>count</td>\n",
       "      <td>5106</td>\n",
       "      <td>5106</td>\n",
       "      <td>5064</td>\n",
       "      <td>5106</td>\n",
       "      <td>5085</td>\n",
       "      <td>5085</td>\n",
       "      <td>5106</td>\n",
       "    </tr>\n",
       "    <tr>\n",
       "      <th>1</th>\n",
       "      <td>mean</td>\n",
       "      <td>1.0904873526012002</td>\n",
       "      <td>16.757624946793637</td>\n",
       "      <td>15.728619917198033</td>\n",
       "      <td>16.64199179044607</td>\n",
       "      <td>5.986642513535306</td>\n",
       "      <td>540930.2458210423</td>\n",
       "      <td>None</td>\n",
       "    </tr>\n",
       "    <tr>\n",
       "      <th>2</th>\n",
       "      <td>stddev</td>\n",
       "      <td>2.36445352530491</td>\n",
       "      <td>53.91407348193546</td>\n",
       "      <td>51.32292289814399</td>\n",
       "      <td>53.54677139900802</td>\n",
       "      <td>24.64637054715319</td>\n",
       "      <td>864596.2440525505</td>\n",
       "      <td>None</td>\n",
       "    </tr>\n",
       "    <tr>\n",
       "      <th>3</th>\n",
       "      <td>min</td>\n",
       "      <td>0.0</td>\n",
       "      <td>0.0</td>\n",
       "      <td>0.052377883</td>\n",
       "      <td>0.053624976</td>\n",
       "      <td>4.0381454E-7</td>\n",
       "      <td>0.0</td>\n",
       "      <td>AA</td>\n",
       "    </tr>\n",
       "    <tr>\n",
       "      <th>4</th>\n",
       "      <td>25%</td>\n",
       "      <td>0.0</td>\n",
       "      <td>0.2454427</td>\n",
       "      <td>0.24348958</td>\n",
       "      <td>0.24739583</td>\n",
       "      <td>0.006592116</td>\n",
       "      <td>38400.0</td>\n",
       "      <td>None</td>\n",
       "    </tr>\n",
       "    <tr>\n",
       "      <th>5</th>\n",
       "      <td>50%</td>\n",
       "      <td>0.0</td>\n",
       "      <td>1.8046875</td>\n",
       "      <td>1.7851562</td>\n",
       "      <td>1.8007812</td>\n",
       "      <td>0.12449309</td>\n",
       "      <td>177600.0</td>\n",
       "      <td>None</td>\n",
       "    </tr>\n",
       "    <tr>\n",
       "      <th>6</th>\n",
       "      <td>75%</td>\n",
       "      <td>0.69547325</td>\n",
       "      <td>6.903353</td>\n",
       "      <td>6.7916665</td>\n",
       "      <td>6.8333335</td>\n",
       "      <td>0.7141595</td>\n",
       "      <td>734400.0</td>\n",
       "      <td>None</td>\n",
       "    </tr>\n",
       "    <tr>\n",
       "      <th>7</th>\n",
       "      <td>max</td>\n",
       "      <td>20.0</td>\n",
       "      <td>287.5</td>\n",
       "      <td>282.5</td>\n",
       "      <td>285.0</td>\n",
       "      <td>127.45936</td>\n",
       "      <td>1.95456E7</td>\n",
       "      <td>XOM</td>\n",
       "    </tr>\n",
       "  </tbody>\n",
       "</table>\n",
       "</div>"
      ],
      "text/plain": [
       "  summary                open                high                 low  \\\n",
       "0   count                5106                5106                5064   \n",
       "1    mean  1.0904873526012002  16.757624946793637  15.728619917198033   \n",
       "2  stddev    2.36445352530491   53.91407348193546   51.32292289814399   \n",
       "3     min                 0.0                 0.0         0.052377883   \n",
       "4     25%                 0.0           0.2454427          0.24348958   \n",
       "5     50%                 0.0           1.8046875           1.7851562   \n",
       "6     75%          0.69547325            6.903353           6.7916665   \n",
       "7     max                20.0               287.5               282.5   \n",
       "\n",
       "               close          adj_close             volume stock  \n",
       "0               5106               5085               5085  5106  \n",
       "1  16.64199179044607  5.986642513535306  540930.2458210423  None  \n",
       "2  53.54677139900802  24.64637054715319  864596.2440525505  None  \n",
       "3        0.053624976       4.0381454E-7                0.0    AA  \n",
       "4         0.24739583        0.006592116            38400.0  None  \n",
       "5          1.8007812         0.12449309           177600.0  None  \n",
       "6          6.8333335          0.7141595           734400.0  None  \n",
       "7              285.0          127.45936          1.95456E7   XOM  "
      ]
     },
     "execution_count": 10,
     "metadata": {},
     "output_type": "execute_result"
    }
   ],
   "source": [
    "df.summary().toPandas()"
   ]
  },
  {
   "cell_type": "markdown",
   "metadata": {},
   "source": [
    "> ℹ️ **Instructions** ℹ️\n",
    ">\n",
    "> Generate histograms for the six numerical attributes found in the data to understand the distribution of values.\n",
    ">\n",
    ">*You may use as many coding cells as necessary.*"
   ]
  },
  {
   "cell_type": "code",
   "execution_count": 11,
   "metadata": {},
   "outputs": [
    {
     "name": "stdout",
     "output_type": "stream",
     "text": [
      "+----------+---------+----------+----------+---------+-----------+--------+-----+\n",
      "|      date|     open|      high|       low|    close|  adj_close|  volume|stock|\n",
      "+----------+---------+----------+----------+---------+-----------+--------+-----+\n",
      "|1962-02-19|  5.83929|  5.907375|   5.83929|  5.86332|  1.3863293| 29900.0|   AA|\n",
      "|1962-02-19| 5.481634|  5.528486|  5.481634|5.5167727|  1.2804527| 32000.0| ARNC|\n",
      "|1962-02-19|0.9074074|0.91563785|0.89917696|0.9032922| 0.16141544|619400.0|   BA|\n",
      "|1962-02-19|1.6770834| 1.6927084| 1.6614584|1.6770834|  0.1440587|170400.0|  CAT|\n",
      "|1962-02-19|      0.0|  3.578869|      20.0| 3.549107|0.056501225|273600.0|  CVX|\n",
      "+----------+---------+----------+----------+---------+-----------+--------+-----+\n",
      "only showing top 5 rows\n",
      "\n"
     ]
    }
   ],
   "source": [
    "#TODO: Write your code here\n",
    "df.show(5)"
   ]
  },
  {
   "cell_type": "code",
   "execution_count": 12,
   "metadata": {},
   "outputs": [
    {
     "data": {
      "image/png": "[encoded data removed]",
      "text/plain": [
       "<Figure size 432x288 with 1 Axes>"
      ]
     },
     "metadata": {
      "needs_background": "light"
     },
     "output_type": "display_data"
    },
    {
     "data": {
      "image/png": "[encoded data removed]",
      "text/plain": [
       "<Figure size 432x288 with 1 Axes>"
      ]
     },
     "metadata": {
      "needs_background": "light"
     },
     "output_type": "display_data"
    },
    {
     "data": {
      "image/png": "[encoded data removed]",
      "text/plain": [
       "<Figure size 432x288 with 1 Axes>"
      ]
     },
     "metadata": {
      "needs_background": "light"
     },
     "output_type": "display_data"
    },
    {
     "data": {
      "image/png": "[encoded data removed]",
      "text/plain": [
       "<Figure size 432x288 with 1 Axes>"
      ]
     },
     "metadata": {
      "needs_background": "light"
     },
     "output_type": "display_data"
    },
    {
     "data": {
      "image/png": "[encoded data removed]",
      "text/plain": [
       "<Figure size 432x288 with 1 Axes>"
      ]
     },
     "metadata": {
      "needs_background": "light"
     },
     "output_type": "display_data"
    },
    {
     "data": {
      "image/png": "[encoded data removed]",
      "text/plain": [
       "<Figure size 432x288 with 1 Axes>"
      ]
     },
     "metadata": {
      "needs_background": "light"
     },
     "output_type": "display_data"
    }
   ],
   "source": [
    "import math\n",
    "columns = df.columns\n",
    "columns\n",
    "for i in columns:\n",
    "    if columns.index(i) > 0 and columns.index(i) < 7:\n",
    "        hist_df = df.select(i).toPandas()\n",
    "        #using Surge's rule\n",
    "        obs_count = len(hist_df)\n",
    "        bin_value = 1 + (3.322*math.log(obs_count))\n",
    "        # to plot histogram\n",
    "        plt.hist(hist_df, bins=int(bin_value))\n",
    "        plt.title(i)\n",
    "        plt.xlabel(i)\n",
    "        plt.ylabel('Value')\n",
    "        plt.show()"
   ]
  },
  {
   "cell_type": "markdown",
   "metadata": {},
   "source": [
    "> ℹ️ **Instructions** ℹ️\n",
    ">\n",
    "> Investigate the **open** column to identify stocks that have open values greater than 2, and note any anomalies that you find in the data.\n",
    ">\n",
    ">*You may use as many coding cells as necessary.*"
   ]
  },
  {
   "cell_type": "code",
   "execution_count": 13,
   "metadata": {},
   "outputs": [
    {
     "name": "stdout",
     "output_type": "stream",
     "text": [
      "+----------+---------+---------+---------+---------+----------+--------+-----+\n",
      "|      date|     open|     high|      low|    close| adj_close|  volume|stock|\n",
      "+----------+---------+---------+---------+---------+----------+--------+-----+\n",
      "|1962-02-19|  5.83929| 5.907375|  5.83929|  5.86332| 1.3863293| 29900.0|   AA|\n",
      "|1962-02-19| 5.481634| 5.528486| 5.481634|5.5167727| 1.2804527| 32000.0| ARNC|\n",
      "|1962-02-19|     7.26|7.2933335| 7.173333|7.1866665| 0.5825691|280000.0|  IBM|\n",
      "|1962-02-14|  5.83929|  5.83929| 5.747175|  5.80725| 1.3730713| 56500.0|   AA|\n",
      "|1962-02-14| 5.481634| 5.481634| 5.399644|5.4347825| 1.2614225| 60400.0| ARNC|\n",
      "|1962-02-14| 7.306667|7.3333335|     7.28|7.2933335|0.59121627|208000.0|  IBM|\n",
      "|1962-02-13|  5.85531| 5.915385|  5.85531|  5.86332| 1.3863293| 62500.0|   AA|\n",
      "|1962-02-13|  5.50506| 5.540199|  5.50506|5.5167727| 1.2804527| 66800.0| ARNC|\n",
      "|1962-02-13|7.4266667|7.4333334| 7.306667| 7.306667|0.59229714|256000.0|  IBM|\n",
      "|1962-02-26|  6.05556| 6.107625| 5.955435| 6.107625| 1.4440926| 82500.0|   AA|\n",
      "|1962-02-26|5.6924663| 5.715892| 5.598763| 5.715892| 1.3266692| 88100.0| ARNC|\n",
      "|1962-02-26|     7.16|7.1666665|     7.12| 7.133333|  0.578246|299200.0|  IBM|\n",
      "|1962-02-06| 5.915385| 5.915385|  5.82327|  5.85531| 1.3844348| 40500.0|   AA|\n",
      "|1962-02-06| 5.540199| 5.540199|5.4582086|  5.50506| 1.2777345| 43300.0| ARNC|\n",
      "|1962-02-06| 7.346667|     7.36|     7.32|7.3533335|0.59607965|256000.0|  IBM|\n",
      "|1962-02-02| 5.931405| 5.955435| 5.907375| 5.915385| 1.3915651| 30500.0|   AA|\n",
      "|1962-02-02|5.5636244| 5.598763| 5.528486| 5.540199| 1.2794067| 32600.0| ARNC|\n",
      "|1962-02-02|7.3933334|     7.44|     7.36|     7.44| 0.6030228|507200.0|  IBM|\n",
      "|1962-02-16| 5.739165|  5.83128| 5.739165|  5.83128| 1.3787535| 55900.0|   AA|\n",
      "|1962-02-16| 5.387931| 5.469921| 5.387931| 5.469921| 1.2695786| 59700.0| ARNC|\n",
      "+----------+---------+---------+---------+---------+----------+--------+-----+\n",
      "only showing top 20 rows\n",
      "\n"
     ]
    }
   ],
   "source": [
    "df.where(df['open'] > 2).show()"
   ]
  },
  {
   "cell_type": "code",
   "execution_count": 14,
   "metadata": {},
   "outputs": [
    {
     "name": "stdout",
     "output_type": "stream",
     "text": [
      "+-----+-----+\n",
      "|stock|count|\n",
      "+-----+-----+\n",
      "|   AA|  252|\n",
      "|ARNCA|   21|\n",
      "|   PG|   23|\n",
      "|  IBM|  252|\n",
      "| ARNC|  231|\n",
      "+-----+-----+\n",
      "\n"
     ]
    }
   ],
   "source": [
    "df.where(df['open'] > 2).groupby(df['stock']).count().show()"
   ]
  },
  {
   "cell_type": "markdown",
   "metadata": {},
   "source": [
    " ## 📔️**Notes** 📔️\n",
    "\n",
    " *Use this cell to note down any potential findings.*\n",
    "\n",
    " 1.\n",
    " 2.\n",
    "    ...\n",
    " "
   ]
  },
  {
   "cell_type": "markdown",
   "metadata": {},
   "source": [
    "> ℹ️ **Instructions** ℹ️\n",
    ">\n",
    "> Investigate **high**, **low**, **close**, and **adj_close** to determine if any stocks may be deviating from the normal ranges of the data set. Note down the stock(s) that you come across.\n",
    ">\n",
    ">*You may use as many coding cells as necessary.*"
   ]
  },
  {
   "cell_type": "code",
   "execution_count": 15,
   "metadata": {},
   "outputs": [
    {
     "name": "stdout",
     "output_type": "stream",
     "text": [
      "+----------+----+-------+-------+-------+----------+------+-----+\n",
      "|      date|open|   high|    low|  close| adj_close|volume|stock|\n",
      "+----------+----+-------+-------+-------+----------+------+-----+\n",
      "|1962-02-19| 0.0|  280.0|276.875|279.375| 124.94374| 600.0|  NAV|\n",
      "|1962-02-14| 0.0|276.875|273.125| 273.75| 122.42809| 800.0|  NAV|\n",
      "|1962-02-13| 0.0|  277.5|  275.0| 276.25| 123.54612|1000.0|  NAV|\n",
      "|1962-02-26| 0.0|279.375| 276.25|279.375| 124.94374| 700.0|  NAV|\n",
      "|1962-02-06| 0.0|271.875|268.125| 271.25| 121.31004|1600.0|  NAV|\n",
      "|1962-02-02| 0.0| 266.25| 263.75| 266.25|119.073845| 800.0|  NAV|\n",
      "|1962-02-16| 0.0|  277.5|274.375|  277.5| 124.10516|1400.0|  NAV|\n",
      "|1962-02-27| 0.0|  280.0| 278.75|  280.0|  125.2233| 600.0|  NAV|\n",
      "|1962-02-12| 0.0| 276.25|274.375| 276.25| 123.54612| 700.0|  NAV|\n",
      "|1962-02-20| 0.0|  280.0|276.875|279.375| 124.94374|1000.0|  NAV|\n",
      "+----------+----+-------+-------+-------+----------+------+-----+\n",
      "only showing top 10 rows\n",
      "\n"
     ]
    }
   ],
   "source": [
    "df.where(~df['high'].between(0, 60)).show(10)"
   ]
  },
  {
   "cell_type": "code",
   "execution_count": 16,
   "metadata": {},
   "outputs": [
    {
     "name": "stdout",
     "output_type": "stream",
     "text": [
      "+-----+-----+\n",
      "|stock|count|\n",
      "+-----+-----+\n",
      "|  NAV|  252|\n",
      "+-----+-----+\n",
      "\n"
     ]
    }
   ],
   "source": [
    "df.where(~df['high'].between(0,60)).groupby(df['stock']).count().show()"
   ]
  },
  {
   "cell_type": "code",
   "execution_count": 17,
   "metadata": {},
   "outputs": [
    {
     "name": "stdout",
     "output_type": "stream",
     "text": [
      "+----------+----+-------+-------+-------+----------+------+-----+\n",
      "|      date|open|   high|    low|  close| adj_close|volume|stock|\n",
      "+----------+----+-------+-------+-------+----------+------+-----+\n",
      "|1962-02-19| 0.0|  280.0|276.875|279.375| 124.94374| 600.0|  NAV|\n",
      "|1962-02-14| 0.0|276.875|273.125| 273.75| 122.42809| 800.0|  NAV|\n",
      "|1962-02-13| 0.0|  277.5|  275.0| 276.25| 123.54612|1000.0|  NAV|\n",
      "|1962-02-26| 0.0|279.375| 276.25|279.375| 124.94374| 700.0|  NAV|\n",
      "|1962-02-06| 0.0|271.875|268.125| 271.25| 121.31004|1600.0|  NAV|\n",
      "|1962-02-02| 0.0| 266.25| 263.75| 266.25|119.073845| 800.0|  NAV|\n",
      "|1962-02-16| 0.0|  277.5|274.375|  277.5| 124.10516|1400.0|  NAV|\n",
      "|1962-02-27| 0.0|  280.0| 278.75|  280.0|  125.2233| 600.0|  NAV|\n",
      "|1962-02-12| 0.0| 276.25|274.375| 276.25| 123.54612| 700.0|  NAV|\n",
      "|1962-02-20| 0.0|  280.0|276.875|279.375| 124.94374|1000.0|  NAV|\n",
      "+----------+----+-------+-------+-------+----------+------+-----+\n",
      "only showing top 10 rows\n",
      "\n"
     ]
    }
   ],
   "source": [
    "df.where(~df['low'].between(0, 60)).show(10)"
   ]
  },
  {
   "cell_type": "code",
   "execution_count": 18,
   "metadata": {},
   "outputs": [
    {
     "name": "stdout",
     "output_type": "stream",
     "text": [
      "+-----+-----+\n",
      "|stock|count|\n",
      "+-----+-----+\n",
      "|  NAV|  232|\n",
      "+-----+-----+\n",
      "\n"
     ]
    }
   ],
   "source": [
    "df.where(~df['low'].between(0,60)).groupby(df['stock']).count().show()"
   ]
  },
  {
   "cell_type": "code",
   "execution_count": 19,
   "metadata": {},
   "outputs": [
    {
     "name": "stdout",
     "output_type": "stream",
     "text": [
      "+----------+----+-------+-------+-------+----------+------+-----+\n",
      "|      date|open|   high|    low|  close| adj_close|volume|stock|\n",
      "+----------+----+-------+-------+-------+----------+------+-----+\n",
      "|1962-02-19| 0.0|  280.0|276.875|279.375| 124.94374| 600.0|  NAV|\n",
      "|1962-02-14| 0.0|276.875|273.125| 273.75| 122.42809| 800.0|  NAV|\n",
      "|1962-02-13| 0.0|  277.5|  275.0| 276.25| 123.54612|1000.0|  NAV|\n",
      "|1962-02-26| 0.0|279.375| 276.25|279.375| 124.94374| 700.0|  NAV|\n",
      "|1962-02-06| 0.0|271.875|268.125| 271.25| 121.31004|1600.0|  NAV|\n",
      "|1962-02-02| 0.0| 266.25| 263.75| 266.25|119.073845| 800.0|  NAV|\n",
      "|1962-02-16| 0.0|  277.5|274.375|  277.5| 124.10516|1400.0|  NAV|\n",
      "|1962-02-27| 0.0|  280.0| 278.75|  280.0|  125.2233| 600.0|  NAV|\n",
      "|1962-02-12| 0.0| 276.25|274.375| 276.25| 123.54612| 700.0|  NAV|\n",
      "|1962-02-20| 0.0|  280.0|276.875|279.375| 124.94374|1000.0|  NAV|\n",
      "+----------+----+-------+-------+-------+----------+------+-----+\n",
      "only showing top 10 rows\n",
      "\n"
     ]
    }
   ],
   "source": [
    "df.where(~df['close'].between(0, 60)).show(10)"
   ]
  },
  {
   "cell_type": "code",
   "execution_count": 20,
   "metadata": {},
   "outputs": [
    {
     "name": "stdout",
     "output_type": "stream",
     "text": [
      "+-----+-----+\n",
      "|stock|count|\n",
      "+-----+-----+\n",
      "|  NAV|  252|\n",
      "+-----+-----+\n",
      "\n"
     ]
    }
   ],
   "source": [
    "df.where(~df['close'].between(0, 60)).groupby(df['stock']).count().show()"
   ]
  },
  {
   "cell_type": "code",
   "execution_count": 21,
   "metadata": {},
   "outputs": [
    {
     "name": "stdout",
     "output_type": "stream",
     "text": [
      "+----------+----+-------+-------+-------+----------+------+-----+\n",
      "|      date|open|   high|    low|  close| adj_close|volume|stock|\n",
      "+----------+----+-------+-------+-------+----------+------+-----+\n",
      "|1962-02-19| 0.0|29.9375|  29.75|29.9375|0.49964145|1600.0|  DTE|\n",
      "|1962-02-19| 0.0|  280.0|276.875|279.375| 124.94374| 600.0|  NAV|\n",
      "|1962-02-14| 0.0|30.1875|29.6875| 29.875| 0.4985984|2000.0|  DTE|\n",
      "|1962-02-14| 0.0|276.875|273.125| 273.75| 122.42809| 800.0|  NAV|\n",
      "|1962-02-13| 0.0|30.3125| 29.875|  30.25|0.50485736|8400.0|  DTE|\n",
      "|1962-02-13| 0.0|  277.5|  275.0| 276.25| 123.54612|1000.0|  NAV|\n",
      "|1962-02-26| 0.0|29.9375|  29.75|29.9375|0.49964145|2000.0|  DTE|\n",
      "|1962-02-26| 0.0|279.375| 276.25|279.375| 124.94374| 700.0|  NAV|\n",
      "|1962-02-06| 0.0|  28.75|28.5625| 28.625|0.47773674|4400.0|  DTE|\n",
      "|1962-02-06| 0.0|271.875|268.125| 271.25| 121.31004|1600.0|  NAV|\n",
      "+----------+----+-------+-------+-------+----------+------+-----+\n",
      "only showing top 10 rows\n",
      "\n"
     ]
    }
   ],
   "source": [
    "df.where(~df['close'].between(0, 15)).show(10)"
   ]
  },
  {
   "cell_type": "code",
   "execution_count": 22,
   "metadata": {},
   "outputs": [
    {
     "name": "stdout",
     "output_type": "stream",
     "text": [
      "+-----+-----+\n",
      "|stock|count|\n",
      "+-----+-----+\n",
      "|  NAV|  252|\n",
      "+-----+-----+\n",
      "\n"
     ]
    }
   ],
   "source": [
    "df.where(~df['adj_close'].between(0, 15)).groupby(df['stock']).count().show()"
   ]
  },
  {
   "cell_type": "markdown",
   "metadata": {},
   "source": [
    " ## 📔️**Notes** 📔️\n",
    "\n",
    " *Use this cell to note down any potential findings.*\n",
    "\n",
    " 1.\n",
    " 2.\n",
    "    ..."
   ]
  },
  {
   "cell_type": "markdown",
   "metadata": {},
   "source": [
    "\n",
    "\n",
    "## Completeness\n",
    "\n",
    "Completeness is the proportion of stored data against the potential of “100% complete\". This is the degree to which the required data is in the dataset. \n",
    "\n",
    "Does the dataset have missing values, or if it is time-series data, does it have time period gaps? Has a bias been introduced that may change your assumptions or affect your results?\n",
    "\n",
    "Completeness issues can occur at the row level (gaps within the dataset) or the field level (one entry missing). At the field level, entire fields can being empty, or >80% of a field's data missing. \n",
    "\n",
    "Another issue that may occur is default values. A typical example of this is where a logger sends back a 0 instead of a null value, which can greatly skew any attempts at modelling. This is where it is instrumental to employ domain knowledge when assessing a dataset. \n",
    "\n",
    "- **Measured by**: A measure of the absence of blank (null) values or the presence of non-blank values;\n",
    "- **Units**: Percentage;\n",
    "- **Related to**: Validity and Accuracy."
   ]
  },
  {
   "cell_type": "markdown",
   "metadata": {},
   "source": [
    "### Missing values\n",
    "\n",
    "> ℹ️ **Instructions** ℹ️\n",
    ">\n",
    "> Write code to identify and count the number of missing values (nulls) in the dataset. Include a percentage to describe the proportion of missing values per column. Output the results in the following manner:\n",
    ">\n",
    "> `There are <number_of_missing_values> (<percentage>) null values in <column_name> column`\n",
    ">\n",
    ">*You may use as many coding cells as necessary.*"
   ]
  },
  {
   "cell_type": "code",
   "execution_count": 23,
   "metadata": {},
   "outputs": [
    {
     "name": "stdout",
     "output_type": "stream",
     "text": [
      "There are 0 (0.0%) null values in date column\n",
      "There are 0 (0.0%) null values in open column\n",
      "There are 0 (0.0%) null values in high column\n",
      "There are 42 (0.82%) null values in low column\n",
      "There are 0 (0.0%) null values in close column\n",
      "There are 21 (0.41%) null values in adj_close column\n",
      "There are 21 (0.41%) null values in volume column\n",
      "There are 0 (0.0%) null values in stock column\n"
     ]
    }
   ],
   "source": [
    "for col in df.columns:\n",
    "    null_count = df.where(df[col].isNull()).count()\n",
    "    total = df.select(df[col]).count()\n",
    "    percentage = round((null_count/total)*100, 2)\n",
    "    print((\"There are {} ({}%) null values in {} column\").format(null_count, percentage, col))"
   ]
  },
  {
   "cell_type": "markdown",
   "metadata": {},
   "source": [
    "### Columns with missing values"
   ]
  },
  {
   "cell_type": "markdown",
   "metadata": {},
   "source": [
    "\n",
    "> ℹ️ **Instructions** ℹ️\n",
    ">\n",
    "> From the above result, probe the columns that are affected by the missing data to find out which stocks were affected.\n",
    ">\n",
    ">*You may use as many coding cells as necessary.*"
   ]
  },
  {
   "cell_type": "code",
   "execution_count": 24,
   "metadata": {},
   "outputs": [
    {
     "name": "stdout",
     "output_type": "stream",
     "text": [
      "+----------+---------+---------+----+---------+----------+--------+-----+\n",
      "|      date|     open|     high| low|    close| adj_close|  volume|stock|\n",
      "+----------+---------+---------+----+---------+----------+--------+-----+\n",
      "|1962-12-03|      0.0|    247.5|null|    247.5|  114.7004|   500.0|  NAV|\n",
      "|1962-12-20|      0.0|   241.25|null|  239.375|112.296135|   600.0|  NAV|\n",
      "|1962-12-21|      0.0|  243.125|null|    242.5| 113.76213|   500.0|  NAV|\n",
      "|1962-03-20|1.6666666|1.6979166|null|1.6979166|0.14584826|177600.0|  CAT|\n",
      "|1962-03-14|1.6302084|1.6614584|null|1.6614584|0.14271663|117600.0|  CAT|\n",
      "|1962-12-31|      0.0|  250.625|null|   248.75| 116.69414|   600.0|  NAV|\n",
      "|1962-12-28|      0.0|  249.375|null|  248.125| 116.40094|   300.0|  NAV|\n",
      "|1962-03-22|1.6666666|1.6927084|null|1.6822916|0.14450607|268800.0|  CAT|\n",
      "|1962-12-18|      0.0|   238.75|null|   236.25|  110.8301|   900.0|  NAV|\n",
      "|1962-03-19|1.6614584|1.6822916|null|1.6614584|0.14271663|105600.0|  CAT|\n",
      "|1962-12-19|      0.0|    240.0|null|    240.0|112.589325|   700.0|  NAV|\n",
      "|1962-12-27|      0.0|  248.125|null|  248.125| 116.40094|   600.0|  NAV|\n",
      "|1962-03-15|1.6614584|1.6614584|null|1.6458334|0.14137442|139200.0|  CAT|\n",
      "|1962-03-13|1.6145834|1.6354166|null|    1.625|0.13958487|141600.0|  CAT|\n",
      "|1962-03-01|1.6822916| 1.703125|null|1.6822916|0.14450607| 74400.0|  CAT|\n",
      "|1962-03-27| 1.671875|1.6770834|null| 1.671875|0.14361136|112800.0|  CAT|\n",
      "|1962-12-24|      0.0|    245.0|null|  244.375| 114.64173|   500.0|  NAV|\n",
      "|1962-03-16|1.6458334|1.6614584|null|1.6614584|0.14271663| 79200.0|  CAT|\n",
      "|1962-03-30|1.6822916| 1.703125|null| 1.703125|0.14629564| 86400.0|  CAT|\n",
      "|1962-12-26|      0.0|  246.875|null|   246.25|115.521324|   500.0|  NAV|\n",
      "+----------+---------+---------+----+---------+----------+--------+-----+\n",
      "only showing top 20 rows\n",
      "\n"
     ]
    }
   ],
   "source": [
    "df.where(df['low'].isNull()).show()"
   ]
  },
  {
   "cell_type": "code",
   "execution_count": 25,
   "metadata": {},
   "outputs": [
    {
     "name": "stdout",
     "output_type": "stream",
     "text": [
      "+----------+----+---------+---------+---------+---------+--------+-----+\n",
      "|      date|open|     high|      low|    close|adj_close|  volume|stock|\n",
      "+----------+----+---------+---------+---------+---------+--------+-----+\n",
      "|1962-06-12| 0.0|5.6666665|5.6041665|5.6041665|     null| 50400.0|   FL|\n",
      "|1962-06-06| 0.0|    5.875|  5.65625|5.8333335|     null|109200.0|   FL|\n",
      "|1962-06-07| 0.0|  5.84375|5.7291665|5.7291665|     null| 36000.0|   FL|\n",
      "|1962-06-18| 0.0|5.6666665|      5.5|   5.5625|     null| 42000.0|   FL|\n",
      "|1962-06-15| 0.0|5.6666665|5.4583335|5.6666665|     null| 64800.0|   FL|\n",
      "|1962-06-22| 0.0|5.3645835|5.2916665|5.2916665|     null| 67200.0|   FL|\n",
      "|1962-06-19| 0.0|      5.5|5.4791665|5.4791665|     null| 19200.0|   FL|\n",
      "|1962-06-21| 0.0|  5.46875|5.4166665|5.4166665|     null| 49200.0|   FL|\n",
      "|1962-06-20| 0.0|  5.53125|5.4583335|5.4583335|     null| 34800.0|   FL|\n",
      "|1962-06-01| 0.0|5.8333335|     5.75|5.7916665|     null| 49200.0|   FL|\n",
      "|1962-06-11| 0.0|5.7083335|5.6458335|5.6458335|     null|  8400.0|   FL|\n",
      "|1962-06-05| 0.0|5.6666665|  5.59375|5.6145835|     null| 52800.0|   FL|\n",
      "|1962-06-04| 0.0|5.7708335|5.6458335|5.6666665|     null| 68400.0|   FL|\n",
      "|1962-06-28| 0.0|  5.46875|5.3333335|5.4583335|     null| 26400.0|   FL|\n",
      "|1962-06-08| 0.0|5.7916665|5.6458335|5.6458335|     null| 20400.0|   FL|\n",
      "|1962-06-27| 0.0|  5.40625|   5.3125|5.3541665|     null| 51600.0|   FL|\n",
      "|1962-06-26| 0.0|   5.4375|  5.34375|5.3645835|     null| 56400.0|   FL|\n",
      "|1962-06-25| 0.0|   5.3125|5.2083335|     5.25|     null| 90000.0|   FL|\n",
      "|1962-06-14| 0.0|5.5833335|5.5208335|5.5208335|     null| 48000.0|   FL|\n",
      "|1962-06-29| 0.0|      5.5|    5.375|    5.375|     null| 28800.0|   FL|\n",
      "+----------+----+---------+---------+---------+---------+--------+-----+\n",
      "only showing top 20 rows\n",
      "\n"
     ]
    }
   ],
   "source": [
    "df.where(df['adj_close'].isNull()).show()"
   ]
  },
  {
   "cell_type": "code",
   "execution_count": 26,
   "metadata": {},
   "outputs": [
    {
     "name": "stdout",
     "output_type": "stream",
     "text": [
      "+----------+----+----------+----------+----------+------------+------+-----+\n",
      "|      date|open|      high|       low|     close|   adj_close|volume|stock|\n",
      "+----------+----+----------+----------+----------+------------+------+-----+\n",
      "|1962-07-20| 0.0| 0.1730324| 0.1724537| 0.1724537| 4.874888E-7|  null|  JNJ|\n",
      "|1962-07-25| 0.0| 0.1724537|0.16435185|0.16435185|4.6458675E-7|  null|  JNJ|\n",
      "|1962-07-03| 0.0|0.18171297|0.17824075|0.18171297| 5.136628E-7|  null|  JNJ|\n",
      "|1962-07-09| 0.0|0.17708333|0.17708333|0.17708333|5.0057577E-7|  null|  JNJ|\n",
      "|1962-07-17| 0.0|0.17766203|0.17766203|0.17766203| 5.022119E-7|  null|  JNJ|\n",
      "|1962-07-18| 0.0|0.17534722|0.17418982|0.17418982| 4.923964E-7|  null|  JNJ|\n",
      "|1962-07-27| 0.0| 0.1701389|0.16898148|0.16956018|4.7930956E-7|  null|  JNJ|\n",
      "|1962-07-31| 0.0|0.17274305| 0.1712963|0.17274305| 4.883069E-7|  null|  JNJ|\n",
      "|1962-07-02| 0.0|0.18229167|0.17650463|0.18229167|5.1529855E-7|  null|  JNJ|\n",
      "|1962-07-16| 0.0|0.17881945|0.17766203|0.17766203| 5.022119E-7|  null|  JNJ|\n",
      "|1962-07-11| 0.0|0.17592593| 0.1724537|0.17418982| 4.923964E-7|  null|  JNJ|\n",
      "|1962-07-24| 0.0| 0.1701389|0.16319445|0.16319445|4.6131473E-7|  null|  JNJ|\n",
      "|1962-07-13| 0.0|0.18113425|0.17592593|0.18113425| 5.120267E-7|  null|  JNJ|\n",
      "|1962-07-19| 0.0| 0.1736111| 0.1724537| 0.1724537| 4.874888E-7|  null|  JNJ|\n",
      "|1962-07-06| 0.0|0.18055555|0.17476852|0.17476852| 4.940323E-7|  null|  JNJ|\n",
      "|1962-07-12| 0.0|0.18113425|0.17592593|0.17881945| 5.054835E-7|  null|  JNJ|\n",
      "|1962-07-26| 0.0|0.16956018|0.16608797|0.16956018|4.7930956E-7|  null|  JNJ|\n",
      "|1962-07-05| 0.0|0.18229167|0.17939815|0.18229167|5.1529855E-7|  null|  JNJ|\n",
      "|1962-07-30| 0.0|0.16898148|0.16782407|0.16898148| 4.776736E-7|  null|  JNJ|\n",
      "|1962-07-23| 0.0| 0.1730324| 0.1707176| 0.1707176| 4.825813E-7|  null|  JNJ|\n",
      "+----------+----+----------+----------+----------+------------+------+-----+\n",
      "only showing top 20 rows\n",
      "\n"
     ]
    }
   ],
   "source": [
    "df.where(df['volume'].isNull()).show()"
   ]
  },
  {
   "cell_type": "code",
   "execution_count": 27,
   "metadata": {},
   "outputs": [
    {
     "name": "stdout",
     "output_type": "stream",
     "text": [
      "+-----+-----+\n",
      "|stock|count|\n",
      "+-----+-----+\n",
      "|  CAT|   22|\n",
      "|  NAV|   20|\n",
      "+-----+-----+\n",
      "\n"
     ]
    }
   ],
   "source": [
    "df.where(df['low'].isNull()).groupby(df['stock']).count().show()"
   ]
  },
  {
   "cell_type": "code",
   "execution_count": 28,
   "metadata": {},
   "outputs": [
    {
     "name": "stdout",
     "output_type": "stream",
     "text": [
      "+-----+-----+\n",
      "|stock|count|\n",
      "+-----+-----+\n",
      "|   FL|   21|\n",
      "+-----+-----+\n",
      "\n"
     ]
    }
   ],
   "source": [
    "df.where(df['adj_close'].isNull()).groupby(df['stock']).count().show()"
   ]
  },
  {
   "cell_type": "code",
   "execution_count": 29,
   "metadata": {},
   "outputs": [
    {
     "name": "stdout",
     "output_type": "stream",
     "text": [
      "+-----+-----+\n",
      "|stock|count|\n",
      "+-----+-----+\n",
      "|  JNJ|   21|\n",
      "+-----+-----+\n",
      "\n"
     ]
    }
   ],
   "source": [
    "df.where(df['volume'].isNull()).groupby(df['stock']).count().show()"
   ]
  },
  {
   "cell_type": "markdown",
   "metadata": {},
   "source": [
    "#### Fix Completeness\n",
    "\n",
    "How do we deal with incomplete data?\n",
    "- Dropping missing values\n",
    "- Discard the incomplete column\n",
    "- Discard the rows containing missing data\n",
    "- Case deletion\n",
    "\n",
    "> ℹ️ **Instructions** ℹ️\n",
    ">\n",
    "> Use the appropriate strategy to remedy the missing data. \n",
    ">\n",
    ">*You may use as many coding cells as necessary.*"
   ]
  },
  {
   "cell_type": "code",
   "execution_count": 30,
   "metadata": {},
   "outputs": [],
   "source": [
    "#TODO: Write your code here\n",
    "df = df.na.drop()"
   ]
  },
  {
   "cell_type": "markdown",
   "metadata": {},
   "source": [
    "### Zero Values\n",
    "\n",
    "Take a deeper look into the entries with many zero values."
   ]
  },
  {
   "cell_type": "markdown",
   "metadata": {},
   "source": [
    "#### Fix Completeness\n",
    "\n",
    "Completeness issues can be fixed through imputation of the missing data through:\n",
    "- imputation by mean/mode/median;\n",
    "- regression; or\n",
    "- KNN.\n",
    " \n",
    "> ℹ️ **Instructions** ℹ️\n",
    ">\n",
    "> Write code to identify and count the number of zeros (0) in the dataset. Include a percentage to describe the proportion of missing values per column. Output the results in the following manner:\n",
    ">\n",
    "> `There are <number_of_zeros> (<percentage>) zero values in <column_name> column`\n",
    ">\n",
    ">*You may use as many coding cells as necessary.*"
   ]
  },
  {
   "cell_type": "code",
   "execution_count": 31,
   "metadata": {},
   "outputs": [],
   "source": [
    "for col in columns:\n",
    "    if columns.index(i) > 0 and columns.index(i) < 7:\n",
    "        print(col)"
   ]
  },
  {
   "cell_type": "code",
   "execution_count": 32,
   "metadata": {},
   "outputs": [
    {
     "name": "stdout",
     "output_type": "stream",
     "text": [
      "There are 2706 (53.88%) zero values in open column\n",
      "There are 20 (0.4%) zero values in high column\n",
      "There are 0 (0.0%) zero values in low column\n",
      "There are 0 (0.0%) zero values in close column\n",
      "There are 0 (0.0%) zero values in adj_close column\n",
      "There are 27 (0.54%) zero values in volume column\n"
     ]
    }
   ],
   "source": [
    "#TODO: Write your code here\n",
    "cols = []\n",
    "for i in df.columns:\n",
    "    if columns.index(i) > 0 and columns.index(i) < 7:\n",
    "        cols.append(i)\n",
    "\n",
    "for col in cols:\n",
    "    z_count = df.where(df[col]==0).count()\n",
    "    total = df.select(df[col]).count()\n",
    "    percentage = round((z_count/total)*100, 2)\n",
    "    print(('There are {} ({}%) zero values in {} column').format(z_count, percentage, col))"
   ]
  },
  {
   "cell_type": "markdown",
   "metadata": {},
   "source": [
    "From the above section, you find that there are a few columns that contain zero values. However, some of these are true zeros and are explainable. Your task is to distinguish which column should undergo data imputation.\n",
    "\n",
    "> ℹ️ **Instructions** ℹ️\n",
    ">\n",
    "> Investigate the columns with zero values and determine which one should undergo data imputation. Take note of the stock and month on which zero values occurred.\n",
    ">\n",
    ">*You may use as many coding cells as necessary.*"
   ]
  },
  {
   "cell_type": "code",
   "execution_count": 33,
   "metadata": {},
   "outputs": [
    {
     "name": "stdout",
     "output_type": "stream",
     "text": [
      "+----------+----+----------+----------+----------+------------+---------+-----+\n",
      "|      date|open|      high|       low|     close|   adj_close|   volume|stock|\n",
      "+----------+----+----------+----------+----------+------------+---------+-----+\n",
      "|1962-02-19| 0.0|  3.578869|      20.0|  3.549107| 0.056501225| 273600.0|  CVX|\n",
      "|1962-02-19| 0.0|   29.9375|     29.75|   29.9375|  0.49964145|   1600.0|  DTE|\n",
      "|1962-02-19| 0.0|  9.921875|  9.890625|  9.921875|  0.22499175|   8800.0|   ED|\n",
      "|1962-02-19| 0.0| 7.0833335| 7.0208335| 7.0208335|  0.91296524|  20400.0|   FL|\n",
      "|1962-02-19| 0.0|   10.9375|     10.75|   10.9375|   1.9131781|  22800.0|   GT|\n",
      "|1962-02-19| 0.0|  9.003848|  8.822562|  8.882991|   0.7784165|  39300.0|   IP|\n",
      "|1962-02-19| 0.0|0.23206018|0.23206018|0.23206018| 6.541049E-7|  43200.0|  JNJ|\n",
      "|1962-02-19| 0.0|0.17881945|0.17621528|0.17708333|2.1674694E-4| 460800.0|   MO|\n",
      "|1962-02-19| 0.0|     280.0|   276.875|   279.375|   124.94374|    600.0|  NAV|\n",
      "|1962-02-19| 0.0| 1.2734375|  1.265625|  1.265625| 0.012011507| 281600.0|   PG|\n",
      "|1962-02-19| 0.0| 1.7460938| 1.7109375| 1.7382812| 0.015494763|1657600.0|  XOM|\n",
      "|1962-02-14| 0.0| 3.4970238|      20.0| 3.4970238| 0.055672023| 116800.0|  CVX|\n",
      "|1962-02-14| 0.0|   30.1875|   29.6875|    29.875|   0.4985984|   2000.0|  DTE|\n",
      "|1962-02-14| 0.0|   9.90625|  9.796875|   9.90625|  0.22463761|  41600.0|   ED|\n",
      "|1962-02-14| 0.0| 7.0833335| 7.0520835| 7.0520835|  0.91702884|  18000.0|   FL|\n",
      "|1962-02-14| 0.0|  10.78125|  10.59375|  10.78125|   1.8858457|  20800.0|   GT|\n",
      "|1962-02-14| 0.0|  8.762134|  8.641277|  8.701706|   0.7625307|  30000.0|   IP|\n",
      "|1962-02-14| 0.0|0.24074075| 0.2337963| 0.2349537| 6.622604E-7|1080000.0|  JNJ|\n",
      "|1962-02-14| 0.0|0.17708333|0.17621528|0.17621528|2.1568447E-4| 172800.0|   MO|\n",
      "|1962-02-14| 0.0|   276.875|   273.125|    273.75|   122.42809|    800.0|  NAV|\n",
      "+----------+----+----------+----------+----------+------------+---------+-----+\n",
      "only showing top 20 rows\n",
      "\n"
     ]
    }
   ],
   "source": [
    "#TODO: Write your code here\n",
    "df.where(df['open']==0).show()"
   ]
  },
  {
   "cell_type": "code",
   "execution_count": 34,
   "metadata": {},
   "outputs": [
    {
     "name": "stdout",
     "output_type": "stream",
     "text": [
      "+----------+----+----------+----------+----------+------------+------+-----+\n",
      "|      date|open|      high|       low|     close|   adj_close|volume|stock|\n",
      "+----------+----+----------+----------+----------+------------+------+-----+\n",
      "|1962-05-18| 0.0| 1.6679688| 1.6484375| 1.6679688| 0.015032374|   0.0|  XOM|\n",
      "|1962-05-24| 0.0| 1.6328125| 1.6171875| 1.6289062|  0.01468032|   0.0|  XOM|\n",
      "|1962-09-28| 0.0|0.15914352| 0.1574074|0.15914352| 4.514184E-7|   0.0|  JNJ|\n",
      "|1962-05-08| 0.0| 1.7265625| 1.7109375| 1.7148438| 0.015285846|   0.0|  XOM|\n",
      "|1962-01-02| 0.0|0.22337963|0.22222222|0.22337963| 6.281419E-7|   0.0|  JNJ|\n",
      "|1962-05-14| 0.0|  1.640625| 1.5820312| 1.6328125| 0.014715531|   0.0|  XOM|\n",
      "|1962-05-28| 0.0|    1.5625| 1.4179688|    1.4375| 0.012955305|   0.0|  XOM|\n",
      "|1962-05-25| 0.0| 1.6328125|  1.578125|   1.59375|  0.01436349|   0.0|  XOM|\n",
      "|1962-05-29| 0.0|   1.59375| 1.4179688| 1.5898438| 0.014328282|   0.0|  XOM|\n",
      "|1962-05-02| 0.0| 1.7148438| 1.6992188| 1.7148438| 0.015285846|   0.0|  XOM|\n",
      "|1962-05-31| 0.0| 1.6328125|  1.609375|     1.625| 0.014645126|   0.0|  XOM|\n",
      "|1962-05-16| 0.0| 1.6953125|  1.671875| 1.6796875|0.0151379965|   0.0|  XOM|\n",
      "|1962-05-07| 0.0| 1.7148438| 1.7070312| 1.7148438| 0.015285846|   0.0|  XOM|\n",
      "|1962-05-10| 0.0|    1.6875| 1.6640625| 1.6679688| 0.015032374|   0.0|  XOM|\n",
      "|1962-05-15| 0.0| 1.6914062| 1.6445312| 1.6796875|0.0151379965|   0.0|  XOM|\n",
      "|1962-05-01| 0.0| 1.6992188| 1.6601562| 1.6992188| 0.015146574|   0.0|  XOM|\n",
      "|1962-05-11| 0.0|  1.671875| 1.6445312| 1.6445312| 0.014821144|   0.0|  XOM|\n",
      "|1962-05-17| 0.0| 1.6796875| 1.6484375| 1.6640625|  0.01499716|   0.0|  XOM|\n",
      "|1962-05-21| 0.0|   1.65625| 1.6445312|   1.65625| 0.014926753|   0.0|  XOM|\n",
      "|1962-05-23| 0.0| 1.6367188| 1.6171875| 1.6210938| 0.014609924|   0.0|  XOM|\n",
      "+----------+----+----------+----------+----------+------------+------+-----+\n",
      "only showing top 20 rows\n",
      "\n"
     ]
    }
   ],
   "source": [
    "df.where(df['volume']==0).show()"
   ]
  },
  {
   "cell_type": "code",
   "execution_count": 35,
   "metadata": {},
   "outputs": [
    {
     "name": "stdout",
     "output_type": "stream",
     "text": [
      "+----------+---------+----+---------+---------+----------+--------+-----+\n",
      "|      date|     open|high|      low|    close| adj_close|  volume|stock|\n",
      "+----------+---------+----+---------+---------+----------+--------+-----+\n",
      "|1962-11-05|1.4114584| 0.0|1.4114584|   1.4375|0.12620474|172800.0|  CAT|\n",
      "|1962-11-12| 1.453125| 0.0|1.4427084|1.4583334|0.12803373| 96000.0|  CAT|\n",
      "|1962-11-08|1.4583334| 0.0|1.4427084|1.4583334|0.12803373|129600.0|  CAT|\n",
      "|1962-11-01|1.3697916| 0.0|1.3697916|1.4010416| 0.1230039|136800.0|  CAT|\n",
      "|1962-11-29|1.5052084| 0.0|1.5052084|1.5052084|0.13214913|132000.0|  CAT|\n",
      "|1962-11-28|      1.5| 0.0|1.4947916|1.5052084|0.13214913|177600.0|  CAT|\n",
      "|1962-11-30|1.5052084| 0.0|1.5052084|1.5052084|0.13214913|124800.0|  CAT|\n",
      "|1962-11-26|      1.5| 0.0|1.4947916|      1.5|0.13169187|187200.0|  CAT|\n",
      "|1962-11-02|1.4010416| 0.0|1.3958334|1.4114584|0.12391846|211200.0|  CAT|\n",
      "|1962-11-21|      1.5| 0.0|1.4947916|      1.5|0.13169187|105600.0|  CAT|\n",
      "|1962-11-15|1.5052084| 0.0|1.4947916|      1.5|0.13169187|187200.0|  CAT|\n",
      "|1962-11-16|      1.5| 0.0|1.4947916|      1.5|0.13169187|127200.0|  CAT|\n",
      "|1962-11-20|      1.5| 0.0|1.4947916|      1.5|0.13169187|112800.0|  CAT|\n",
      "|1962-11-09| 1.453125| 0.0|   1.4375| 1.453125|0.12757647|120000.0|  CAT|\n",
      "|1962-11-19|      1.5| 0.0|1.4895834|      1.5|0.13169187|112800.0|  CAT|\n",
      "|1962-11-23|      1.5| 0.0|1.4947916|      1.5|0.13169187|228000.0|  CAT|\n",
      "|1962-11-27|      1.5| 0.0| 1.484375|      1.5|0.13169187|165600.0|  CAT|\n",
      "|1962-11-14| 1.484375| 0.0|1.4791666|1.5052084|0.13214913|261600.0|  CAT|\n",
      "|1962-11-13|1.4583334| 0.0| 1.453125| 1.484375| 0.1303201|216000.0|  CAT|\n",
      "|1962-11-07|   1.4375| 0.0|   1.4375|1.4583334|0.12803373|182400.0|  CAT|\n",
      "+----------+---------+----+---------+---------+----------+--------+-----+\n",
      "\n"
     ]
    }
   ],
   "source": [
    "df.where(df['high']==0).show()"
   ]
  },
  {
   "cell_type": "markdown",
   "metadata": {},
   "source": [
    "> ℹ️ **Instructions** ℹ️\n",
    ">\n",
    "> Once you have identified the column that needs to undergo imputation, update the values for the affected records by using the average value for the affected stock.\n",
    ">\n",
    ">*You may use as many coding cells as necessary.*"
   ]
  },
  {
   "cell_type": "code",
   "execution_count": 36,
   "metadata": {},
   "outputs": [],
   "source": [
    "#TODO: Write your code here\n",
    "df =df.withColumn('open', F.when(df['open']==0, df.agg(F.avg('open')).collect()[0][0]).otherwise(df['open']))"
   ]
  },
  {
   "cell_type": "code",
   "execution_count": 37,
   "metadata": {},
   "outputs": [
    {
     "name": "stdout",
     "output_type": "stream",
     "text": [
      "+----+----+----+---+-----+---------+------+-----+\n",
      "|date|open|high|low|close|adj_close|volume|stock|\n",
      "+----+----+----+---+-----+---------+------+-----+\n",
      "+----+----+----+---+-----+---------+------+-----+\n",
      "\n"
     ]
    }
   ],
   "source": [
    "df.where(df['open']==0).show()"
   ]
  },
  {
   "cell_type": "markdown",
   "metadata": {},
   "source": [
    "\n",
    "## Consistency\n",
    "\n",
    "Consistency is the absence of difference when comparing two or more representations of a thing against a reference.\n",
    "\n",
    "Data entries that refer to the same record or entity have to be consistent across all entries, e.g., if you are dealing with records from a logger in the field, the entries for that logger have to remain consistent, and the name or primary key of that logger cannot change from one entry to another. \n",
    "\n",
    "For example, 'Logger1', 'Loger1' and 'Logge1' are examples of inconsistent keys. \n",
    "\n",
    "This is not just within a single table but also becomes more important if you are dealing with relational data. In which case, the mappings between tables and systems must be consistent. If not, the relationships will be completely lost between the tables and referential integrity compromised. \n",
    "\n",
    "- **Measured by**: Analysis of pattern and/or value frequency;\n",
    "- **Units**: Percentage;\n",
    "- **Related to**: Accuracy, Validity, and Uniqueness."
   ]
  },
  {
   "cell_type": "markdown",
   "metadata": {},
   "source": [
    "> ℹ️ **Instructions** ℹ️\n",
    ">\n",
    "> There currently exists a stock that has inconsistent naming. Make use of the metadata to determine which stock is inconsistently named, then update the dataframe appropriately to get rid of this inconsistency.\n",
    ">\n",
    ">*You may use as many coding cells as necessary.*"
   ]
  },
  {
   "cell_type": "code",
   "execution_count": 38,
   "metadata": {},
   "outputs": [
    {
     "name": "stdout",
     "output_type": "stream",
     "text": [
      "+-------------+------+--------------------+----------------+---------------+---+--------------+----------+----------------+----------+-------------+----------+\n",
      "|Nasdaq Traded|Symbol|       Security Name|Listing Exchange|Market Category|ETF|Round Lot Size|Test Issue|Financial Status|CQS Symbol|NASDAQ Symbol|NextShares|\n",
      "+-------------+------+--------------------+----------------+---------------+---+--------------+----------+----------------+----------+-------------+----------+\n",
      "|            Y|     A|Agilent Technolog...|               N|               |  N|         100.0|         N|            null|         A|            A|         N|\n",
      "|            Y|    AA|Alcoa Corporation...|               N|               |  N|         100.0|         N|            null|        AA|           AA|         N|\n",
      "|            Y|  AAAU|Perth Mint Physic...|               P|               |  Y|         100.0|         N|            null|      AAAU|         AAAU|         N|\n",
      "|            Y|  AACG|ATA Creativity Gl...|               Q|              G|  N|         100.0|         N|               N|      null|         AACG|         N|\n",
      "|            Y|  AADR|AdvisorShares Dor...|               P|               |  Y|         100.0|         N|            null|      AADR|         AADR|         N|\n",
      "|            Y|   AAL|American Airlines...|               Q|              Q|  N|         100.0|         N|               N|      null|          AAL|         N|\n",
      "|            Y|  AAMC|Altisource Asset ...|               A|               |  N|         100.0|         N|            null|      AAMC|         AAMC|         N|\n",
      "|            Y|  AAME|Atlantic American...|               Q|              G|  N|         100.0|         N|               N|      null|         AAME|         N|\n",
      "|            Y|   AAN|Aaron's, Inc. Com...|               N|               |  N|         100.0|         N|            null|       AAN|          AAN|         N|\n",
      "|            Y|  AAOI|Applied Optoelect...|               Q|              G|  N|         100.0|         N|               N|      null|         AAOI|         N|\n",
      "|            Y|  AAON|AAON, Inc. - Comm...|               Q|              Q|  N|         100.0|         N|               N|      null|         AAON|         N|\n",
      "|            Y|   AAP|Advance Auto Part...|               N|               |  N|         100.0|         N|            null|       AAP|          AAP|         N|\n",
      "|            Y|  AAPL|Apple Inc. - Comm...|               Q|              Q|  N|         100.0|         N|               N|      null|         AAPL|         N|\n",
      "|            Y|   AAT|American Assets T...|               N|               |  N|         100.0|         N|            null|       AAT|          AAT|         N|\n",
      "|            Y|   AAU|Almaden Minerals,...|               A|               |  N|         100.0|         N|            null|       AAU|          AAU|         N|\n",
      "|            Y|  AAWW|Atlas Air Worldwi...|               Q|              Q|  N|         100.0|         N|               N|      null|         AAWW|         N|\n",
      "|            Y|  AAXJ|iShares MSCI All ...|               Q|              G|  Y|         100.0|         N|               N|      null|         AAXJ|         N|\n",
      "|            Y|  AAXN|Axon Enterprise, ...|               Q|              Q|  N|         100.0|         N|               N|      null|         AAXN|         N|\n",
      "|            Y|    AB|AllianceBernstein...|               N|               |  N|         100.0|         N|            null|        AB|           AB|         N|\n",
      "|            Y|   ABB|ABB Ltd Common Stock|               N|               |  N|         100.0|         N|            null|       ABB|          ABB|         N|\n",
      "+-------------+------+--------------------+----------------+---------------+---+--------------+----------+----------------+----------+-------------+----------+\n",
      "only showing top 20 rows\n",
      "\n"
     ]
    }
   ],
   "source": [
    "meta_df.show()"
   ]
  },
  {
   "cell_type": "code",
   "execution_count": 39,
   "metadata": {},
   "outputs": [],
   "source": [
    "# Convert Spark dataframes to pandas dataframes\n",
    "df_pandas = df.select('stock').toPandas()\n",
    "meta_df_pandas = meta_df.select('Symbol').toPandas()"
   ]
  },
  {
   "cell_type": "code",
   "execution_count": 40,
   "metadata": {},
   "outputs": [],
   "source": [
    "# Get unique values of 'stock' and 'Symbol' columns\n",
    "unique_stocks = set(df_pandas['stock'].unique())\n",
    "unique_symbols = set(meta_df_pandas['Symbol'].unique())"
   ]
  },
  {
   "cell_type": "code",
   "execution_count": 41,
   "metadata": {},
   "outputs": [
    {
     "name": "stdout",
     "output_type": "stream",
     "text": [
      "{'RNSC', 'DRADP', 'JCTCF', 'ARCE', 'FXD', 'VONV', 'NFJ', 'BKTI', 'OGE', 'BLES', 'KEX', 'FRT', 'BMRC', 'MCC', 'PIN', 'BAM', 'FLOT', 'UN', 'MDIV', 'VKTX', 'FLIN', 'GBIL', 'CYCC', 'KWEB', 'BG', 'RICK', 'BFK', 'FTXO', 'JQC', 'DVOP', 'NVAX', 'ONTO', 'SRCL', 'CORE', 'DCPH', 'WKHS', 'RIV', 'POTX', 'TTC', 'FENY', 'FCT', 'ABUS', 'FLIY', 'FATE', 'SITM', 'IMTB', 'GXGX', 'HARP', 'BSE', 'SCHI', 'IIIN', 'DORM', 'TACT', 'JSM', 'DFS', 'IWY', 'SPNE', 'FPA', 'BOOT', 'AEM', 'QCLN', 'NDAQ', 'CTIB', 'XSW', 'L', 'APH', 'NH', 'MN', 'TR', 'WBIL', 'RYCE', 'DSPG', 'CNQ', 'SINT', 'PRTY', 'SMLV', 'NLOK', 'FNK', 'MSFT', 'VFVA', 'GLDD', 'FSD', 'WANT', 'FDRR', 'HMC', 'TPZ', 'TCX', 'VUSE', 'WEA', 'COHN', 'FFEB', 'FNLC', 'CVIA', 'BSJR', 'XOMA', 'VIS', 'VET', 'PROV', 'SJM', 'MJ', 'VAMO', 'HAFC', 'PRTA', 'EXPO', 'BBH', 'ECC', 'DLB', 'BKF', 'MACK', 'EL', 'BE', 'ICE', 'ICL', 'ITP', 'AAL', 'F', 'MIXT', 'CPK', 'EMCB', 'NLR', 'IHG', 'ENS', 'SRLN', 'WEI', 'STXB', 'RNEM', 'FIDU', 'BMRA', 'SPE', 'SUSL', 'RTRX', 'ITI', 'ECT', 'BK', 'BANR', 'RELX', 'BHLB', 'FTSM', 'GNC', 'FBHS', 'NBLX', 'NYF', 'AEMD', 'AIEQ', 'HPS', 'INBKZ', 'EW', 'TOK', 'ANAB', 'DOGS', 'RMED', 'AGZD', 'FC', 'FSMD', 'TWMC', 'CPB', 'ALXN', 'PAGP', 'JKE', 'FCBP', 'PRPL', 'RENN', 'VRTV', 'AFB', 'CNSP', 'KVHI', 'IRR', 'MCEF', 'EAST', 'A', 'RPLA', 'SMP', 'SPXU', 'ANAT', 'FFIN', 'FGEN', 'SOLN', 'SMMCU', 'FMO', 'CIF', 'PICB', 'NGHCP', 'CBLI', 'USWS', 'E', 'HYEM', 'XRAY', 'APEN', 'REGL', 'CGC', 'CVNA', 'ROAM', 'OPB', 'GWB', 'LCA', 'GECC', 'LEVI', 'TRMD', 'RIF', 'NCMI', 'MILN', 'CLH', 'TECH', 'MGF', 'ESS', 'DPG', 'ESI', 'MIDD', 'FDLO', 'BKE', 'IAGG', 'GXF', 'NGE', 'BCPC', 'ISMD', 'EMXC', 'STFC', 'AVDV', 'TMSR', 'BTE', 'GLW', 'LMRKN', 'UCC', 'UBFO', 'XLB', 'RYT', 'SGOL', 'IDRV', 'ES', 'MBB', 'EVSTC', 'RILYN', 'BSCP', 'ATRI', 'CCU', 'RGEN', 'FLAG', 'GENC', 'GFLU', 'FLTW', 'QLD', 'PFSI', 'CSQ', 'TAWK', 'CARS', 'CDNS', 'SMHB', 'RCMT', 'FAD', 'APAM', 'MDYV', 'TSLF', 'YLCO', 'IHC', 'GTLS', 'FSRV', 'FNOV', 'NNBR', 'SUPN', 'BELFB', 'REPH', 'DVLU', 'FLT', 'USI', 'HHT', 'NUHY', 'MLPI', 'SDS', 'FTR', 'TDACU', 'ODT', 'CGA', 'TLGT', 'FDUS', 'VUZI', 'SNSS', 'INGR', 'PCTY', 'PZZA', 'TSE', 'IBMN', 'KOF', 'EVRI', 'PCN', 'EPM', 'NVR', 'BCML', 'RMTI', 'DBE', 'FEMB', 'SCPE', 'BKCC', 'PPEM', 'RVNC', 'UFPT', 'SIMS', 'DMLP', 'VLGEA', 'SILC', 'FDIS', 'LVS', 'SYRS', 'ALG', 'NMIH', 'RILYP', 'CKX', 'TTEK', 'DSI', 'EPSN', 'MINC', 'OXSQZ', 'NGL', 'TCBI', 'ACA', 'USAP', 'TFI', 'CSML', 'HHR', 'LACQ', 'JPLS', 'BOH', 'DT', 'FEZ', 'EAB', 'MNE', 'FWRD', 'CHIH', 'GDEN', 'MCK', 'TWNK', 'BX', 'MINI', 'DSL', 'BTAI', 'EZA', 'PCG', 'LVUS', 'WLK', 'MMD', 'MVC', 'EDV', 'PEJ', 'STON', 'NVG', 'EMN', 'IGR', 'WTM', 'VTWV', 'HBNC', 'GRU', 'FFHL', 'FINX', 'DIAL', 'IYG', 'ONE', 'INFN', 'VTWO', 'BZUN', 'FEI', 'SQ', 'ARCM', 'FTACU', 'TAIL', 'STRT', 'CANF', 'QLYS', 'NOC', 'NUW', 'FDN', 'XLSR', 'TGA', 'ATO', 'MMAC', 'MRCC', 'MLNX', 'HDS', 'ESTC', 'SCHM', 'BNS', 'LM', 'HFFG', 'LOACU', 'WAFD', 'AWRE', 'COLD', 'SSSS', 'TCBIL', 'FFIC', 'RYAAY', 'DWAS', 'TBBK', 'ONDK', 'ESRT', 'IWD', 'FTCS', 'ELSE', 'IGIH', 'RCS', 'SHYL', 'SPH', 'USSG', 'NML', 'RFFC', 'DRIV', 'GYRO', 'CBNK', 'ZFGN', 'SSTI', 'TT', 'PBEE', 'ATTO', 'BBRE', 'IDMO', 'FLSP', 'AMX', 'CLNE', 'HIHO', 'BFC', 'VECO', 'KNOP', 'ALLT', 'DURA', 'EWY', 'ZNH', 'EIG', 'HSKA', 'ASTE', 'ANIP', 'CDMO', 'EMCG', 'MDRX', 'ORTX', 'IG', 'FUTU', 'EVLMC', 'XPP', 'TOCA', 'EQT', 'FNGO', 'VNOM', 'MNCLU', 'PFMT', 'JCPB', 'VPU', 'DFNL', 'EWH', 'RWVG', 'LLNW', 'CEMI', 'CRNX', 'CKH', 'PJH', 'PNF', 'WETF', 'CCEP', 'DXLG', 'SMH', 'AINC', 'HMST', 'PPT', 'HSPX', 'VTI', 'CUTR', 'CDLX', 'TNK', 'KODK', 'GJO', 'CPZ', 'LGIH', 'AP', 'AMCI', 'DRSK', 'ANPC', 'HOVNP', 'NFBK', 'MANT', 'EWO', 'LLIT', 'ADMA', 'CHIQ', 'DIG', 'FHLC', 'YGRN', 'BLRX', 'PRLB', 'GSHD', 'WM', 'ERYP', 'HVBC', 'AXTA', 'GDNA', 'PHYL', 'FBGX', 'SWX', 'FLXN', 'XLK', 'VSAT', 'NTLA', 'GSSC', 'TSCO', 'PSET', 'OESX', 'EDOW', 'AGIO', 'SLRC', 'EXTN', 'GERN', 'SPTL', 'SWIR', 'IONS', 'LMHA', 'MRNA', 'TANNI', 'RVSB', 'MCBS', 'YCS', 'NAIL', 'IFS', 'JAGX', 'TAST', 'MFA', 'HYIH', 'CENT', 'NNA', 'FIYY', 'INS', 'WTRE', 'DES', 'FULT', 'RYZZ', 'WUBA', 'MLSS', 'REX', 'BCSF', 'AEY', 'TVE', 'GMS', 'LOB', 'HCA', 'STAY', 'PMAR', 'SLVP', 'CABA', 'ACY', 'HEWP', 'BLPH', 'IWP', 'SRTS', 'KBLM', 'BAR', 'SB', 'RLH', 'FLGE', 'NMI', 'CPA', 'WTFC', 'HYG', 'IROQ', 'SCIU', 'OCUL', 'RZA', 'PDT', 'CZNC', 'ITUB', 'IFMK', 'AMGN', 'SMOG', 'EOG', 'LGI', 'POL', 'GMHI', 'AUY', 'BZQ', 'JPEM', 'UTX.V', 'QBAK', 'AVLR', 'HOLD', 'VNDA', 'BNTC', 'CINF', 'FTS', 'CWT', 'WOMN', 'MXL', 'INOV', 'FLO', 'MYN', 'RJZ', 'AGNCM', 'CHSCP', 'MBWM', 'TCBIP', 'DPHC', 'GNCA', 'OPRA', 'IRIX', 'SEED', 'IYW', 'CBMB', 'EPU', 'COW', 'PD', 'VFMF', 'IGV', 'EME', 'LPSN', 'HOV', 'SQQQ', 'OVB', 'LE', 'BHV', 'BBQ', 'BVAL', 'LXFR', 'CATB', 'FCVT', 'IDV', 'ASHR', 'CABO', 'SMIN', 'DEM', 'HYACU', 'ZIG', 'NAZ', 'BBGI', 'BYM', 'GIGB', 'NEON', 'ONLN', 'EEA', 'SPXB', 'HRL', 'ACRS', 'HESM', 'CINR', 'SPLG', 'XOUT', 'DTW', 'PBYI', 'RNGR', 'PII', 'OII', 'DFVL', 'CCF', 'SIEB', 'FVAL', 'RRD', 'FUD', 'RWDC', 'MTA', 'MRC', 'IGD', 'UNB', 'UGAZ', 'SPPI', 'PTY', 'DXGE', 'SCPH', 'SCCO', 'CDAY', 'BANFP', 'FLEU', 'AMED', 'KN', 'ESG', 'MLND', 'MLPX', 'MMSI', 'BCO', 'PPG', 'OBNK', 'MKGI', 'BSVN', 'CCJ', 'CHIC', 'GLUU', 'BSMR', 'NFH', 'URA', 'FLTB', 'WINA', 'STRS', 'OSMT', 'CHFS', 'FLCA', 'CONN', 'XLRN', 'DAO', 'EFAS', 'VPC', 'HTIA', 'IVAC', 'ALOT', 'SLM', 'LDRS', 'COUP', 'CCR', 'TKC', 'EMTY', 'KEMQ', 'DVAX', 'STXS', 'PTC', 'IGC', 'YANG', 'XNCR', 'PAVM', 'PGAL', 'CNHI', 'APHA', 'FLAX', 'SMMF', 'UGI', 'GTT', 'TRS', 'UVXY', 'THO', 'MTRX', 'PTEN', 'TMF', 'PBSM', 'STRA', 'INO', 'CCNE', 'VEL', 'COWNZ', 'DLPH', 'DHT', 'IBDD', 'WIW', 'ULH', 'TRXC', 'MBI', 'GNLN', 'MFMS', 'KOL', 'UWT', 'ARTNA', 'CRF', 'JLS', 'UNF', 'TREX', 'VTIQU', 'EUO', 'DOG', 'ELVT', 'COHU', 'FXU', 'TYL', 'REXN', 'AOS', 'MFT', 'CBD', 'SHW', 'TCBK', 'PBUS', 'PXD', 'GDMA', 'CEW', 'CNS', 'PIXY', 'JJC', 'RBA', 'LYFT', 'HSRT', 'MHF', 'PING', 'IWC', 'GNRC', 'YEXT', 'FVCB', 'OIIM', 'SNCR', 'SSL', 'IEHS', 'QINT', 'CHT', 'TROW', 'EZJ', 'INWK', 'TTAI', 'DBA', 'HEPA', 'VLYPP', 'AMPE', 'SMCP', 'PVAL', 'SLS', 'AQST', 'WIP', 'TEVA', 'WBC', 'IWM', 'CRMD', 'EDZ', 'ALCO', 'NBACU', 'DLTH', 'DLPN', 'EXPC', 'BNTX', 'SORL', 'PTIN', 'FRPT', 'DE', 'KBWD', 'AIH', 'ITCI', 'TS', 'CORN', 'KL', 'PFS', 'V', 'JOF', 'VTR', 'SPXT', 'NTN', 'GOOS', 'IBKCN', 'LINC', 'PAVMW', 'PEXL', 'TLYS', 'GLOG', 'TSU', 'BOMN', 'VO', 'JBK', 'MTH', 'R', 'UL', 'ATXI', 'MGU', 'BFIN', 'MMIN', 'GBDC', 'JJP', 'UG', 'BTU', 'CWI', 'PXLW', 'SIG', 'NMS', 'JBT', 'FBM', 'LPCN', 'SPYD', 'LXRX', 'IFF', 'EKSO', 'SLF', 'ADIL', 'BTAL', 'CLIX', 'SIBN', 'CCX', 'ADPT', 'CLNC', 'FULC', 'ICLN', 'FMB', 'MEIP', 'MSD', 'JEF', 'SHAK', 'WRLSU', 'TMST', 'FSLR', 'SGRY', 'PCB', 'KE', 'IDNA', 'CHRA', 'JKL', 'NVEC', 'PASS', 'H', 'ALLO', 'IDRA', 'DECK', 'DFFN', 'TRHC', 'TPVG', 'AHT', 'CRI', 'FUL', 'SYPR', 'CCC', 'SNPS', 'ABEO', 'CHCI', 'LAIX', 'TROV', 'RILYH', 'AMTB', 'CTAA', 'FLXS', 'AMRS', 'PZC', 'VBLT', 'IPV', 'SPXL', 'HCFT', 'RVNU', 'FISK', 'IRET', 'WERN', 'YTEN', 'QWLD', 'VSMV', 'JHMF', 'CANG', 'MYOK', 'CHIR', 'UNFI', 'FBIZ', 'TCCO', 'STOT', 'SWP', 'AUDC', 'MVF', 'AEFC', 'EXPCU', 'BOTZ', 'LOUP', 'CMBM', 'IMMP', 'SDC', 'ESSA', 'DJD', 'XPER', 'TAT', 'TBLT', 'GLEO', 'ELMD', 'FWONA', 'FRO', 'DXJ', 'CC', 'FOXF', 'DTQ', 'TANH', 'CPRX', 'QUMU', 'IHD', 'IID', 'SPG', 'MYL', 'SOHU', 'FTV', 'CASY', 'INTL', 'CPG', 'ICMB', 'BSCS', 'NWBI', 'PKG', 'VEEV', 'TRIB', 'GH', 'NUE', 'WHF', 'AGLE', 'FTAC', 'NGHCN', 'NEBU', 'IMAB', 'HSIC', 'BCOV', 'CIX', 'MDIA', 'PRGX', 'CVLT', 'NDRA', 'RPAI', 'PSMM', 'NEP', 'ESGN', 'GDO', 'URG', 'CHRS', 'CODX', 'FRAF', 'BTT', 'BFIT', 'PCSB', 'PFO', 'FNDB', 'HHS', 'DIVB', 'MKC', 'IWV', 'ACIO', 'MCHX', 'ADP', 'GEVO', 'THCAU', 'TPB', 'MATX', 'AMNB', 'ENOR', 'CLB', 'RUBY', 'CBT', 'SMSI', 'LMRK', 'GIGM', 'CSTR', 'HEDJ', 'CRM', 'NGHCZ', 'GJT', 'HALL', 'SPIB', 'EXPR', 'PSCE', 'JSD', 'MLR', 'BTO', 'MBII', 'DSU', 'INDB', 'MGTA', 'JILL', 'JBSS', 'TRVG', 'IFV', 'DGRS', 'DDG', 'FMAT', 'ROK', 'INOD', 'NFLX', 'DEAC', 'BFST', 'CEF', 'SWK', 'VLYPO', 'REDU', 'JG', 'CTSO', 'DUOT', 'NKSH', 'WCLD', 'JAX', 'RXD', 'SPUS', 'PDEX', 'ACB', 'DEO', 'WMC', 'PRDO', 'RAAX', 'RUSL', 'KHC', 'TRC', 'QUAD', 'CRNT', 'GTX', 'MFIN', 'JHCS', 'MRKR', 'SFBS', 'M', 'CHSCL', 'CCI', 'DOCU', 'MRTX', 'OMCL', 'WPP', 'BRX', 'INUV', 'DEF', 'OMER', 'EBIX', 'EMHY', 'CBB', 'HLG', 'IEO', 'VSL', 'ANCN', 'SO', 'FSZ', 'URTH', 'IHAK', 'PATK', 'SYG', 'QQQX', 'TROX', 'SPXV', 'ECOR', 'XRX', 'IRBT', 'FIX', 'UXIN', 'CZR', 'EUMF', 'PAE', 'NE', 'SHOP', 'QES', 'IMLP', 'VFH', 'SCHF', 'BILL', 'GTY', 'GRPN', 'NTWK', 'PIE', 'LNT', 'ORGS', 'HBI', 'RDN', 'NACP', 'FYX', 'LND', 'HGV', 'TBNK', 'MRO', 'UHT', 'ENTR', 'AIMC', 'SBM', 'FGD', 'TMV', 'PBT', 'TWI', 'STAG', 'HTBX', 'RPT', 'TRMK', 'GDYN', 'IDEV', 'BCI', 'IEF', 'SKY', 'CNA', 'GNFT', 'AWAY', 'RNDV', 'GRVY', 'DTF', 'RYLD', 'NEWT', 'LQDI', 'AWX', 'CTB', 'RIGL', 'WIRE', 'FHK', 'LSXMA', 'AAU', 'EC', 'TM', 'WWD', 'AIT', 'PSMC', 'KALL', 'HUD', 'EWCO', 'SURF', 'VSH', 'HJPX', 'CPST', 'OPGN', 'WSBC', 'CCB', 'MSCI', 'ARKG', 'CIM', 'EUFX', 'FE', 'USDY', 'VNTR', 'WTI', 'CSOD', 'GRIF', 'BSJM', 'EPRT', 'FITB', 'AFSM', 'CEZ', 'EGHT', 'BHR', 'MDP', 'TVC', 'CDL', 'INMB', 'ICLR', 'RAVE', 'CHNGU', 'RHS', 'CBAT', 'PSA', 'HX', 'MUA', 'TPIC', 'APO', 'BBSA', 'BCOW', 'SDY', 'RING', 'RXL', 'ST', 'RUSHB', 'SUM', 'PHG', 'GSBC', 'TFC', 'DRTT', 'SSPY', 'TARO', 'SCJ', 'MOTI', 'NXTG', 'CECE', 'EVH', 'HERD', 'JMP', 'NVCN', 'KINS', 'KSU', 'HE', 'VVPR', 'PSCI', 'ADNT', 'HMG', 'MTT', 'ZBH', 'IVR', 'EJAN', 'GNE', 'CHIX', 'KXI', 'MIE', 'CBU', 'PRPH', 'UCBI', 'SITC', 'VSLR', 'ZCAN', 'EVLO', 'CBSHP', 'I', 'UMAR', 'MMT', 'PIO', 'FCBC', 'MU', 'HNP', 'XSVM', 'PSCC', 'NLSN', 'UAG', 'WAB', 'IZEA', 'ZKIN', 'GTYH', 'FXR', 'BBEU', 'KALV', 'IMKTA', 'GUT', 'PTACU', 'GOOG', 'SCON', 'ET', 'THS', 'TTD', 'ELP', 'WBIE', 'KBLMU', 'TRNX', 'TLDH', 'TDF', 'LX', 'ALACU', 'IGBH', 'BSMO', 'PROS', 'TOUR', 'PM', 'VOC', 'ELLO', 'EAD', 'DBV', 'SLVO', 'EVV', 'IIM', 'NHS', 'KLCD', 'CYAD', 'DJCI', 'CRT', 'PCOM', 'RWUI', 'UJPY', 'DVA', 'SPSM', 'DEX', 'NIB', 'TCRW', 'COMM', 'BOKF', 'GPN', 'RLJ', 'EVSI', 'QLVE', 'HCM', 'INBKL', 'LFAC', 'WTTR', 'IGEB', 'QTEC', 'SNBR', 'AXDX', 'SOHO', 'IQIN', 'NUGT', 'CTRE', 'MASI', 'TRUP', 'GPL', 'ZHOK', 'NBIX', 'MHLA', 'RARE', 'UFI', 'AMLP', 'SOXX', 'FLMI', 'FLNT', 'ICCH', 'AIKI', 'JKS', 'AGG', 'GECCN', 'GNTX', 'FXI', 'CXE', 'PAYC', 'JEQ', 'KMT', 'GGM', 'FRA', 'IGRO', 'CSGS', 'OVLY', 'EUSA', 'PSF', 'AINV', 'USTB', 'LOAN', 'MFC', 'DWSH', 'TPCO', 'ROMO', 'DXPE', 'JAKK', 'INN', 'ADES', 'MIK', 'SJB', 'ISRG', 'CLX', 'FLZA', 'TDE', 'TRU', 'UAUD', 'XSPA', 'GKOS', 'SILV', 'LIVK', 'CIL', 'HXL', 'INCY', 'FITE', 'ROM', 'CSII', 'FSB', 'BKR', 'SPR', 'INDY', 'OVV', 'LGF.B', 'FBSS', 'REED', 'CAAS', 'MEI', 'VOOV', 'BLDR', 'IMH', 'POST', 'THGA', 'TXMD', 'CIBR', 'FCTR', 'EMSG', 'HBANO', 'ELA', 'EDOG', 'MOM', 'PHDG', 'TCRR', 'FAAR', 'CSSE', 'BGNE', 'USV', 'MUST', 'IQI', 'ESSC', 'RPM', 'ALL', 'LFACU', 'HL', 'SCO', 'VREX', 'UAN', 'GPRK', 'UFAB', 'OPK', 'KRE', 'CXDC', 'SIFY', 'WSO', 'TRQ', 'IYT', 'GDOT', 'FBMS', 'XBIT', 'MNPR', 'DTEC', 'XPH', 'HYUP', 'SPMV', 'RNET', 'AGRX', 'VSTO', 'MET', 'SMLP', 'SBGI', 'HRI', 'QIWI', 'EZPW', 'SMIT', 'PDP', 'USDU', 'MXI', 'CTMX', 'RZV', 'UJB', 'VIOO', 'SIJ', 'CNSL', 'VLU', 'HON', 'HYI', 'KT', 'IBMK', 'ZDGE', 'DB', 'SREA', 'ZEAL', 'BOCT', 'GGN', 'OC', 'LABU', 'WTMF', 'LAZ', 'XELA', 'IPO', 'GCO', 'TFII', 'USAU', 'CBPO', 'JHB', 'SWAV', 'DNOV', 'MCV', 'BCLI', 'SIMO', 'ATHM', 'FRTA', 'DRRX', 'ANY', 'INTG', 'VYGR', 'HES', 'SPUU', 'MAV', 'MHE', 'OCCI', 'CPE', 'ICFI', 'SMAR', 'FPXE', 'SXTC', 'DIV', 'ACTTU', 'WTRG', 'CCOR', 'NMZ', 'CWEN', 'JNMF', 'WW', 'ARCB', 'INSW', 'NSA', 'MYE', 'MYY', 'MBNKP', 'INFR', 'PYT', 'HQL', 'SF', 'NYMT', 'KZIA', 'OSCV', 'NGS', 'NODK', 'DNP', 'CBZ', 'AOBC', 'KR', 'DQ', 'LZB', 'CFFN', 'CVI', 'NKG', 'TEN', 'ERA', 'WEX', 'CLSK', 'GSB', 'VTC', 'YELP', 'CMCT', 'EWJ', 'WVE', 'EGO', 'DEEF', 'MBIN', 'PFIE', 'NULG', 'NJV', 'HIFS', 'JACK', 'RDWR', 'SIF', 'SPLP', 'EVIX', 'DWM', 'ADXN', 'USA', 'ZSAN', 'ILMN', 'NOVN', 'EQH', 'AGT', 'AMEH', 'CHNR', 'ACGL', 'CORR', 'SAR', 'REW', 'SMBC', 'POOL', 'BKT', 'AUPH', 'SSNT', 'MCS', 'VTSI', 'PCYO', 'OGCP', 'XOP', 'SGU', 'ANF', 'APLE', 'RFG', 'FORK', 'SIM', 'SANW', 'MDCA', 'RL', 'MOFG', 'DTN', 'UCI', 'MMM', 'MMS', 'HOPE', 'FPL', 'TEL', 'XES', 'VGI', 'JSML', 'JCP', 'PYPE', 'AUSF', 'BBDC', 'JTD', 'BBSI', 'TPHD', 'GLOP', 'KALU', 'LPLA', 'SYKE', 'GHIVU', 'IBIO', 'SFST', 'TECS', 'NBL', 'FXNC', 'GDS', 'EUDG', 'EMX', 'PBY', 'EXPD', 'EYLD', 'YY', 'RZG', 'ENT', 'WBII', 'IDN', 'BME', 'CLUB', 'STT', 'DWMC', 'HBP', 'SEAC', 'B', 'PPDM', 'FLN', 'WWE', 'GMLPP', 'IBKR', 'NAVB', 'PWB', 'NLTX', 'VNRX', 'FBNC', 'LABD', 'NHC', 'PHM', 'IBDR', 'MFSF', 'IAG', 'FPI', 'THCX', 'TGEN', 'AGO', 'ALK', 'DSS', 'LBTYK', 'QGTA', 'TRTN', 'GPAQ', 'ORSNU', 'ENR', 'INSP', 'SHM', 'FSTA', 'TCMD', 'MOBL', 'HCAP', 'AOSL', 'MYI', 'DAVA', 'PSP', 'LVHE', 'XVZ', 'GLL', 'AJG', 'IPHI', 'SIVB', 'VSDA', 'BLFS', 'SCS', 'MLVF', 'AYX', 'SCIJ', 'CATC', 'SCYX', 'BJK', 'BIB', 'GFN', 'MFEM', 'SONA', 'ROST', 'ARCT', 'MPW', 'COWNL', 'USHY', 'SASR', 'IXG', 'FSTR', 'TXRH', 'MJJ', 'PICO', 'REMX', 'ARDX', 'GTE', 'HUYA', 'ONEO', 'WF', 'DGZ', 'STBA', 'TIVO', 'SBOW', 'UXI', 'FUV', 'ISDX', 'HEWG', 'UGBP', 'FAB', 'LSLT', 'SDCI', 'BOSS', 'CSWCL', 'EYE', 'DFEB', 'THM', 'IAA', 'PBCT', 'HUBG', 'JJM', 'MLHR', 'ESPO', 'CAPL', 'EXK', 'IRT', 'MESO', 'RCKT', 'EFAV', 'LMFA', 'VGK', 'YMAB', 'CI', 'CMBS', 'IIGV', 'EOD', 'OCC', 'EXC', 'SFYX', 'LCNB', 'SACC', 'ECOL', 'ROSE', 'GLG', 'SWAN', 'SILK', 'CEN', 'CIFS', 'AIV', 'GEM', 'DALI', 'FCAN', 'KRUS', 'PDS', 'BWB', 'EEMS', 'MRCY', 'ENVA', 'STLD', 'IMVTU', 'DFND', 'SBCF', 'VMW', 'XCEM', 'CVGI', 'IUSB', 'VBF', 'AGND', 'MNOV', 'BBW', 'TILE', 'FVE', 'NES', 'TCS', 'KBWB', 'FTRI', 'IFEU', 'CUB', 'PANL', 'SND', 'BKU', 'ISCF', 'ACWI', 'AMU', 'AACG', 'MLAB', 'PTBD', 'SEF', 'DNR', 'NTSX', 'ADUS', 'ONEV', 'CDR', 'DWT', 'AIRT', 'AIHS', 'OUSM', 'BSCR', 'MAGA', 'III', 'JCS', 'CSFL', 'WBIG', 'ACIU', 'GSST', 'HYAC', 'SKM', 'EQM', 'HCCOU', 'VICI', 'SPSK', 'NUEM', 'ADMS', 'UAUG', 'KELYB', 'HPI', 'BSCT', 'GILT', 'IDIV', 'J', 'HNRG', 'SLYG', 'YCBD', 'OZK', 'MSG', 'QCOM', 'FLSW', 'IDU', 'EGRX', 'ULTA', 'BDN', 'XMMO', 'HTBK', 'BLMN', 'FLY', 'NOVA', 'BPFH', 'MSI', 'VALT', 'DAX', 'PTLA', 'AFMD', 'SECT', 'IGMS', 'NXR', 'EMIF', 'IBN', 'CIIC', 'FREQ', 'TCDA', 'EXI', 'FLQD', 'LOOP', 'NXN', 'IAUF', 'HLF', 'CARR.V', 'PNR', 'ADC', 'YVR', 'XPEL', 'AFK', 'BCRX', 'WES', 'BSCO', 'WSBF', 'LTRPA', 'CXW', 'PUTW', 'SUZ', 'DGP', 'POAI', 'MDC', 'WPM', 'CCRC', 'FAM', 'REVG', 'INMD', 'MITT', 'BWG', 'HTBI', 'KTH', 'AOR', 'IBHD', 'JCOM', 'SNY', 'CLSN', 'HYDB', 'HAPP', 'FFHG', 'MXC', 'PINS', 'HCKT', 'JMIA', 'PRVB', 'BPYPO', 'RYH', 'ARKQ', 'KNG', 'FTA', 'VHC', 'YINN', 'FANG', 'SCHV', 'STE', 'DNI', 'NET', 'WRB', 'RDVY', 'ERH', 'RA', 'GRA', 'VOLT', 'XMPT', 'RKDA', 'EHT', 'TEAM', 'BZH', 'LEGH', 'PTE', 'ACBI', 'CHNG', 'TERP', 'DRUA', 'BAC', 'AQN', 'BSJK', 'CLGN', 'FNGD', 'KERN', 'PRGS', 'NRK', 'PRI', 'WISA', 'VIV', 'UFO', 'CNC', 'FEDU', 'SA', 'HURN', 'NXP', 'DNJR', 'EGBN', 'VERI', 'SCID', 'UWM', 'AHCO', 'ALX', 'ECON', 'BIOC', 'JMIN', 'NEED', 'ITMR', 'DX', 'JUST', 'NWS', 'SYBT', 'TCON', 'BIV', 'ABM', 'VWOB', 'HEWJ', 'FEUL', 'BV', 'CRBN', 'FLR', 'TLND', 'AT', 'URI', 'BOOM', 'JIGB', 'COLB', 'DBEF', 'SOXL', 'IMV', 'GNL', 'TURN', 'TRN', 'ECLN', 'LPX', 'ADS', 'BWZ', 'RBC', 'ASRVP', 'ICD', 'IVOG', 'SGMO', 'BUI', 'EWQ', 'MQY', 'AGN', 'TUSA', 'NOA', 'ASHX', 'PSTG', 'CBL', 'TDTT', 'FBC', 'MOGO', 'BPYPP', 'PJUL', 'AIIQ', 'HUSA', 'PLAG', 'EEMO', 'CPLG', 'EZT', 'MOR', 'HIG', 'IYLD', 'AXNX', 'VALQ', 'NCV', 'SDRL', 'HTGC', 'CYOU', 'EWJE', 'CRAK', 'ACAD', 'ACOR', 'PBS', 'GNMA', 'IYK', 'SAVA', 'CWEB', 'LCI', 'OILX', 'BIO', 'LMNR', 'KNDI', 'IBDQ', 'DEW', 'RWLK', 'ETG', 'MHLD', 'RADA', 'TBI', 'ASH', 'VIXM', 'LBRT', 'HBIO', 'GQRE', 'ESXB', 'EWK', 'NHA', 'FLJH', 'WRI', 'CLVS', 'ADME', 'TIF', 'XLU', 'AIG', 'OBSV', 'CR', 'MSN', 'JPED', 'FSFG', 'SPLV', 'DCF', 'HTFA', 'IGOV', 'LOAC', 'LVGO', 'WMB', 'BSBR', 'MED', 'WU', 'NNN', 'UGA', 'TPHS', 'FCOR', 'ELD', 'FNWB', 'OKE', 'WALA', 'ELAN', 'FLLV', 'ENPH', 'DVN', 'CMP', 'IEIH', 'FIVN', 'MLCO', 'SUSB', 'ESGD', 'USLB', 'RILYI', 'EFT', 'ELF', 'CII', 'KNSL', 'COG', 'DFNS', 'EVK', 'QABA', 'CMRE', 'NWL', 'AAOI', 'USDP', 'FLYT', 'TSCAP', 'AVY', 'BUYZ', 'PWS', 'FRG', 'CBAN', 'OBAS', 'IVW', 'RXN', 'BRMK', 'SBIO', 'ITRI', 'TEDU', 'PQSG', 'HOLX', 'FUN', 'LOW', 'HGLB', 'TTI', 'EKAR', 'TANNL', 'CVGW', 'IHF', 'PEGA', 'DPW', 'APM', 'CWST', 'WTBA', 'FNY', 'UAA', 'SRL', 'LKQ', 'SZK', 'VTV', 'VLRS', 'EBMT', 'JDD', 'IIGD', 'NMCO', 'GOSS', 'EWG', 'OPTT', 'CUT', 'RAVI', 'WSTG', 'CNMD', 'FIV', 'DNOW', 'CB', 'EWD', 'GIGE', 'IMAC', 'FLFR', 'GMLP', 'BY', 'XYL', 'BSBK', 'CLDX', 'HY', 'QUS', 'EFSC', 'MANU', 'CCL', 'SSP', 'EVRG', 'ENV', 'BLK', 'NTRSO', 'PBBI', 'UBR', 'AGR', 'SRNE', 'CLPS', 'PGNX', 'AMRC', 'HRB', 'DAUG', 'VMBS', 'ZIONL', 'RJF', 'GYC', 'CAH', 'GRIN', 'LHCG', 'MTBC', 'GLIBA', 'USFD', 'PJT', 'PBF', 'TANNZ', 'BORR', 'HSCZ', 'CDNA', 'IPWR', 'WBND', 'TOL', 'MYGN', 'ALO', 'EET', 'CEVA', 'CFXA', 'NXRT', 'RFI', 'BFZ', 'CARZ', 'NAVI', 'PER', 'QDIV', 'AVYA', 'ENTG', 'LIFE', 'GRNVU', 'EYES', 'NINE', 'EMD', 'FFTI', 'VLT', 'ALRN', 'RMR', 'HYTR', 'APDN', 'EEFT', 'CTRA', 'BSM', 'USMC', 'MGEN', 'BBP', 'AMRB', 'OCN', 'GWPH', 'FPAC', 'BGSF', 'PDBC', 'LPL', 'IYY', 'RYTM', 'TWST', 'CEI', 'JTA', 'NHTC', 'NMFC', 'ZTO', 'PKO', 'ATV', 'EWW', 'WELL', 'DVY', 'ARKK', 'IVV', 'VRT', 'XHE', 'SHY', 'CVS', 'DY', 'RISE', 'MAG', 'STRO', 'NAKD', 'QVAL', 'AGEN', 'NVIV', 'MCX', 'TDV', 'FNDE', 'NRP', 'ORSN', 'GLD', 'ADTN', 'TLSA', 'PAC', 'LMNL', 'RP', 'CMTL', 'HMSY', 'OGI', 'WIL', 'IIF', 'SJI', 'SYNC', 'VIAC', 'NBW', 'RCI', 'IOO', 'MITO', 'DTYL', 'HMTV', 'EAI', 'LECO', 'RESE', 'FLL', 'BROG', 'SAFE', 'RILYG', 'NUS', 'REYN', 'CF', 'BTYS', 'IEME', 'TBIO', 'PYX', 'ANET', 'IDT', 'NVCR', 'WSTL', 'IART', 'MLPY', 'TRV', 'SYF', 'DLTR', 'NYV', 'BCV', 'GLDI', 'ARDS', 'UPWK', 'AGRO', 'CIICU', 'EQIX', 'FTXL', 'SRAC', 'CWS', 'BBX', 'UPV', 'VICR', 'MAYS', 'BHAT', 'NYCB', 'IR', 'GSJY', 'PCAR', 'BRF', 'KKR', 'PAG', 'PSN', 'BIZD', 'RMNI', 'BAPR', 'PGNY', 'AUBN', 'WST', 'MATW', 'EPP', 'AXSM', 'TPLC', 'FARM', 'GNSS', 'ALTY', 'USNA', 'CGEN', 'FLGR', 'VGM', 'TOWN', 'AQB', 'CODI', 'FYT', 'VOD', 'WOW', 'DWLD', 'WSG', 'BDXA', 'GPOR', 'SPDV', 'KGC', 'BSAC', 'NULV', 'MNLO', 'PKOH', 'BHVN', 'IMGN', 'SEB', 'DGICA', 'NXTC', 'SFL', 'KBWP', 'PBR', 'FXA', 'VCV', 'RDIV', 'ETB', 'PIZ', 'NXE', 'PGZ', 'TERM', 'FCCO', 'JFK', 'JEMD', 'CUBE', 'AXGN', 'ENZL', 'PACB', 'MUI', 'SCPL', 'NIQ', 'PNI', 'TTTN', 'IRM', 'ADSK', 'CCM', 'WH', 'CHRW', 'BHFAP', 'RCM', 'TSLX', 'ALNA', 'ARA', 'CPAA', 'CSV', 'IBHB', 'PANW', 'FLIR', 'XTH', 'SYLD', 'ATRC', 'WTT', 'EQRR', 'EB', 'BRID', 'SLX', 'SNLN', 'THD', 'ADM', 'VXUS', 'OVM', 'PSB', 'SMM', 'WTFCM', 'DJPY', 'NBY', 'PJP', 'FXC', 'GSBD', 'FTF', 'MOTO', 'OCSL', 'VERU', 'BPMP', 'RGLD', 'ARGT', 'MYF', 'SPHQ', 'MZZ', 'YGYIP', 'LKFN', 'PIM', 'UBX', 'MGIC', 'DXB', 'QED', 'BKI', 'CMT', 'CEY', 'CRY', 'WGO', 'GHL', 'GVAL', 'UMPQ', 'NOV', 'RBBN', 'PFG', 'ITOT', 'OTEL', 'MIME', 'JHML', 'GLBZ', 'QQQE', 'MLPB', 'CATS', 'NEPT', 'NFE', 'VFMV', 'FIBR', 'ESGV', 'ATCO', 'PKW', 'BNO', 'FDUSG', 'IFRX', 'SMMU', 'AKG', 'PTVCA', 'LOPE', 'NZF', 'SPRT', 'Y', 'IGI', 'HEP', 'NWFL', 'RETO', 'VOOG', 'XHR', 'AON', 'COFS', 'AVXL', 'SLGL', 'DVYE', 'DTEA', 'GABC', 'SEE', 'ESML', 'MLP', 'RSX', 'CROC', 'NKTR', 'LOCO', 'SOHON', 'AQMS', 'CXO', 'PLD', 'FDD', 'XCOM', 'NNY', 'CYBR', 'UHAL', 'DTIL', 'CUZ', 'BUL', 'PCK', 'RESN', 'HHC', 'NCLH', 'MOO', 'QLC', 'FDX', 'EASI', 'TLTE', 'CRHM', 'RUSHA', 'TLH', 'NWE', 'SGG', 'EPZM', 'TORC', 'SNOA', 'NR', 'DOYU', 'UNP', 'SMG', 'BH', 'FUTY', 'ATSG', 'IWN', 'FMBH', 'IYE', 'BRBR', 'SIVR', 'RYN', 'LK', 'SINO', 'RNMC', 'BXMT', 'BOSC', 'HBM', 'EBS', 'OMFS', 'JSMD', 'GLPG', 'ESQ', 'FCAU', 'RLI', 'SBAC', 'YJ', 'BANF', 'HLNE', 'NAT', 'NTRP', 'EWUS', 'DIAX', 'CNO', 'TPYP', 'CHH', 'MOXC', 'ASUR', 'WFIG', 'YNDX', 'AGM', 'BXG', 'FORTY', 'GOOGL', 'NMRK', 'EHC', 'XLI', 'FISR', 'SAEX', 'BATRK', 'OPBK', 'EROS', 'AGM$A', 'XLV', 'APTO', 'PPLC', 'EWS', 'MLPO', 'BHE', 'ANDA', 'NTCT', 'SRAX', 'FLQH', 'CTV', 'RILYZ', 'STAF', 'NSYS', 'OSB', 'PTI', 'CACG', 'CHSCO', 'MTSL', 'AVEM', 'FDEU', 'FNHC', 'MIN', 'ADBE', 'HMI', 'ETJ', 'GJS', 'CTR', 'HCAC', 'FNDC', 'IO', 'RPAY', 'FXO', 'PFIG', 'IOTS', 'DDS', 'BOX', 'DOO', 'AGD', 'DSKE', 'PGM', 'INCO', 'CLDB', 'NG', 'AEIS', 'ALC', 'DCHF', 'CCO', 'EFO', 'FTXN', 'TIGO', 'UNH', 'AIZ', 'AU', 'FFA', 'DDOG', 'BPOPN', 'IJT', 'CETV', 'DXD', 'MHN', 'EDSA', 'RYU', 'ESBA', 'EURL', 'EVF', 'UTHR', 'SPMB', 'RSG', 'PULS', 'TDW', 'CRTX', 'IGM', 'ALGN', 'HEWL', 'DTO', 'PST', 'ECOM', 'DUSL', 'ATNX', 'WILC', 'MFD', 'CATO', 'IQDF', 'NTRS', 'PSX', 'BOTJ', 'KELYA', 'FVL', 'AMPH', 'MRK', 'BFY', 'CHSCM', 'FLCO', 'MCI', 'CHIM', 'MDGL', 'TENX', 'FAN', 'VONE', 'GAB', 'OR', 'EGIF', 'BND', 'DHC', 'SPMO', 'CYCCP', 'EWZ', 'MFO', 'PJAN', 'MUH', 'KOPN', 'TREE', 'SPXX', 'SHEN', 'SCX', 'TW', 'TYD', 'LVHI', 'BNFT', 'CSL', 'VRTS', 'HCCH', 'AVUV', 'OIS', 'OGEN', 'YXI', 'SBNY', 'DZK', 'HFWA', 'VEA', 'CROP', 'RWDE', 'OXY', 'SHLX', 'BRPAR', 'ORCC', 'FLDR', 'ONEY', 'CLGX', 'BASI', 'OLLI', 'DBLV', 'CLCT', 'LORL', 'BSMS', 'DBX', 'MVV', 'IAT', 'EGP', 'DIM', 'HEFA', 'FBZ', 'MVBF', 'SKX', 'IBKCO', 'BPOP', 'IQM', 'AGBA', 'CYRN', 'BFYT', 'PRF', 'TCFCP', 'TLRY', 'SPTS', 'UVE', 'XIN', 'ERII', 'EFAX', 'ALTR', 'JBGS', 'RNWK', 'USIG', 'PLPC', 'EXD', 'SG', 'XYF', 'HPR', 'HBCP', 'SEM', 'MGPI', 'GEOS', 'FISV', 'PETZ', 'PACQ', 'MREO', 'IDHD', 'OPRT', 'GOL', 'IWL', 'ESGRO', 'IJS', 'TAN', 'NICK', 'IDX', 'CELH', 'WAT', 'MOGU', 'DRW', 'BSTC', 'TRIL', 'ALGRU', 'ASM', 'IFFT', 'DGT', 'NEE', 'TQQQ', 'RM', 'CTDD', 'ACGLP', 'GLQ', 'NUVA', 'EQBK', 'DBAW', 'SPN', 'CSLT', 'HYLB', 'ONCY', 'BMRN', 'PSXP', 'OXLC', 'CAL', 'SMMT', 'DRR', 'TZA', 'SHLO', 'GLT', 'QDEL', 'RFAP', 'BBCA', 'D', 'BIOL', 'FCX', 'HCR', 'LEE', 'VOXX', 'IWX', 'BIIB', 'HYND', 'TBX', 'SPVU', 'SPKEP', 'OBLG', 'JHEM', 'VCR', 'XELB', 'BAL', 'IGSB', 'SATS', 'ERM', 'GULF', 'FELE', 'CHGX', 'SFIG', 'PNFP', 'MELI', 'AFIF', 'VOYA', 'SCHN', 'MTBCP', 'EVBG', 'QEMM', 'VV', 'RFM', 'CHNA', 'ACGLO', 'DTD', 'EVOK', 'TFX', 'ELU', 'FTLB', 'BYLD', 'OSW', 'CMSC', 'OCFT', 'TWNKW', 'PLBC', 'SNPE', 'RNR', 'AZO', 'INKM', 'AIRR', 'KFFB', 'NMY', 'RRGB', 'WDR', 'BSJN', 'VRSK', 'FEO', 'MGEE', 'GTIP', 'NMR', 'FSS', 'SIX', 'USCR', 'BRKR', 'BSX', 'XTL', 'NSEC', 'RETL', 'YTRA', 'LULU', 'ZM', 'TUR', 'LOV', 'XRF', 'CTG', 'IJAN', 'UBT', 'LTC', 'SNAP', 'FAUG', 'HRC', 'ESBK', 'MCR', 'APTX', 'NXJ', 'MBSD', 'RCII', 'OFC', 'ALGT', 'ARYAU', 'WMK', 'ZIXI', 'GRTS', 'VVV', 'NTRA', 'CNET', 'HMOP', 'ELTK', 'PNM', 'DBEU', 'SQBG', 'CDXS', 'SILJ', 'MOHO', 'TRST', 'UEPS', 'PLAB', 'MHNC', 'JPHF', 'ACCO', 'ZIONP', 'XLE', 'EXP', 'QDF', 'CTS', 'MERC', 'VCEL', 'SSKN', 'HDEF', 'LATNU', 'PAHC', 'BMAR', 'KTCC', 'JHG', 'IJJ', 'CDEV', 'BRBS', 'HYB', 'NUBD', 'TU', 'ALSK', 'PECK', 'TACO', 'EGOV', 'STN', 'PGP', 'EBR', 'XRLV', 'TEO', 'CBAY', 'SCHE', 'SAL', 'BSCK', 'EEMD', 'ROYT', 'SRG', 'PRGO', 'IGIB', 'KRC', 'LQDA', 'EMR', 'IPFF', 'MVIN', 'QRVO', 'GPM', 'SPGM', 'KRMD', 'VGIT', 'DRIP', 'QAT', 'DELL', 'BDR', 'LNTH', 'ISRA', 'ECNS', 'WORX', 'JMPNZ', 'CHIE', 'BSET', 'O', 'CBMG', 'PIPR', 'BFRA', 'EFAD', 'TRNO', 'ENIC', 'MCN', 'GLO', 'TCFC', 'ATKR', 'HLT', 'SRPT', 'MYOS', 'MDWD', 'BPY', 'AAN', 'LYG', 'BSEP', 'ZNGA', 'PMO', 'NFG', 'HEBT', 'MGTX', 'FLIA', 'OILK', 'SYE', 'VALE', 'SGC', 'ICUI', 'PROF', 'MSC', 'FRI', 'EOT', 'CET', 'HQI', 'UNIT', 'EMLP', 'ACC', 'ADRO', 'IBCP', 'YRD', 'IHI', 'RFEU', 'MSON', 'GPK', 'NORW', 'BB', 'EARN', 'DGRO', 'WNS', 'CHCO', 'EVI', 'IGF', 'RECS', 'ERI', 'EVER', 'STMP', 'GDV', 'BCOM', 'TAK', 'PRTS', 'AJX', 'XBIO', 'STOK', 'THBRU', 'ATIF', 'MRUS', 'KIE', 'KNX', 'GLYC', 'UST', 'ACHV', 'PNBK', 'NFTY', 'ZGNX', 'PUB', 'KBE', 'FTXD', 'WLL', 'CFFA', 'APOP', 'TPL', 'GWGH', 'NAC', 'KBH', 'FLRN', 'UPLD', 'YRCW', 'CWCO', 'SPY', 'JELD', 'DMAC', 'DMRM', 'AVUS', 'IGLB', 'PETQ', 'THCA', 'IMMR', 'PSCH', 'IBMM', 'GOODN', 'AGTC', 'MRIN', 'SAIL', 'GFED', 'CIZ', 'CYTK', 'SNCA', 'FCEL', 'BSDE', 'GMZ', 'NMT', 'ENO', 'PVL', 'TOLZ', 'SHO', 'STCN', 'QURE', 'RILY', 'NL', 'AYTU', 'CALA', 'TMP', 'ABMD', 'VIRT', 'EQWL', 'EUM', 'AEP', 'SFY', 'C', 'INSE', 'BKEPP', 'EASG', 'DHF', 'VCNX', 'PSNL', 'GS', 'PATI', 'SONO', 'NEM', 'TREC', 'JFR', 'AGGY', 'EWN', 'BXRX', 'IBDU', 'RSF', 'NBTB', 'LFC', 'RNST', 'TMO', 'MEAR', 'MFNC', 'SUNS', 'JAN', 'IVLU', 'PTN', 'SPYB', 'UJUL', 'NRO', 'PMOM', 'CHPM', 'INFU', 'AAMC', 'DDF', 'CAAP', 'CNR', 'JHMU', 'CVV', 'RES', 'NTNX', 'ING', 'JLL', 'ULBR', 'RCON', 'RACE', 'PVBC', 'HGSH', 'NPO', 'DHR', 'GYLD', 'SBT', 'DISCA', 'JVAL', 'NATH', 'AX', 'MTL', 'NCBS', 'FMCI', 'SCZ', 'BXC', 'GSV', 'BCEL', 'ENSV', 'FAZ', 'CTRM', 'MGV', 'BDEC', 'FLCH', 'LEND', 'LHC', 'ORCL', 'HSTM', 'PACA', 'FSI', 'HWCC', 'RRBI', 'FCFS', 'GIB', 'WPS', 'DWFI', 'XLG', 'VERY', 'PSV', 'GHSI', 'SPBO', 'PEI', 'DBD', 'MFH', 'DBO', 'ANDE', 'BCE', 'ILPT', 'FEMS', 'GXGXU', 'CFG', 'KDP', 'ANDAU', 'CNFR', 'GURU', 'MEC', 'MTSI', 'COMB', 'TTNP', 'DFIN', 'CATH', 'WSM', 'NIO', 'CWH', 'JYNT', 'TFIV', 'SMDY', 'TPH', 'PBCTP', 'PFN', 'UIS', 'TD', 'PFI', 'CRNC', 'DPST', 'POCT', 'GPS', 'APTS', 'MAS', 'PPLT', 'SGOC', 'COOP', 'IMOM', 'EUSC', 'CFR', 'EBAY', 'EMAN', 'CNCE', 'PHO', 'SPAR', 'MSBF', 'CPAAU', 'TMDI', 'WLDR', 'SMEZ', 'ZOM', 'SON', 'TARA', 'TTT', 'KOS', 'APYX', 'MTD', 'SVRA', 'IMAX', 'BIOX', 'PYS', 'QMJ', 'VOO', 'TRND', 'RGR', 'NURO', 'SZC', 'PSM', 'CEIX', 'SPHD', 'RZB', 'VIR', 'COLM', 'HFXI', 'ECOW', 'MXDU', 'PRH', 'IECS', 'PPSC', 'PGRE', 'JPMV', 'AVT', 'NTB', 'DHS', 'ADMP', 'BDSI', 'GPJA', 'CBIO', 'DXF', 'DDD', 'HEWW', 'AMRN', 'WHLM', 'GPX', 'ENTX', 'XHS', 'EZM', 'LIVKU', 'LUV', 'RMG', 'EML', 'LODE', 'MUSA', 'TOKE', 'FFR', 'FNCL', 'BRC', 'QMCO', 'AQNB', 'NBN', 'PBW', 'CPSH', 'VXF', 'PNRG', 'BSGM', 'QADA', 'PIRS', 'VTA', 'MHI', 'KTP', 'MGM', 'FSEA', 'HDGE', 'VUG', 'FQAL', 'GALT', 'CVM', 'MIND', 'JQUA', 'IOR', 'DGLY', 'FTSI', 'BRKS', 'ASG', 'BECN', 'BSJQ', 'HAP', 'SDI', 'GSEU', 'AKTX', 'SMDV', 'GNW', 'AKER', 'XP', 'DNKN', 'JRVR', 'PRO', 'COST', 'PFF', 'SLMBP', 'GEO', 'FLDM', 'QLV', 'DRI', 'ONCT', 'IVC', 'IYZ', 'FMF', 'KAI', 'REVS', 'IEA', 'TITN', 'CARG', 'SCU', 'BCD', 'AMG', 'AAXN', 'GSEW', 'FLOW', 'PQG', 'GJR', 'FTSV', 'MFINL', 'SPSB', 'EEMX', 'APEX', 'HIMX', 'KTB', 'AMRX', 'PDCE', 'NRGX', 'CPRI', 'AWF', 'RDCM', 'LLY', 'VYMI', 'PDM', 'WIFI', 'DENN', 'NAK', 'PLUS', 'VC', 'PLUG', 'PE', 'OIL', 'TIPX', 'PEAK', 'ORMP', 'GRIL', 'PMD', 'RUBI', 'BANX', 'APOG', 'PHCF', 'CMD', 'BBU', 'KBR', 'NOW', 'TLI', 'GOOD', 'JRJC', 'YCOM', 'NFINU', 'TMFC', 'NVFY', 'EMP', 'HASI', 'LMT', 'GAINM', 'WPC', 'FANH', 'UAVS', 'CMCL', 'VMD', 'FTAI', 'CEE', 'RAND', 'LTPZ', 'SPHY', 'PINC', 'SLNO', 'DMRS', 'FEIM', 'MG', 'XXII', 'CARO', 'DG', 'DSGX', 'PZG', 'RDNT', 'CEA', 'SAMA', 'EA', 'RWO', 'ICF', 'CIH', 'OFG', 'GTEC', 'SCAP', 'BNKZ', 'BMCH', 'ALTM', 'ALFA', 'KMX', 'RMBL', 'SGA', 'STWD', 'HRTX', 'WAL', 'FVC', 'BEAM', 'INDS', 'MFL', 'KORP', 'AVNW', 'RJN', 'MKD', 'NID', 'SFM', 'EGPT', 'DAC', 'NWPX', 'UGP', 'TALO', 'USEP', 'SAIC', 'LEGR', 'KGRN', 'VGSH', 'EVBN', 'FAS', 'IPB', 'PIH', 'IX', 'TV', 'CONE', 'PWR', 'ASMB', 'MMP', 'DOOO', 'WORK', 'MDLA', 'CNCR', 'CARA', 'FLGB', 'SPYG', 'SMED', 'TBND', 'HYLV', 'IBDM', 'SMFG', 'SJIU', 'CTK', 'JXI', 'RWGV', 'GBUG', 'PSMG', 'FDEF', 'SIGI', 'AERI', 'LQD', 'FBT', 'PFIS', 'GIS', 'SDIV', 'ARMR', 'USMF', 'NVO', 'DOOR', 'LOVE', 'OSTK', 'SPDW', 'BLCN', 'ACT', 'ENB', 'MMLP', 'OXLCO', 'COO', 'DIOD', 'BGIO', 'ATMP', 'VGFO', 'KTOV', 'LONE', 'FNDF', 'SHSP', 'BWFG', 'GO', 'VIACA', 'FLMB', 'KJAN', 'CEFS', 'SBLK', 'SENS', 'AGGP', 'EEMA', 'WSR', 'STC', 'RTIX', 'UBG', 'OEUR', 'RTN', 'IDY', 'PENN', 'TRIP', 'SSBI', 'TYO', 'VBTX', 'TDA', 'MAAX', 'REGI', 'HYXU', 'MEN', 'USL', 'AZRE', 'REI', 'BTEC', 'NEXT', 'ANTM', 'DYNF', 'FG', 'NRZ', 'HYT', 'CAC', 'BBVA', 'BMEZ', 'FBIOP', 'DOW', 'SXI', 'TNAV', 'PTVCB', 'DWX', 'STML', 'NCTY', 'MBCN', 'SOJD', 'KURE', 'GFY', 'OPP', 'MCBC', 'KIN', 'MPB', 'AFIN', 'AVD', 'EDUC', 'PEIX', 'OCFC', 'PCEF', 'MVT', 'CHII', 'SLAB', 'XGN', 'BSJP', 'BOCH', 'GVA', 'GDVD', 'MZA', 'FORM', 'THC', 'ARCC', 'URTY', 'RE', 'ARCO', 'BLNK', 'MBOT', 'EARS', 'WEBL', 'TRNE', 'JT', 'SIGA', 'CYH', 'CIZN', 'NYMTP', 'RFIL', 'BILI', 'UBOT', 'CMCO', 'PFLD', 'SOLO', 'CWB', 'CBOE', 'FFIV', 'GOEX', 'BNGO', 'FGBI', 'GSLC', 'DEACU', 'HALO', 'PLAT', 'SELB', 'BNDC', 'GSM', 'MDU', 'REPL', 'GNOM', 'WMT', 'CTEK', 'DTH', 'KCNY', 'KRP', 'CHI', 'NERV', 'SOJB', 'APA', 'HACK', 'DCOM', 'HEWU', 'BW', 'CSPR', 'AFTY', 'FDG', 'AGNCO', 'SSYS', 'RLGY', 'RTTR', 'APWC', 'SGB', 'VIXY', 'CMU', 'OCSI', 'VNLA', 'PTEU', 'BATT', 'CSTM', 'SVC', 'IGHG', 'FBIO', 'QRFT', 'GOAT', 'GSG', 'WINC', 'PBB', 'MTEM', 'GLADD', 'IRBO', 'BWA', 'ETH', 'NOBL', 'OHI', 'FOCS', 'FIXX', 'RWL', 'RSP', 'EPAY', 'HYLS', 'MAC', 'AREC', 'CQP', 'EPR', 'NANR', 'DVP', 'WTREP', 'DVYA', 'CYCN', 'SCHD', 'SOIL', 'CFB', 'DEA', 'YLD', 'VIGI', 'GNPX', 'PB', 'ITA', 'FIW', 'AM', 'CACC', 'MWK', 'MYOV', 'WLFC', 'GES', 'GRMN', 'PINE', 'PML', 'UMH', 'GCBC', 'JNPR', 'IBMI', 'CRSA', 'FCN', 'HSDT', 'LMB', 'EQ', 'PLW', 'CRH', 'NGD', 'TTAC', 'INGN', 'RMCF', 'CYRX', 'DDWM', 'EPIX', 'SHV', 'SAVE', 'CAN', 'GJH', 'BCTF', 'AMAT', 'TDJ', 'BEST', 'FMN', 'DARE', 'AMHCU', 'TC', 'USVM', 'OMEX', 'EGF', 'FCNCP', 'FLHK', 'PACD', 'SCHJ', 'MHH', 'PLTM', 'CRAI', 'JHY', 'USMV', 'WYND', 'BIBL', 'DGICB', 'TBB', 'MNSB', 'DBEM', 'EFX', 'DLNG', 'AMOT', 'STNE', 'SD', 'SENEB', 'BLIN', 'PHD', 'VCYT', 'AXGT', 'BDL', 'NULC', 'APPS', 'GD', 'AXTI', 'BNED', 'FUSB', 'SONG', 'JJS', 'VALX', 'HDG', 'IDA', 'OMP', 'NTEC', 'SLT', 'ACEL', 'OXBR', 'SCD', 'NERD', 'FSP', 'GMED', 'DUSA', 'VRAY', 'HOTH', 'PSK', 'FOLD', 'RFL', 'BLHY', 'MNR', 'SNA', 'NPTN', 'SCHA', 'AFT', 'DD', 'DKS', 'GRF', 'VTN', 'MMYT', 'PUK', 'NXC', 'CAR', 'HDV', 'KNL', 'UA', 'GBDV', 'QTUM', 'PFLT', 'IYH', 'JHMA', 'SGRP', 'EXIV', 'SNV', 'ONVO', 'SRLP', 'NTIC', 'CENX', 'BAK', 'AUG', 'TBF', 'SUB', 'AWK', 'KRMA', 'RETA', 'TCRZ', 'OFS', 'TLT', 'HYS', 'BGH', 'BPMX', 'FLBR', 'XMLV', 'HMLP', 'DRNA', 'SPXC', 'ARLO', 'CMC', 'CAF', 'JNCE', 'EFA', 'RAVN', 'NXPI', 'APRN', 'GBCI', 'MITK', 'NBB', 'UBSI', 'SDVY', 'NUDM', 'IIIV', 'EFC', 'BCM', 'ROOF', 'VFL', 'TLK', 'HTA', 'NCA', 'ITIC', 'CHS', 'IGE', 'NCR', 'GARS', 'EQNR', 'GLBY', 'PLCY', 'RFDI', 'XEC', 'DMF', 'VEON', 'AGFS', 'PFH', 'MBINP', 'FFWM', 'RYAM', 'PEX', 'SPLB', 'GNTY', 'NWN', 'NTIP', 'IQSU', 'DMPI', 'PAWZ', 'GDXJ', 'WLTW', 'WYY', 'ATGE', 'PBPB', 'CHSCN', 'GFNCP', 'IDEX', 'VIPS', 'NUM', 'MCHP', 'PRVL', 'AGNC', 'BRT', 'ZIONN', 'HRTG', 'CRSP', 'SCHQ', 'BWAY', 'CPF', 'JHSC', 'ETW', 'LBJ', 'JPGE', 'FTFT', 'AMTX', 'LLEX', 'SPGP', 'LJPC', 'XNTK', 'CACI', 'TDOC', 'REML', 'AOM', 'USLV', 'TRP', 'NEPH', 'BDCS', 'CHAP', 'MBINO', 'DLBR', 'SNR', 'ITGR', 'ANIX', 'TRMT', 'CENTA', 'PNTG', 'BKSC', 'CETX', 'PPTY', 'PTH', 'PBE', 'ARCH', 'FOF', 'TCF', 'AZPN', 'BHB', 'LACK', 'CRTO', 'VMOT', 'TYG', 'PAAC', 'VNCE', 'FFBC', 'FDMO', 'KEP', 'TGLS', 'PUYI', 'AKAM', 'IBCE', 'FREL', 'SAGE', 'CYD', 'OFED', 'AGNCN', 'PK', 'CAKE', 'EDIV', 'PWZ', 'SCA', 'RPD', 'EINC', 'MLN', 'APXTU', 'DHCNI', 'AMAG', 'HFC', 'POWI', 'ZTR', 'COF', 'EPAM', 'CBRE', 'TYME', 'FTI', 'FOVL', 'COWN', 'HCACU', 'PARR', 'LIZI', 'VSS', 'PSC', 'UFS', 'BNDX', 'DMTK', 'KLIC', 'IHIT', 'JPEU', 'SBI', 'PSCM', 'KCCB', 'MOMO', 'ELC', 'HUBS', 'ADAP', 'MDRR', 'IRMD', 'SLP', 'XAIR', 'SGDJ', 'PLXP', 'EVOP', 'TVIX', 'PXH', 'CALF', 'BLCM', 'HYGH', 'EQC', 'PRAH', 'FNJN', 'RVLV', 'HYGV', 'QFIN', 'OGIG', 'AKRO', 'HTGM', 'BUY', 'MGYR', 'RODE', 'DBJP', 'POR', 'IWS', 'PZD', 'CNYA', 'HEWY', 'MGRC', 'IRL', 'ADT', 'BDTX', 'LQDT', 'AUB', 'ORAN', 'BBIN', 'IEFN', 'DSX', 'HIBL', 'STM', 'OCIO', 'IPI', 'SSRM', 'JMOM', 'HURC', 'SALM', 'HTLD', 'ZYNE', 'UDEC', 'EWZS', 'NOMD', 'BMY', 'HCSG', 'BR', 'DLHC', 'VRML', 'BVSN', 'NLY', 'FLIC', 'ENOB', 'PESI', 'SKOR', 'XLP', 'RCKY', 'GSIE', 'SRACU', 'IBTI', 'WTS', 'ARD', 'RELV', 'PRTH', 'EVOL', 'SMLF', 'PNNT', 'NRBO', 'FICO', 'SPRO', 'STX', 'SKF', 'FDL', 'RWK', 'AGZ', 'MRCCL', 'JPMB', 'BLX', 'FTGC', 'HQH', 'JHAA', 'OXFD', 'TYBS', 'TRTY', 'VCLT', 'MTOR', 'AEL', 'IOSP', 'IFRA', 'MCEP', 'FIVG', 'OLEM', 'CATY', 'VTHR', 'WYNN', 'WPX', 'VETS', 'VDC', 'LDP', 'BJUN', 'SUN', 'RAFE', 'FCO', 'NVS', 'ACIA', 'BRP', 'EBSB', 'FARO', 'HBMD', 'GILD', 'CBTX', 'SHOO', 'CHAU', 'GOVT', 'TNC', 'HUGE', 'ON', 'UFCS', 'AWTM', 'KARS', 'MUJ', 'LEA', 'NGHCO', 'QSR', 'TAXF', 'WKEY', 'VLUE', 'MX', 'FLQM', 'EMLC', 'BGR', 'MPLX', 'UBS', 'BITA', 'KDMN', 'KMI', 'ALB', 'MVO', 'PEY', 'INVH', 'KLDO', 'PACQW', 'VHT', 'ARL', 'CASI', 'EWGS', 'KBWY', 'ZEN', 'VEGI', 'GBR', 'CSTL', 'PLC', 'ZGBR', 'SDAG', 'VTIP', 'ETON', 'JJG', 'GUSH', 'UTL', 'NVDA', 'IYR', 'SWM', 'GVIP', 'EDU', 'AGCO', 'LMRKO', 'KMF', 'HIBS', 'ISIG', 'NHLD', 'EIS', 'ICAD', 'DZSI', 'CHU', 'TRUE', 'CRMT', 'BWMX', 'LEAD', 'SLY', 'RWJ', 'KORU', 'EVFM', 'TIPT', 'TWLO', 'BIMI', 'CAMP', 'GSP', 'XLF', 'FCAL', 'TPOR', 'RTW', 'TWOU', 'AESE', 'BTI', 'EDI', 'DGBP', 'CNNB', 'MPV', 'LUMO', 'IJUL', 'MLPG', 'FPH', 'SOYB', 'JPIN', 'TNXP', 'XSHD', 'YYY', 'MAN', 'CRSAU', 'ANVS', 'AVH', 'TSEM', 'ULBI', 'ARWR', 'QEFA', 'CHE', 'ANGI', 'MGLN', 'PPR', 'NEV', 'BQH', 'AVTR', 'SMMV', 'VER', 'FTK', 'GNAF', 'BSCL', 'VCIT', 'EUMV', 'TPRE', 'NRGD', 'PFBI', 'CVEO', 'JBLU', 'MUB', 'SNFCA', 'VG', 'DXYN', 'MTGP', 'SFYF', 'SWI', 'IIN', 'NOCT', 'DLS', 'BNSO', 'SLYV', 'AGI', 'WABC', 'RWX', 'TWO', 'WOR', 'PAR', 'FLM', 'GPRE', 'CE', 'FLS', 'NI', 'DALT', 'DUKH', 'RILYO', 'HSON', 'NVGS', 'MTRN', 'MUE', 'PPIH', 'CIO', 'DIN', 'PKE', 'PPHI', 'CM', 'IGN', 'GAIA', 'SSPKU', 'PBTS', 'NATR', 'ODC', 'VERB', 'EDRY', 'JHS', 'SOJA', 'NRUC', 'JHMS', 'EUDV', 'QHC', 'ENG', 'EIDO', 'KOLD', 'AXLA', 'SCHC', 'TDY', 'LVHD', 'XOG', 'JOB', 'AOA', 'SPYV', 'CEL', 'VTIQW', 'ABBV', 'MYJ', 'CSSEP', 'BTZ', 'CGBD', 'NEW', 'EIGR', 'PSTI', 'NTGN', 'OBCI', 'FOXA', 'ETHO', 'HOMB', 'ZN', 'MICT', 'LRCX', 'IDLV', 'CEO', 'ITB', 'NVUS', 'CVA', 'FTHI', 'CEPU', 'EHTH', 'LARK', 'AB', 'ENZ', 'CVCY', 'EIGI', 'HAWX', 'EMGF', 'GMAN', 'IHDG', 'PACQU', 'AROC', 'NMFX', 'VIOT', 'LOWC', 'SFE', 'BPYU', 'NWLI', 'CMG', 'TMDV', 'EQR', 'ALLE', 'ODP', 'ATH', 'FINS', 'URE', 'DEI', 'TTM', 'XBUY', 'CHCT', 'MGNX', 'EWSC', 'FILL', 'BGS', 'FYC', 'MXF', 'TUP', 'CTO', 'HTHT', 'UFEB', 'MUNI', 'SCHG', 'ESSCU', 'FCEF', 'VFLQ', 'MRTN', 'PSTL', 'GFL', 'LFUS', 'KALA', 'DINT', 'FNGZ', 'TLRD', 'SMHI', 'ZION', 'ONTX', 'SYY', 'BBDO', 'ETSY', 'NEWA', 'OMF', 'NTES', 'EAGG', 'MSBI', 'VPL', 'PHI', 'VGR', 'MPC', 'PT', 'QRTEB', 'CFRX', 'DBGR', 'FDEM', 'PTNR', 'LSAF', 'RTLR', 'RDY', 'ISDR', 'OFSSI', 'CNX', 'CULP', 'HEEM', 'LSXMB', 'EVY', 'SELF', 'LXU', 'SIEN', 'TBPH', 'CPI', 'ETR', 'SAQN', 'EMF', 'FSRVU', 'BGCP', 'LIND', 'ISHG', 'PILL', 'BMO', 'DHX', 'TGH', 'PBDM', 'FUMB', 'PUMP', 'TPR', 'DEUS', 'ACNB', 'CN', 'EDIT', 'ERUS', 'JP', 'GNMK', 'Z', 'IPOS', 'GSMG', 'UZC', 'CMO', 'SMDD', 'SCM', 'SONM', 'DOMO', 'BPOPM', 'LRNZ', 'VRIG', 'WTRU', 'QLS', 'LDL', 'GPP', 'TLEH', 'HBT', 'EVGN', 'FBND', 'SRTY', 'VAPO', 'CLPT', 'BNKD', 'LIQT', 'CZA', 'LRN', 'FLQE', 'HOOK', 'VEGN', 'QARP', 'JMM', 'ECCX', 'LB', 'HUN', 'IBMO', 'UROV', 'AMT', 'REET', 'FLWS', 'CALB', 'MVCD', 'FKO', 'EPI', 'UVSP', 'OPOF', 'QQQ', 'ESGU', 'KSCD', 'W', 'EPV', 'RARX', 'BRN', 'KLR', 'UGL', 'ELGX', 'HEI', 'MAXR', 'GLIF', 'CAI', 'IYC', 'NGVT', 'NTGR', 'FDP', 'CMPR', 'NDLS', 'FSCT', 'FMCIU', 'FXB', 'USM', 'SBBX', 'TLF', 'PNC', 'BST', 'MFV', 'ENX', 'CPT', 'CNXN', 'SRRA', 'RFEM', 'DIT', 'VIIX', 'EBIZ', 'AGNCP', 'WCN', 'LYV', 'IBB', 'IMXI', 'BIG', 'PERI', 'DRQ', 'LTL', 'ROUS', 'ATI', 'MUTE', 'AMN', 'AGE', 'AFI', 'REFR', 'VIVE', 'XTLB', 'LIVX', 'TY', 'ALRS', 'PGJ', 'GMRE', 'KMB', 'NNVC', 'BSV', 'EDEN', 'HWC', 'FTSD', 'TENB', 'PSCF', 'SACH', 'CTHR', 'MTUM', 'BNY', 'MCRO', 'USEQ', 'PASG', 'STL', 'JKI', 'ACES', 'SPSC', 'GBAB', 'BDC', 'WHLRP', 'GSY', 'SCKT', 'REV', 'ACER', 'RBCN', 'VTIQ', 'CTLT', 'BLDP', 'RNDB', 'SIC', 'BJUL', 'AMRH', 'BATRA', 'SNN', 'CIDM', 'DRE', 'GLPI', 'HDSN', 'UEC', 'JPHY', 'ALEX', 'PFFL', 'CORV', 'AY', 'GLV', 'MJO', 'SCI', 'GFIN', 'ARAY', 'GM', 'JOE', 'PULM', 'BGG', 'FXN', 'TRX', 'GDAT', 'RNDM', 'DYAI', 'USFR', 'OPNT', 'TPAY', 'DEFA', 'SCHL', 'PXQ', 'PRS', 'ACWV', 'IYJ', 'ESNT', 'TAPR', 'WOOD', 'AFMC', 'RCL', 'PRTK', 'ALIM', 'CIVB', 'BNDW', 'AMCX', 'IBOC', 'SHYD', 'IFLY', 'SUNW', 'NOK', 'AMTD', 'JKH', 'DRV', 'EPS', 'HONE', 'GHM', 'NC', 'AIRG', 'IEI', 'OFLX', 'FAT', 'LGOV', 'GDL', 'SPTM', 'PHYS', 'NJAN', 'DFP', 'CHEK', 'EFNL', 'FENC', 'HAUZ', 'KTN', 'SFUN', 'ASNA', 'BYND', 'UE', 'MRGR', 'DWMF', 'VONG', 'CNI', 'SMTC', 'DVOL', 'NIE', 'NTR', 'VAC', 'NRIM', 'JFKKU', 'LTRPB', 'KEQU', 'QNST', 'LSXMK', 'PRCP', 'UNOV', 'CSF', 'CORT', 'MNRO', 'ACAM', 'GAL', 'CTXR', 'AEZS', 'BXP', 'SSB', 'DO', 'BCC', 'BSMQ', 'PTF', 'KAR', 'IBDN', 'SEAS', 'CMSD', 'IUSG', 'CVTI', 'ASRT', 'NFLT', 'TMHC', 'IRCP', 'VWO', 'ETNB', 'VST', 'MNA', 'SBUX', 'VEC', 'CME', 'FLCB', 'SPXS', 'URGN', 'ASML', 'CHWY', 'OSBC', 'FMX', 'ACM', 'MT', 'DCI', 'DZZ', 'BBAX', 'UBP', 'HHHHU', 'SID', 'VSGX', 'DGAZ', 'PALL', 'NEX', 'DPHCU', 'CDW', 'SCCB', 'USOI', 'ZYXI', 'BFS', 'AMS', 'PHB', 'IWB', 'OXLCP', 'NETL', 'HA', 'KTF', 'BP', 'DESP', 'CSWC', 'EEV', 'CSA', 'DRAD', 'RWIU', 'SVMK', 'SIL', 'AMK', 'APRE', 'NNI', 'NTP', 'AIO', 'UEIC', 'MSVB', 'CMLS', 'ATNI', 'CNAT', 'HWCPL', 'SSO', 'BERY', 'ETM', 'NCZ', 'BRFS', 'EPHE', 'CRVS', 'JCE', 'HSII', 'SPVM', 'KMPH', 'ECPG', 'ITM', 'QVCD', 'SU', 'QUAL', 'KF', 'CPAC', 'ARKW', 'EURZ', 'TECK', 'NHF', 'DCOMP', 'UUP', 'IFN', 'EYPT', 'VIRC', 'XTNT', 'CNST', 'BURL', 'FWDB', 'CTBI', 'AMSF', 'ARAV', 'PFFD', 'TGT', 'AVDL', 'VCF', 'IPDN', 'GRWG', 'CRIS', 'DTY', 'SUPV', 'NSC', 'NGG', 'CFFI', 'VAR', 'SYNL', 'RNP', 'MNK', 'ZG', 'SNDE', 'OPHC', 'ASIX', 'RODM', 'KIDS', 'CMCM', 'FDEV', 'LYTS', 'AIC', 'ZUMZ', 'FLQG', 'ATNM', 'ACU', 'FTXG', 'RLY', 'GXTG', 'JOUT', 'ACST', 'IBDS', 'BUSE', 'STNG', 'IDYA', 'PSO', 'OSUR', 'VRTX', 'FRGI', 'HZN', 'FITBO', 'IQSI', 'PWOD', 'BPYPN', 'ERJ', 'AFLG', 'RTL', 'MDLQ', 'UUUU', 'BSA', 'SFET', 'ASND', 'SKYY', 'GAM', 'FFC', 'VTNR', 'INSI', 'UJUN', 'WMS', 'WEBS', 'PZN', 'EDN', 'ZROZ', 'PDN', 'IVOV', 'AMCR', 'RBNC', 'RDVT', 'KFY', 'QTT', 'AMSC', 'JWN', 'PGR', 'GBLIZ', 'FUT', 'SENEA', 'NPN', 'SDD', 'CNK', 'NSCO', 'PBIP', 'BBIO', 'TRVI', 'CO', 'TCO', 'MCRI', 'OAS', 'TOPS', 'NUAG', 'EXR', 'GRID', 'RCG', 'EQL', 'TSLA', 'MMX', 'FNV', 'SOCL', 'SCHB', 'DGL', 'LH', 'BSD', 'PRN', 'SDPI', 'ORRF', 'CNXT', 'OIH', 'GLNG', 'EMCF', 'EIC', 'PAYS', 'STKS', 'SCHO', 'KPTI', 'USO', 'OUT', 'STIP', 'TECD', 'FRPH', 'MORF', 'KURA', 'CHMA', 'GCC', 'CBRL', 'PVH', 'KB', 'GCAP', 'GIM', 'CNTY', 'IDOG', 'JJT', 'FBP', 'PID', 'VSTM', 'JRO', 'PAYX', 'RAPT', 'JOBS', 'EDAP', 'HPE', 'GENY', 'GOLF', 'SOHOO', 'TILT', 'TTPH', 'EYEN', 'APD', 'AVB', 'DAL', 'IBDO', 'GCE', 'MFUS', 'MHO', 'SCHK', 'KEY', 'MGY', 'MNDO', 'MCB', 'XME', 'XMVM', 'ABT', 'KEYS', 'POLA', 'PHK', 'HMN', 'FEYE', 'MLPA', 'FTSL', 'PLIN', 'IMRA', 'PLAN', 'CALX', 'APLS', 'FFEU', 'WWR', 'TK', 'FLEE', 'VNM', 'NDSN', 'KGJI', 'PTLC', 'HPP', 'MFAC', 'ASPN', 'KSS', 'IPLDP', 'CAMT', 'CORP', 'SPCB', 'ATLO', 'VGZ', 'ASX', 'VPV', 'MARB', 'NXGN', 'FAX', 'ELOX', 'URNM', 'RRR', 'EXFO', 'EFG', 'BHF', 'MTZ', 'WRLS', 'GBT', 'TECTP', 'CFX', 'COKE', 'DIVC', 'YUMA', 'OSPN', 'AMBA', 'GNUS', 'TOTAU', 'JVA', 'VIOV', 'BSJL', 'CSBR', 'MRVL', 'QGRO', 'SBR', 'SECO', 'VTEB', 'BVN', 'HYDW', 'GSH', 'PPA', 'PWFL', 'CHY', 'SJW', 'AMSWA', 'JRSH', 'IBKC', 'JPI', 'CPTAL', 'GAIN', 'SM', 'ADSW', 'FPXI', 'GFF', 'GMHIU', 'EDC', 'SRET', 'WPG', 'ANGL', 'RAMP', 'BBF', 'INSU', 'ACTT', 'UCTT', 'SAND', 'HWKN', 'HAS', 'USHG', 'PEBK', 'EEX', 'BTN', 'HCCHU', 'VVNT', 'IQLT', 'GLP', 'MUDS', 'SMN', 'CTXS', 'FFTG', 'GSX', 'VNQI', 'PRSP', 'LPTH', 'FFBW', 'FMY', 'OMI', 'BDX', 'CCLP', 'RFUN', 'KFRC', 'BHP', 'SIRI', 'XLC', 'ETX', 'FCCY', 'VAW', 'NUMG', 'JFIN', 'DCUE', 'JPC', 'SWT', 'OVS', 'PDFS', 'HEWI', 'DMO', 'KRYS', 'GOGO', 'SDG', 'DWSN', 'DXC', 'ATEX', 'HOFT', 'KLDW', 'DHY', 'VNE', 'EXAS', 'VIG', 'TIGR', 'GSIT', 'FORR', 'PXF', 'GSAT', 'SCWX', 'RNLC', 'NRGU', 'RGS', 'ITW', 'NYMTM', 'FLRU', 'HCRB', 'KSA', 'CHPMU', 'HTRB', 'SNMP', 'OLN', 'BL', 'GAMR', 'GTN', 'RWED', 'LCR', 'GRNV', 'QDYN', 'MXDE', 'NEO', 'BSCE', 'JDIV', 'FXL', 'PPH', 'JPM', 'SDYL', 'FRD', 'ABIO', 'CFO', 'EFU', 'IHTA', 'JETS', 'BCS', 'VRNA', 'SNDX', 'BSMX', 'KYN', 'AI', 'MIY', 'MORN', 'NNDM', 'OI', 'AIMT', 'UGLD', 'BLKB', 'HTH', 'TWTR', 'SIVBP', 'WBIN', 'PHX', 'PW', 'AEB', 'PPSI', 'TRVN', 'FTLS', 'ICSH', 'PAK', 'HYD', 'TEAF', 'UTI', 'DS', 'TOT', 'HCCI', 'SWKS', 'BATL', 'DCAR', 'BBL', 'CX', 'FDUSZ', 'RCP', 'HIE', 'LBAI', 'SIZE', 'UEUR', 'PNQI', 'UNMA', 'AAXJ', 'IMBI', 'NYT', 'EWL', 'BIDU', 'LEG', 'ZGYHU', 'CYB', 'BIS', 'CTBB', 'RDHL', 'JPXN', 'STOR', 'SOVB', 'HDMV', 'USAC', 'AXAS', 'GFI', 'ATCX', 'IBA', 'MS', 'LAZY', 'MNKD', 'FMHI', 'GV', 'CSD', 'CCK', 'PGX', 'LCTX', 'QK', 'TATT', 'RIOT', 'VVI', 'EPD', 'MDRRP', 'SALT', 'CROX', 'EURN', 'UPW', 'MHD', 'IGT', 'BUYN', 'JMPNL', 'QAI', 'SVA', 'JPST', 'VOX', 'KZR', 'SYN', 'PRPO', 'TYHT', 'NBH', 'CWBR', 'IAK', 'IBMJ', 'SWN', 'JPSE', 'KDFI', 'NSP', 'BDGE', 'IWR', 'SRT', 'LIT', 'HBAN', 'BCOR', 'RPAR', 'VRAI', 'GXC', 'AFGC', 'MARA', 'VMI', 'GEN', 'ANTE', 'ATRO', 'RLMD', 'DRD', 'CRON', 'DNL', 'TER', 'NEAR', 'PME', 'IQDY', 'FOX', 'DISCK', 'CTAS', 'ASPU', 'NSSC', 'EAE', 'DXJS', 'JHMH', 'UDOW', 'TCI', 'DLX', 'XENT', 'BBI', 'HOME', 'ALLK', 'CIT', 'XTN', 'ALTG', 'DIVA', 'PRNT', 'ARI', 'BSMP', 'LXP', 'GAZ', 'NUSA', 'FMC', 'APVO', 'ORA', 'NOG', 'BLD', 'JKG', 'CIR', 'YORW', 'ARNA', 'CCRN', 'SCL', 'IVE', 'NXST', 'CHEP', 'GWW', 'VB', 'VNET', 'ARPO', 'IKNX', 'LKCO', 'FFNW', 'GTHX', 'XDIV', 'KRKR', 'APY', 'AIRTP', 'JBL', 'OMAB', 'PQLC', 'NEBUW', 'MYSZ', 'TSI', 'SFHY', 'PEZ', 'MINT', 'OVF', 'IEP', 'ASA', 'BSMT', 'FEX', 'IJH', 'EIX', 'BPT', 'VISL', 'NVT', 'AAME', 'AIQ', 'INT', 'AEE', 'FXH', 'TAP', 'ACMR', 'IPAC', 'ECOZ', 'HKIB', 'FLC', 'WBIY', 'EMKR', 'WEAT', 'BJ', 'NVEE', 'DHI', 'HMHC', 'GEL', 'CDXC', 'BSMM', 'AG', 'XSMO', 'AME', 'COLL', 'PBD', 'GGZ', 'SKT', 'FGM', 'HD', 'TXT', 'QUOT', 'DSM', 'DWPP', 'GLIBP', 'IIVI', 'SRS', 'CBSH', 'LOMA', 'LGL', 'AC', 'EWJV', 'LUNA', 'BTG', 'OSG', 'BYD', 'GLRE', 'SP', 'AXO', 'MSM', 'PVI', 'SBNA', 'EFOI', 'LSTR', 'JJSF', 'ZIONO', 'INBK', 'AJXA', 'LAKE', 'XITK', 'MARK', 'OPY', 'SOL', 'XONE', 'TRNS', 'GRNB', 'WRTC', 'CPTA', 'TESS', 'OTEX', 'AES', 'UNG', 'ENIA', 'ENDP', 'AAT', 'FSMB', 'BLL', 'BHTG', 'VSEC', 'JHME', 'HST', 'USB', 'BEAT', 'CZWI', 'GCP', 'USAS', 'WIT', 'NATI', 'NOM', 'CSPI', 'MTX', 'DIA', 'PFGC', 'RORE', 'WBS', 'AZRX', 'IBHE', 'RMI', 'CIGI', 'SGH', 'COP', 'AUTL', 'BRPAU', 'CVET', 'RESD', 'SPEU', 'BIT', 'IUSS', 'ZIOP', 'FNCB', 'RBCAA', 'ZBRA', 'PHAS', 'STZ', 'TBLTW', 'UTES', 'ERF', 'MYT', 'ESP', 'FTDR', 'SPTN', 'UPRO', 'RVT', 'COM', 'AWR', 'BSTZ', 'IBMQ', 'NAD', 'ONEM', 'LOGI', 'ABG', 'PQIN', 'BSCM', 'HYZD', 'KOSS', 'VCRA', 'DBL', 'SCHZ', 'XPO', 'WNC', 'PLCE', 'SBBP', 'HNW', 'MNST', 'SPTI', 'VIDI', 'PGHY', 'NVST', 'DUST', 'CLBS', 'EMIH', 'FEP', 'RTM', 'GRFS', 'MPA', 'ZAGG', 'TCRD', 'EBF', 'SRC', 'BDCY', 'ATEC', 'BKK', 'AHH', 'ASET', 'GATX', 'DPZ', 'ROCK', 'PGC', 'UTF', 'AWI', 'KSM', 'KNSA', 'APPN', 'SBE', 'PETS', 'CIA', 'PAI', 'JO', 'BSCN', 'PDSB', 'CG', 'FCNCA', 'SCHP', 'FYLD', 'COCP', 'XFLT', 'ASEA', 'PVAC', 'AFC', 'HAYN', 'RBB', 'UITB', 'MOS', 'MICR', 'CCH', 'PRFZ', 'VIOG', 'PPC', 'BWXT', 'IZRL', 'MHK', 'OFSSZ', 'VRCA', 'NKE', 'CPAH', 'USD', 'GOAU', 'EMMF', 'BCH', 'RELL', 'CDTX', 'RMD', 'LTM', 'TBT', 'ZDEU', 'CHTR', 'UJAN', 'VBND', 'LNC', 'SOLY', 'PCYG', 'QMN', 'PDLI', 'FLAU', 'MQT', 'LL', 'QADB', 'MIDF', 'AMCA', 'WTER', 'SHI', 'SSTK', 'CKPT', 'NMRD', 'SPI', 'TCTL', 'GLADL', 'JCI', 'SEEL', 'BBN', 'LDEM', 'BUG', 'PCH', 'GPC', 'ESTA', 'IRWD', 'IHT', 'GVI', 'EEM', 'VBK', 'MUFG', 'MAIN', 'VTGN', 'LDSF', 'BAUG', 'OMFL', 'LAWS', 'SPPP', 'UYG', 'DAR', 'BWX', 'QTRX', 'IWO', 'GOF', 'AMAL', 'FOR', 'TPX', 'FONR', 'KRTX', 'ICVT', 'ACAMU', 'CLI', 'ULE', 'WINS', 'LITB', 'DMRI', 'SRRK', 'JBR', 'AEHR', 'VGLT', 'MNP', 'DBB', 'FPRX', 'BSQR', 'PJUN', 'REZ', 'MBRX', 'CVY', 'EIDX', 'AXJL', 'AGMH', 'BOKFL', 'TVTY', 'ESLT', 'PFIN', 'HNI', 'MBUU', 'CNOB', 'CPTAG', 'OVID', 'SI', 'ALEC', 'VRS', 'GUDB', 'EOLS', 'FIXD', 'RBIN', 'ICHR', 'CTSH', 'ETTX', 'DDIV', 'ARKR', 'SSUS', 'LIN', 'XENE', 'EOI', 'BVXV', 'MTSC', 'FFIU', 'SUP', 'OPCH', 'GWRS', 'FENG', 'PTNQ', 'ISEM', 'WING', 'IJR', 'HDLB', 'JAZZ', 'JIH', 'QQEW', 'CHAD', 'HT', 'KLXE', 'MSEX', 'IBND', 'RCD', 'JRS', 'ARTW', 'BMTC', 'ZLAB', 'KBA', 'NIU', 'PAACU', 'FLTR', 'ALPN', 'JPMF', 'OMC', 'OLP', 'VEU', 'MMI', 'USX', 'LRGF', 'NYMTN', 'AMUB', 'MAR', 'DTUS', 'BBY', 'CVCO', 'JMF', 'HEES', 'JHMC', 'HZNP', 'PIC', 'HNDL', 'ITRM', 'LSST', 'GLOB', 'ROBO', 'XHB', 'TOTL', 'TSC', 'HERO', 'TUES', 'SGMA', 'ACH', 'NVRO', 'SCIF', 'EFZ', 'DSWL', 'BFO', 'GRX', 'FDHY', 'QMOM', 'HEQ', 'KCE', 'IPGP', 'BBUS', 'SAN', 'WY', 'BIF', 'BGT', 'MMIT', 'NRG', 'PFNX', 'JPME', 'ALE', 'RCA', 'GII', 'DLR', 'ZEUS', 'BKNG', 'ECCY', 'SBSI', 'ATR', 'BOIL', 'SAP', 'HLIT', 'IEC', 'EMBH', 'ACWX', 'OKTA', 'MTC', 'TFFP', 'ZTS', 'WWJD', 'OTIC', 'NWSA', 'PNW', 'EVTC', 'PAVE', 'EDF', 'RRC', 'LFEQ', 'JNK', 'UAL', 'NJR', 'BEDU', 'FPEI', 'EXG', 'RSXJ', 'RWSL', 'AMP', 'BSJO', 'NSL', 'VMC', 'CDK', 'PGF', 'LNGR', 'RYJ', 'WRLD', 'HUSV', 'MOAT', 'BRQS', 'SPT', 'XWEB', 'AE', 'AUTO', 'TAIT', 'CLS', 'TEI', 'CSGP', 'FSM', 'HCAT', 'EXTR', 'LASR', 'JKK', 'PRSC', 'GMO', 'FIF', 'PKX', 'LOGM', 'FDIV', 'BPYUP', 'STIM', 'GRES', 'NUV', 'YIN', 'PXE', 'EDNT', 'WCHN', 'CIK', 'HAUD', 'JHI', 'HP', 'MYRG', 'PDI', 'SWZ', 'AAAU', 'FAUS', 'AEGN', 'FCPI', 'INDL', 'NTUS', 'TGS', 'JHMI', 'CASA', 'TECB', 'JMBS', 'MIC', 'TG', 'EEMV', 'FRME', 'INSUU', 'SPMD', 'HOLI', 'PEP', 'HDAW', 'IT', 'NOVT', 'DISH', 'HJLI', 'DUK', 'ANH', 'CRBP', 'CUE', 'HUSE', 'SCHW', 'HBB', 'ZSL', 'FND', 'RWCD', 'SPKE', 'NX', 'NGM', 'RF', 'SINA', 'OYST', 'EUFN', 'PRQR', 'EVA', 'ANSS', 'AER', 'KIO', 'BSL', 'APEI', 'DGRW', 'EVT', 'MIST', 'ZJPN', 'FDVV', 'SPFF', 'MLM', 'EBTC', 'KREF', 'ORN', 'AKRX', 'FRDM', 'MTR', 'HCI', 'THRM', 'YOLO', 'OPINI', 'SGEN', 'CVE', 'BRKL', 'DWAW', 'ACP', 'GNT', 'MMU', 'SBRA', 'IXJ', 'EYEG', 'TRT', 'EES', 'RDFN', 'FTXH', 'COPX', 'SXC', 'AFGH', 'TWM', 'FOSL', 'EMTL', 'HZO', 'HLAL', 'IVOL', 'EVR', 'SAFM', 'CEMB', 'LIVE', 'SPOT', 'SCHH', 'AMCIU', 'EFL', 'OCX', 'SXT', 'LKOR', 'PRMW', 'CPRT', 'CYBE', 'IBKCP', 'OOMA', 'CTRN', 'EWV', 'KAMN', 'BDCZ', 'CGW', 'JMEI', 'AXP', 'OPESU', 'FUE', 'CQQQ', 'NESR', 'FHI', 'AQNA', 'DYNT', 'LEU', 'CIG', 'WB', 'GLBS', 'KRNY', 'FRBA', 'CHIS', 'CLW', 'ODFL', 'COHR', 'GGB', 'VBIV', 'IMUX', 'AGYS', 'PDEV', 'AZUL', 'RMM', 'IXP', 'DLY', 'TRWH', 'STLV', 'EOS', 'QVCC', 'MANH', 'CELP', 'CHK', 'IEFA', 'AHPI', 'IAI', 'BSML', 'EWMC', 'IBML', 'EMQQ', 'NREF', 'CLRG', 'AKBA', 'BAND', 'RTH', 'UUU', 'CTZ', 'OLD', 'PSQ', 'OSK', 'FIS', 'PED', 'TXG', 'SLV', 'UTG', 'SFIX', 'TSRI', 'ACV', 'NEBUU', 'DFVS', 'FRHC', 'ARDC', 'JHMD', 'TDI', 'NXTD', 'PMX', 'UTMD', 'RYB', 'MC', 'ATEN', 'ISD', 'EWC', 'BFOR', 'TFLT', 'CXP', 'NEA', 'RDI', 'ASYS', 'FLKR', 'HMY', 'CLXT', 'AXS', 'AZN', 'QQH', 'QRTEA', 'TEX', 'GPAQU', 'HECO', 'IXC', 'CURO', 'MYFW', 'JPN', 'ATVI', 'DVD', 'PICK', 'HLI', 'BBJP', 'BYSI', 'DSSI', 'THR', 'REK', 'RAD', 'PBJ', 'AFL', 'TOTA', 'LNN', 'BJAN', 'GHYG', 'LSI', 'CRC', 'HYMB', 'WEYS', 'BCBP', 'RESI', 'MDT', 'CZZ', 'CHL', 'SHLL', 'MGC', 'ABEQ', 'HAIL', 'TAYD', 'ABCB', 'TGB', 'IDE', 'ICOW', 'XRT', 'OVL', 'SBFG', 'TUSK', 'HPF', 'PHT', 'HWBK', 'DKL', 'PFSW', 'PWV', 'KOCT', 'SNDR', 'VRTU', 'VOT', 'WVFC', 'EFR', 'FLRT', 'LUB', 'FF', 'VIAV', 'MPAA', 'CCD', 'AMHC', 'VRA', 'TDTF', 'CY', 'ESEA', 'FVD', 'YLDE', 'ZUO', 'SUI', 'CRESY', 'LIVN', 'UCIB', 'SES', 'BKD', 'CLR', 'FINV', 'PFE', 'AVAV', 'CPSS', 'CLF', 'NGHC', 'DOV', 'IXSE', 'GEF', 'PLYM', 'CID', 'LGLV', 'CP', 'LWAY', 'NBRV', 'FWONK', 'OXLCM', 'IPAY', 'PFBC', 'AAPL', 'HCXZ', 'GHIV', 'PRU', 'TLC', 'FV', 'PBTP', 'URR', 'CW', 'ZYME', 'EMDV', 'IAF', 'UDN', 'TSQ', 'AMH', 'AFH', 'BSAE', 'URBN', 'DUO', 'SYNH', 'HIPS', 'TSG', 'TPIF', 'UONE', 'XCUR', 'STKL', 'LW', 'VQT', 'MXIM', 'SMPL', 'SAA', 'CDOR', 'PTR', 'AMD', 'FDTS', 'REZI', 'WLKP', 'MORT', 'CLIR', 'AMRK', 'PI', 'RIBT', 'CXSE', 'ISZE', 'CPIX', 'DTJ', 'UIHC', 'LBRDA', 'XLNX', 'SAF', 'LBTYB', 'SOHOB', 'FAST', 'NMCI', 'GDP', 'YUM', 'PWC', 'AFYA', 'FAF', 'ONEQ', 'SCSC', 'STND', 'ALYA', 'FB', 'ORGO', 'CUBB', 'PACK', 'ELS', 'PXI', 'MNRL', 'TXN', 'PREF', 'CERN', 'HIL', 'CHN', 'ITT', 'FLMX', 'ROLL', 'LMAT', 'UTX', 'MPX', 'AIA', 'BGRN', 'IQ', 'LMPX', 'SITE', 'ADI', 'AVK', 'DBEH', 'CLLS', 'PFEB', 'PSMB', 'PLXS', 'SANM', 'INTU', 'CAPR', 'ARGD', 'FM', 'AEG', 'APLT', 'ACRX', 'NS', 'HYLD', 'BCDA', 'VAL', 'USIO', 'ARGX', 'GLU', 'VZ', 'LCAHU', 'WBT', 'HTZ', 'PH', 'SNDL', 'ARR', 'ACTG', 'MTG', 'OCCIP', 'NUSI', 'TGP', 'ARC', 'FMNB', 'TKAT', 'AGS', 'SCVX', 'OFIX', 'DFJ', 'EWP', 'EH', 'PHIO', 'HFRO', 'EWI', 'AXU', 'FLEH', 'VRSN', 'NPV', 'DDM', 'ARGO', 'ADXS', 'PLAY', 'ESE', 'AMBC', 'OVBC', 'ARVN', 'SCVL', 'GRAF', 'TGTX', 'UFPI', 'DUG', 'REGN', 'TPSC', 'NEWR', 'IUSV', 'MDB', 'NAOV', 'UNTY', 'NAII', 'RFCI', 'EXPE', 'DYLS', 'ICON', 'CHIK', 'PNOV', 'AGQ', 'EWX', 'RYI', 'SVXY', 'ULST', 'MDGS', 'EQS', 'IMMU', 'STSA', 'ESGR', 'HEXO', 'ENBA', 'AVA', 'LEO', 'TGNA', 'THCB', 'XBIOW', 'BIL', 'EGY', 'PSMT', 'GASS', 'PBA', 'UNL', 'PFFR', 'INTC', 'HSY', 'BEN', 'LYB', 'MDJH', 'APXT', 'BWEN', 'SLRX', 'CRWD', 'HAL', 'KRA', 'SLCT', 'CETXP', 'DBI', 'IYF', 'VOE', 'ERIC', 'FSK', 'DDT', 'MCHI', 'RGI', 'KNAB', 'MUR', 'VMM', 'CLNY', 'RWT', 'ULVM', 'BLE', 'IVAL', 'UNM', 'DMDV', 'EFF', 'HYRE', 'UZA', 'GIFI', 'STRM', 'CEV', 'GRTX', 'AVCO', 'AKCA', 'CMA', 'PSI', 'FORD', 'SBPH', 'CHDN', 'IMOS', 'SAM', 'LEVL', 'FISI', 'EVN', 'NKX', 'PZT', 'AMC', 'ASPS', 'SDEM', 'LANDP', 'NWHM', 'RPV', 'PSLV', 'NWGI', 'TTWO', 'ISBC', 'SDOW', 'PPX', 'TCPC', 'PFFA', 'ACWF', 'CANE', 'INNT', 'QEP', 'EWM', 'IOVA', 'BXS', 'WIX', 'AWP', 'SCHX', 'XMHQ', 'BZM', 'FUNC', 'BNOV', 'CIEN', 'JFU', 'TRTX', 'KWR', 'BMA', 'ALJJ', 'BYFC', 'SBS', 'EVM', 'TGE', 'LHX', 'UNT', 'INDO', 'HTY', 'ALAC', 'SPHB', 'AEO', 'TNET', 'REM', 'FT', 'PACW', 'PODD', 'DRIO', 'CYAN', 'UOCT', 'MEOH', 'KMPR', 'AIZP', 'LGND', 'ALRM', 'OXM', 'DOX', 'EEH', 'NBR', 'CREE', 'CCCL', 'IUS', 'AQUA', 'EMB', 'SJT', 'NTG', 'BPTH', 'UBER', 'DFE', 'NEOS', 'TFLO', 'PAUG', 'ANGO', 'CCOI', 'SMLL', 'JHMM', 'FIVA', 'RFDA', 'BFAM', 'OTLK', 'PDLB', 'SYX', 'CURE', 'ASC', 'BCX', 'AMTBB', 'LDUR', 'IVZ', 'SDP', 'SGMS', 'VMO', 'SCOR', 'KRO', 'FXF', 'HDIV', 'ENBL', 'CFA', 'CRVL', 'ESGE', 'FIEE', 'ORI', 'DHIL', 'ESNG', 'WMGI', 'PEN', 'BMI', 'CUK', 'MEDS', 'TTMI', 'AMBO', 'CDC', 'XAN', 'LD', 'WLDN', 'SRV', 'MIRM', 'VCSH', 'JJA', 'LN', 'LII', 'ONCS', 'VT', 'BCYC', 'BHK', 'FRAN', 'HCC', 'PEK', 'EPAC', 'CARV', 'PTMC', 'DEUR', 'NTAP', 'PIY', 'AAP', 'TSBK', 'HJV', 'CHMI', 'XPL', 'TPTX', 'FPX', 'FRAK', 'AMOM', 'FCPT', 'ESGS', 'CUBA', 'RINF', 'PBP', 'DJCB', 'MGK', 'PRNB', 'SLG', 'EXLS', 'BLU', 'GMDA', 'CRWS', 'TZOO', 'EMAG', 'BRZU', 'QSY', 'QQXT', 'MNCL', 'IHRT', 'LINX', 'GUNR', 'JRI', 'CADE', 'FLHY', 'PSTV', 'IMTM', 'LYL', 'POWL', 'WEBK', 'ROAD', 'CARE', 'CSIQ', 'WBA', 'JPGB', 'PDEC', 'DAIO', 'CLMT', 'EMO', 'GXG', 'UPS', 'CBFV', 'ASFI', 'BJRI', 'QTNT', 'ILF', 'GGT', 'PYN', 'KEM', 'OEC', 'SPYX', 'WVVI', 'XLY', 'SEIX', 'WD', 'FXZ', 'IGIC', 'MCO', 'INTF', 'GRUB', 'KRNT', 'NVTA', 'NVMI', 'SYV', 'PEB', 'WATT', 'FJP', 'MIDU', 'CFMS', 'FTEK', 'IBP', 'NBHC', 'CAJ', 'CNFRL', 'OXSQ', 'PGTI', 'TTEC', 'RGCO', 'LMHB', 'LTRX', 'MTLS', 'MEDP', 'TZACU', 'HBANN', 'QVM', 'FIBK', 'CVU', 'STPZ', 'RUN', 'HAIN', 'ROSEU', 'ISEE', 'DBMF', 'EBND', 'GLDM', 'DCP', 'GORO', 'MINDP', 'CLM', 'NIM', 'OPER', 'DRN', 'FHN', 'OGS', 'XSLV', 'BBCP', 'LEN', 'FALN', 'CLPR', 'AFINP', 'MJCO', 'BCEI', 'JD', 'SHBI', 'YI', 'SNE', 'HHHH', 'EPRF', 'GL', 'DLN', 'IBTH', 'BBBY', 'PLG', 'LPTX', 'FPF', 'PFHD', 'ASHS', 'MFM', 'WDAY', 'DLA', 'FNF', 'MCF', 'SGLB', 'RHE', 'IPKW', 'SAFT', 'PBC', 'PVG', 'IVH', 'RC', 'CMCTP', 'DBEZ', 'MGP', 'MXE', 'PTON', 'QLVD', 'KMDA', 'AVEO', 'AIM', 'ECL', 'FJNK', 'AESR', 'ELAT', 'VRP', 'KOMP', 'COMT', 'RYF', 'QDEF', 'FGB', 'XLRE', 'AOK', 'NBSE', 'POPE', 'BOUT', 'HAE', 'LC', 'SYBX', 'TTOO', 'AIRI', 'IEUR', 'SBH', 'JJU', 'NCSM', 'NDP', 'SPNS', 'UMBF', 'CHGG', 'FXE', 'GAINL', 'PTSI', 'ALUS', 'DSLV', 'MTN', 'FTAG', 'PLSE', 'IEMG', 'LGH', 'DSE', 'UNVR', 'LATN', 'ETO', 'SAMAU', 'CEM', 'ZVO', 'MUS', 'MRAM', 'RWLS', 'IMRN', 'IBTG', 'GOGL', 'ESGRP', 'RJI', 'FNX', 'TRMB', 'VVUS', 'IMO', 'WBAI', 'WFHY', 'GRBK', 'JOYY', 'BGB', 'BOXL', 'CRS', 'GJP', 'RLGT', 'OPES', 'NM', 'AROW', 'EWA', 'PHUN', 'STAR', 'TBC', 'VCTR', 'CPHI', 'JPUS', 'DGX', 'PLNT', 'GBLI', 'FNB', 'NEU', 'DNN', 'EWRE', 'SPAB', 'BBK', 'CLRB', 'MSUS', 'SREV', 'PCTI', 'VTWG', 'ADRE', 'TTP', 'HIBB', 'BRY', 'VLY', 'KLAC', 'IJK', 'BABA', 'IWF', 'ALKS', 'SHG', 'CFBI', 'MAGS', 'WHG', 'MOSY', 'SR', 'COWZ', 'SMMD', 'DOGZ', 'UCON', 'SQLV', 'ARTL', 'MBT', 'NPK', 'GNK', 'DSTL', 'PHR', 'NXQ', 'VFC', 'BBD', 'SVBI', 'YETI', 'JBN', 'UCO', 'CSTE', 'BKLN', 'SFTW', 'ALDX', 'MFGP', 'ITRN', 'NEWTL', 'BKEP', 'MTNB', 'OPI', 'ASB', 'SDOG', 'ACLS', 'PAPR', 'IAC', 'HRZN', 'CODA', 'WDIV', 'TDS', 'WIA', 'BNKU', 'LADR', 'SKYW', 'FN', 'IEX', 'JJN', 'ALBO', 'GMOM', 'HFXE', 'THMO', 'IAU', 'FTCH', 'WAFU', 'PPBI', 'NPA', 'AMZA', 'FMAO', 'LMLB', 'SUSC', 'BRG', 'RMBI', 'RS', 'FRC', 'MLPE', 'WSC', 'VIVO', 'USPH', 'SMMC', 'MLTI', 'TEUM', 'FDT', 'TDAC', 'VJET', 'RFP', 'CMRX', 'USAI', 'AKR', 'IAE', 'IMVT', 'TTGT', 'PPMC', 'STRL', 'HUBB', 'NYMX', 'RBKB', 'RAIL', 'LPG', 'DBC', 'PXS', 'ZS', 'VALU', 'VLO', 'WEC', 'USRT', 'BELFA', 'HROW', 'CEQP', 'ASGN', 'FEUZ', 'LSCC', 'PCF', 'EWT', 'CMDY', 'BPRN', 'SMBK', 'IPG', 'TDIV', 'UBOH', 'NBEV', 'TME', 'EIM', 'XFOR', 'PDD', 'SAQNU', 'CLDR', 'SMTX', 'JKF', 'HEAR', 'AAWW', 'SNX', 'IXN', 'PPL', 'MNTA', 'VFMO', 'NTZ', 'RIG', 'PFD', 'PBFX', 'IBTJ', 'PCY', 'XAR', 'DMRE', 'FLAT', 'RODI', 'MUX', 'AOD', 'BUD', 'ADVM', 'VKQ', 'OAC', 'ARMK', 'FLEX', 'NEXA', 'VXRT', 'IMTE', 'ETV', 'HEWC', 'MDYG', 'SPWR', 'ARW', 'RGLS', 'DXR', 'TX', 'SGBX', 'CNDT', 'CTT', 'ITCB', 'NCB', 'VBR', 'MEXX', 'LMRKP', 'OUSA', 'MA', 'GMF', 'HDB', 'SCHR', 'EGAN', 'MWA', 'FLQS', 'DTUL', 'FCA', 'JBHT', 'LPI', 'ORLY', 'DTP', 'GLTR', 'FIVE', 'GSK', 'BSBE', 'MCD', 'STG', 'LAD', 'WTRH', 'SOJC', 'PBFS', 'CNTG', 'XEL', 'GPI', 'FLNG', 'SWTX', 'ENLC', 'WRK', 'GWRE', 'MCRB', 'XT', 'FWP', 'ATRS', 'ENSG', 'DXCM', 'IBMP', 'FFSG', 'ISTR', 'PLYA', 'MFDX', 'GCV', 'ATUS', 'ISTB', 'DIVO', 'GOLD', 'TMDX', 'LANC', 'MFG', 'IBHA', 'SPEM', 'FTEC', 'GREK', 'ITEQ', 'NSTG', 'ILTB', 'DIET', 'HTEC', 'WASH', 'FXG', 'TPC', 'OBLN', 'SYNA', 'FR', 'TAL', 'OPTN', 'IYM', 'PSHG', 'TIP', 'MUDSU', 'AMPY', 'FID', 'ERIE', 'EMSH', 'WRE', 'INFO', 'MOV', 'KNOW', 'ETY', 'RMAX', 'CLTL', 'IESC', 'IFGL', 'EXEL', 'MLI', 'FMBI', 'AMWD', 'MODN', 'GME', 'PKB', 'AIW', 'RVP', 'ELJ', 'WFC', 'OLED', 'SSY', 'VKI', 'PY', 'IDHQ', 'ALT', 'EPOL', 'GLAD', 'FDM', 'FSBC', 'GCI', 'THG', 'USCI', 'X', 'G', 'AYI', 'INPX', 'NRC', 'WRN', 'UMRX', 'IDXG', 'CHD', 'ERC', 'UDR', 'AAON', 'PMBC', 'CJJD', 'CAE', 'MRBK', 'MD', 'DJCO', 'NQP', 'CSWI', 'CHIU', 'SERV', 'NPAUU', 'LCII', 'BSCQ', 'PYZ', 'CMCSA', 'IEV', 'SPLK', 'PSJ', 'LAMR', 'HTLF', 'ATAX', 'AMJ', 'RCUS', 'GIX', 'HSC', 'SHIP', 'PEG', 'AR', 'VGT', 'LNG', 'INSG', 'CNBS', 'HQY', 'SPDN', 'BNKO', 'EWU', 'ROKT', 'CPSI', 'FKU', 'TCOM', 'TFSL', 'KTOS', 'RPG', 'WBK', 'SOXS', 'SWCH', 'CWBC', 'SJNK', 'RUTH', 'RGT', 'BEP', 'CCXI', 'PEO', 'FLJP', 'CDE', 'IHY', 'MDLX', 'USLM', 'IBTE', 'FFG', 'RCEL', 'CSCO', 'CERS', 'HYHG', 'CNRG', 'NP', 'CAG', 'CCS', 'SGDM', 'PKBK', 'PLL', 'TEF', 'TMUS', 'IQDE', 'KBWR', 'BKH', 'ERY', 'BRO', 'ICOL', 'ETRN', 'CDZI', 'NICE', 'IBTX', 'KW', 'UONEK', 'DBS', 'KOP', 'FRBK', 'ARQT', 'BBAR', 'INFI', 'SLDB', 'TRI', 'TLTD', 'EDD', 'GPRO', 'UNAM', 'CL', 'FNI', 'SEIC', 'LILAK', 'UBA', 'EIRL', 'RGNX', 'RRTS', 'HIX', 'AEYE', 'IHE', 'RDOG', 'INVE', 'NSS', 'ASTC', 'NYMTO', 'STPP', 'NRT', 'WHD', 'TDG', 'MLPC', 'EAF', 'HVT', 'SVM', 'SPXE', 'DAKT', 'PHGE', 'CRK', 'TWIN', 'LEJU', 'CASH', 'VRNS', 'CSM', 'JMUB', 'MDY', 'NSPR', 'STK', 'SJR', 'FPE', 'UHS', 'RXI', 'MGI', 'SHYG', 'RIO', 'CDMOP', 'SHAG', 'ZCMD', 'NRGZ', 'AL', 'SMTS', 'HELX', 'UTSL', 'GGO', 'BANC', 'CLWT', 'NFIN', 'NFRA', 'WNEB', 'NETE', 'MSB', 'GOODM', 'CLRO', 'LBC', 'GSLD', 'FNDA', 'USEG', 'PSCD', 'APT', 'LRGE', 'GRN', 'DWEQ', 'DNLI', 'QD', 'GWX', 'AADR', 'CHW', 'K', 'MTCH', 'BHFAL', 'FAMI', 'PCM', 'KRG', 'INTT', 'APTV', 'RUHN', 'PIHPP', 'DDLS', 'LBRDK', 'ALNY', 'PLM', 'FIZZ', 'EMMS', 'STAA', 'CASS', 'PMT', 'SRF', 'PRFT', 'JDST', 'USAK', 'QLTA', 'KIM', 'PRIM', 'PQSV', 'PRK', 'HJLIW', 'WTIU', 'BGY', 'PTGX', 'LTBR', 'SKYS', 'LMNX', 'BREW', 'RQI', 'PLOW', 'SOR', 'BOE', 'TMQ', 'COR', 'SSG', 'FXP', 'ASRV', 'HUIZ', 'VIST', 'BRPA', 'SPB', 'MGR', 'TRGP', 'REKR', 'WBIT', 'GNR', 'BAF', 'NSIT', 'CXH', 'KIRK', 'FCG', 'GF', 'IVOO', 'VRNT', 'EJUL', 'GENE', 'MR', 'MCY', 'PDCO', 'OSS', 'LFVN', 'LMBS', 'JPT', 'INSM', 'GSS', 'FOE', 'CNF', 'MDLY', 'FLMN', 'FTXR', 'ABTX', 'ROSC', 'KEMX', 'NURE', 'SABR', 'ACIW', 'SFNC', 'MKTX', 'DIVY', 'AVGO', 'UTRN', 'CHA', 'ONB', 'LCUT', 'SMB', 'CLFD', 'GPMT', 'HLX', 'KOD', 'AJRD', 'PBND', 'PSR', 'CNP', 'CREG', 'NRGO', 'GRAM', 'EPC', 'FNDX', 'MAT', 'SQM', 'SLQD', 'NAN', 'RHI', 'GIL', 'PTMN', 'DAN', 'GSKY', 'ALGR', 'DK', 'KIQ', 'SLCA', 'SZNE', 'BGX', 'DBVT', 'ICPT', 'EHI', 'EGLE', 'CFBK', 'GSC', 'BKYI', 'CMS', 'JGH', 'RMT', 'PSCT', 'LEAF', 'GTO', 'FPAY', 'UTSI', 'IRDM', 'TNDM', 'CERC', 'RBUS', 'ECH', 'FDNI', 'BAB', 'OEF', 'IDLB', 'WEN', 'JNUG', 'YCL', 'AVAL', 'IEUS', 'QTS', 'PSEC', 'RDIB', 'NEN', 'UMC', 'CGIX', 'THQ', 'DON', 'JMST', 'KBAL', 'PAAS', 'EQX', 'MOTS', 'THCBU', 'JPNL', 'BDRY', 'TA', 'UAPR', 'SPWH', 'ISNS', 'CLBK', 'PBH', 'SBLKZ', 'NUSC', 'NOAH', 'ECCB', 'GGAL', 'ARLP', 'DWCR', 'BHC', 'RJA', 'PUI', 'DMB', 'GHG', 'SBB', 'MMTM', 'MYD', 'IBDL', 'XSD', 'AXL', 'CGNX', 'IRS', 'PAM', 'FLSA', 'CREX', 'WBIF', 'CVLY', 'TSM', 'AVRO', 'NUAN', 'UEVM', 'ICCC', 'TUFN', 'FET', 'BIP', 'MPWR', 'ABB', 'DAUD', 'IDXX', 'QTWO', 'KOIN', 'DOC', 'NLS', 'WHR', 'GDDY', 'PSEP', 'CMSA', 'RNG', 'MYC', 'AMOV', 'AMKR', 'TRPX', 'VCIF', 'SOI', 'ROP', 'AN', 'BPMC', 'DOL', 'REAL', 'HELE', 'UAE', 'VEDL', 'LDOS', 'CATM', 'VPG', 'GURE', 'CWK', 'DRH', 'DBP', 'BSRR', 'RDUS', 'DTSS', 'COTY', 'ERSX', 'FXY', 'JKHY', 'SAMG', 'SY', 'CPS', 'GRC', 'FVRR', 'FEM', 'VNO', 'MTB', 'HTAB', 'ATOM', 'CALM', 'RIVE', 'KBSF', 'ATLC', 'JMLP', 'MNTX', 'DMRC', 'PNNTG', 'JCAP', 'ORC', 'RST', 'WK', 'CCZ', 'DWUS', 'DMRL', 'NHI', 'SPXN', 'YPF', 'TELL', 'SNUG', 'TNA', 'TECL', 'GDX', 'PFPT', 'RWR', 'TCP', 'CPER', 'HLIO', 'GROW', 'BXMX', 'DJP', 'ADX', 'BGI', 'FRLG', 'SQNS', 'PLMR', 'MSGN', 'EVGBC', 'VAM', 'CVBF', 'EBAYL', 'IPAR', 'NCNA', 'PKI', 'AXR', 'SNGX', 'WSFS', 'NUO', 'GMTA', 'IIPR', 'CBON', 'OIA', 'FBK', 'CSU', 'STLG', 'FTC', 'ACRE', 'COE', 'RFV', 'FITBI', 'ERX', 'CRUS', 'SLGN', 'ATHX', 'EFV', 'JJE', 'UMDD', 'MSTR', 'FUND', 'RALS', 'GTES', 'NEOG', 'FDBC', 'ESPR', 'GLMD', 'OTTW', 'AIF', 'BAH', 'UCHF', 'VDE', 'JHX', 'BMLP', 'VERO', 'INDA', 'VTVT', 'PBI', 'DGLD', 'CRL', 'HMNF', 'SPIP', 'DUKB', 'ENJ', 'THFF', 'HFXJ', 'ANIK', 'QUIK', 'BICK', 'GVP', 'ECHO', 'ICBK', 'TGI', 'VFQY', 'ACN', 'CGO', 'ACSG', 'LAC', 'VIE', 'IETC', 'CTRC', 'MKL', 'MTW', 'AKTS', 'KEN', 'CHMG', 'MEET', 'IPHA', 'FCF', 'SHE', 'BTA', 'JE', 'ALTS', 'HYXE', 'UVV', 'TNP', 'ARYA', 'UIVM', 'MCFT', 'CTIC', 'AIR', 'VHI', 'VBFC', 'LILA', 'XBI', 'LACQU', 'BSMN', 'MCA', 'BKN', 'UZB', 'CUBI', 'GHY', 'YGYI', 'BLV', 'MRNS', 'NK', 'HI', 'PS', 'FLQL', 'HIW', 'TJX', 'WCC', 'ULTR', 'IQV', 'LAUR', 'MRLN', 'FLBL', 'ARE', 'ALV', 'CVR', 'HCXY', 'SEDG', 'CHEF', 'REXR', 'IBD', 'PBHC', 'DL', 'FMK', 'TRCH', 'SUMR', 'SPAQ', 'RMBS', 'REG', 'GGG', 'FEN', 'GNRSU', 'AHC', 'QCRH', 'ATHE', 'GBUY', 'MARPS', 'ESTE', 'RY', 'CHKP', 'SAH', 'GHC', 'LITE', 'SE', 'CS', 'TZAC', 'FRSX', 'PGEN', 'SVT', 'AVNS', 'EVC', 'PZA', 'MESA', 'SMCI', 'RCB', 'CLDT', 'HNGR', 'FTNT', 'CTY', 'VYM', 'JHMT', 'ROL', 'IBUY', 'LOGC', 'BFEB', 'OUNZ', 'WIZ', 'AZZ', 'FMS', 'PHAT', 'FDS', 'FITBP', 'PYPL', 'ARMP', 'MOH', 'GEC', 'IXUS', 'PRAA', 'KFYP', 'WHLR', 'HTD', 'SH', 'FSV', 'TDC', 'BBC', 'GSL', 'SRDX', 'METC', 'OXSQL', 'EMNT', 'PFL', 'CUO', 'SPCE', 'SAIA', 'IQDG', 'AEF', 'CAPE', 'QRHC', 'MDLZ', 'RIGS', 'ETN', 'RHP', 'TAC', 'ARES', 'THW', 'BLW', 'WDFC', 'CLOU', 'MMC', 'FIHD', 'EZU', 'OBOR', 'ACHC', 'VXZ', 'SPFI', 'TPVY', 'FHB', 'EVX', 'OPRX', 'GBF', 'ISSC', 'RBS', 'ISR', 'METX', 'CCAP', 'CIB', 'PXJ', 'PCRX', 'CNXM', 'PPD', 'FCAP', 'RSSS', 'PLX', 'TSCBP', 'TKR', 'EQAL', 'IBHC', 'LTHM', 'PAA', 'ACSI', 'TAGS', 'FLGT', 'PSL', 'QID', 'HTUS', 'EWBC', 'UYM', 'JKD', 'ALACR', 'NBO', 'MTP', 'DFEN', 'SESN', 'CNBKA', 'IBDT', 'CHIL', 'NGVC', 'ASR', 'HR', 'TBK', 'GTIM', 'FLLA', 'LQDH', 'IDCC', 'RBZ', 'ENFR', 'PEBO', 'BOND', 'SLB', 'MBIO', 'GTS', 'CFFAU', 'XSOE', 'WWW', 'PTAC', 'NMM', 'DCO', 'HCHC', 'AVID', 'KFS', 'AIN', 'ZIONW', 'EVG', 'RVRS', 'EE', 'EAT', 'CLSD', 'TGC', 'IEZ', 'HNNA', 'XNET', 'ISDS', 'OCGN', 'GHYB', 'CTVA', 'AGBAU', 'ECF', 'IGA', 'ZIV', 'LAND', 'SYK', 'MTDR', 'RWM', 'MUC', 'LEDS', 'HIO', 'AMZN', 'PCQ', 'FSBW', 'ENLV', 'ELY', 'BSIG', 'LEMB', 'VEGA', 'FNKO', 'HOG', 'MTEX', 'CLAR', 'BC', 'SPGI', 'GBX', 'SDGR', 'HUM', 'TELA', 'DNK', 'GSUM', 'IBDP', 'PTCT', 'PMM', 'FIT', 'SNP', 'DGRE', 'AVGR', 'NUMV', 'IRTC', 'MAA', 'ESGG', 'VRRM', 'SFBC', 'BLBD', 'QGEN', 'ROKU', 'TAOP', 'PCI', 'ARKF', 'ABC', 'HOMZ', 'LGC', 'JPS', 'WHFBZ', 'DISCB', 'DGS', 'FIDI', 'EELV', 'RYE', 'ALSN', 'DWAT', 'WHLRD', 'UBCP', 'SOGO', 'SSI', 'EV', 'GAA', 'XERS', 'HSBC', 'GRNQ', 'GER', 'CCMP', 'HEZU', 'ASLN', 'PFM', 'SCIX', 'SJIJ', 'XSHQ', 'MOD', 'HCCO', 'JKJ', 'MCMJ', 'IEDI', 'CMI', 'UGE', 'SCC', 'PFXF', 'KMED', 'AFG', 'SWKH', 'BLUE', 'TBLU', 'TISI', 'OTTR', 'ENTA', 'UI', 'CCBG', 'MVIS', 'MKSI', 'WPRT', 'AXE', 'FSLY', 'BLOK', 'EMFM', 'ICLK', 'BAP', 'GMAB', 'CSB', 'JCO', 'LVHB', 'AVDE', 'GCOW', 'ATOS', 'NTCO', 'CBH', 'OSIS', 'ONEW', 'ORBC', 'SPOK', 'SRI', 'UAMY', 'BDJ', 'RH', 'CTL', 'SC', 'CPHC', 'TWN', 'VVR', 'SRVR', 'CSX', 'INVA', 'SVVC', 'SLGG', 'SSPK', 'FNGU', 'ABR', 'T', 'IBTF', 'HGH', 'ESCA', 'FFTY', 'FI', 'AGX', 'ETFC', 'PAGS', 'PMF', 'LSBK', 'RGA', 'ROG', 'ALLY', 'QYLD', 'SMRT', 'VFF', 'ROBT', 'EXPI', 'PRA', 'AVGOP', 'ABEV', 'TSN', 'DUC', 'PRT', 'SSNC', 'TH', 'ZMLP', 'CUI', 'HII', 'OSN', 'YUMC', 'FCOM', 'GIII', 'CMF', 'MYO', 'JAGG', 'HFBL', 'SNSR', 'PSCU', 'INFY', 'KXIN', 'LBTYA', 'BGFV', 'CELC', 'SDGA', 'CNNE', 'ROIC', 'WVVIP', 'CPLP', 'LMST', 'SSD', 'VXX', 'TIPZ', 'SRCE', 'BAX', 'PLT', 'GBL', 'WDC', 'LBY', 'CHUY', 'ATRA', 'FNGS', 'SRE', 'THTX', 'MSA', 'APPF', 'VNQ', 'THBR', 'AUMN', 'SNES', 'RVI', 'DGII', 'MRSN', 'MGA', 'LNDC', 'SUSA'}\n"
     ]
    }
   ],
   "source": [
    "# Subtract the sets of values\n",
    "result = unique_symbols - unique_stocks\n",
    "print(result)"
   ]
  },
  {
   "cell_type": "code",
   "execution_count": 42,
   "metadata": {},
   "outputs": [],
   "source": [
    "meta_df.createOrReplaceTempView('metadata')"
   ]
  },
  {
   "cell_type": "code",
   "execution_count": 43,
   "metadata": {},
   "outputs": [
    {
     "name": "stdout",
     "output_type": "stream",
     "text": [
      "+-------------+------+--------------------+----------------+---------------+---+--------------+----------+----------------+----------+-------------+----------+\n",
      "|Nasdaq Traded|Symbol|       Security Name|Listing Exchange|Market Category|ETF|Round Lot Size|Test Issue|Financial Status|CQS Symbol|NASDAQ Symbol|NextShares|\n",
      "+-------------+------+--------------------+----------------+---------------+---+--------------+----------+----------------+----------+-------------+----------+\n",
      "|            Y|  ARNA|Arena Pharmaceuti...|               Q|              Q|  N|         100.0|         N|               N|      null|         ARNA|         N|\n",
      "|            Y|  ARNC|Arconic Corporati...|               N|               |  N|         100.0|         N|            null|      ARNC|         ARNC|         N|\n",
      "+-------------+------+--------------------+----------------+---------------+---+--------------+----------+----------------+----------+-------------+----------+\n",
      "\n"
     ]
    }
   ],
   "source": [
    "spark.sql('''SELECT * FROM metadata WHERE Symbol LIKE 'ARN%' ''').show()"
   ]
  },
  {
   "cell_type": "code",
   "execution_count": 44,
   "metadata": {},
   "outputs": [],
   "source": [
    "df = df.withColumn('stock', F.when(df['stock'] == 'ARNCA', 'ARNC').otherwise(df['stock']))"
   ]
  },
  {
   "cell_type": "markdown",
   "metadata": {},
   "source": [
    "## Timeliness\n",
    "\n",
    "Timeliness is the degree to which data represent reality from the required point in time.\n",
    "\n",
    "Timeliness expects that the data within your dataset is sufficiently up to date. If you are trying to answer questions that relate to recent problems, having timely data is extremely important. For example, you cannot use current flight patterns to model how many aeroplanes will be required by a large aeronautics company within the next 5-10 years. \n",
    "\n",
    "Similarly, when answering questions that require real-time answers (e.g., predicting when a pipe will burst in a manufacturing plant), you have to be set up to receive real-time data from sensors and loggers. \n",
    "\n",
    "- **Measured by**: Time difference;\n",
    "- **Units**: Time;\n",
    "- **Related to**: Accuracy because it will decay as time progress. "
   ]
  },
  {
   "cell_type": "markdown",
   "metadata": {},
   "source": [
    "It is important to see the latest value for each of the stocks that we are looking at:"
   ]
  },
  {
   "cell_type": "code",
   "execution_count": 45,
   "metadata": {},
   "outputs": [
    {
     "name": "stdout",
     "output_type": "stream",
     "text": [
      "+-----+----------+\n",
      "|stock| max(Date)|\n",
      "+-----+----------+\n",
      "|   AA|1962-12-31|\n",
      "|  XOM|1962-12-31|\n",
      "|  DIS|1962-12-31|\n",
      "|   PG|1962-12-31|\n",
      "|   GT|1962-12-31|\n",
      "|   MO|1962-12-31|\n",
      "|  IBM|1962-12-31|\n",
      "|  JNJ|1962-12-31|\n",
      "|  CVX|1962-12-31|\n",
      "|  DTE|1962-12-31|\n",
      "|   BA|1962-12-31|\n",
      "|   GE|1962-12-31|\n",
      "|  HPQ|1962-12-31|\n",
      "| ARNC|1962-12-31|\n",
      "|  CAT|1962-12-31|\n",
      "|   IP|1962-12-31|\n",
      "|   FL|1962-12-31|\n",
      "|   ED|1962-12-31|\n",
      "|  NAV|1962-11-30|\n",
      "|   KO|1962-12-31|\n",
      "+-----+----------+\n",
      "\n"
     ]
    }
   ],
   "source": [
    "df.groupBy('stock').agg(F.max('Date')).show()"
   ]
  },
  {
   "cell_type": "markdown",
   "metadata": {},
   "source": [
    "Sometimes, some of these axes of data quality will be less important than others. \n",
    "This is one of those cases where it is less important to have timely data, since \n",
    "we are trying to create a training dataset for a stock market prediction algorithm. \n",
    "\n",
    "It is important to know the context in which you are doing your modelling. "
   ]
  },
  {
   "cell_type": "markdown",
   "metadata": {},
   "source": [
    "### Gaps in the dataset\n",
    "\n",
    "Let's see if we can find inconsistencies in the time series by having a look at the number of entries for each of the tickers.\n",
    " \n",
    "> ℹ️ **Instructions** ℹ️\n",
    ">\n",
    "> Uncomment and use the below code to determine which dates had entries that were not equal to 20. You may have to change the name of the dataframe to see the resultant output\n",
    ">\n",
    ">*You may use as many coding cells as necessary.*"
   ]
  },
  {
   "cell_type": "code",
   "execution_count": 46,
   "metadata": {},
   "outputs": [
    {
     "name": "stdout",
     "output_type": "stream",
     "text": [
      "+----------+-----+\n",
      "|      date|count|\n",
      "+----------+-----+\n",
      "|1962-02-06|   23|\n",
      "|1962-03-20|   19|\n",
      "|1962-09-18|   21|\n",
      "|1962-09-10|   21|\n",
      "|1962-09-13|   21|\n",
      "|1962-03-19|   19|\n",
      "|1962-12-18|   19|\n",
      "|1962-07-25|   19|\n",
      "|1962-02-27|   23|\n",
      "|1962-02-15|   23|\n",
      "|1962-03-14|   19|\n",
      "|1962-02-16|   23|\n",
      "|1962-02-08|   23|\n",
      "|1962-06-07|   19|\n",
      "|1962-02-02|   23|\n",
      "|1962-09-20|   21|\n",
      "|1962-09-19|   21|\n",
      "|1962-02-13|   23|\n",
      "|1962-02-01|   23|\n",
      "|1962-09-07|   21|\n",
      "|1962-12-03|   19|\n",
      "|1962-06-12|   19|\n",
      "|1962-09-21|   21|\n",
      "|1962-02-28|   23|\n",
      "|1962-12-31|   19|\n",
      "|1962-02-23|   23|\n",
      "|1962-02-19|   23|\n",
      "|1962-02-07|   23|\n",
      "|1962-12-21|   19|\n",
      "|1962-09-06|   21|\n",
      "|1962-09-28|   21|\n",
      "|1962-09-14|   21|\n",
      "|1962-09-17|   21|\n",
      "|1962-02-12|   23|\n",
      "|1962-07-20|   19|\n",
      "|1962-02-09|   23|\n",
      "|1962-09-12|   21|\n",
      "|1962-02-14|   23|\n",
      "|1962-02-21|   23|\n",
      "|1962-09-26|   21|\n",
      "|1962-02-26|   23|\n",
      "|1962-03-22|   19|\n",
      "|1962-06-06|   19|\n",
      "|1962-09-04|   21|\n",
      "|1962-12-28|   19|\n",
      "|1962-09-05|   21|\n",
      "|1962-12-20|   19|\n",
      "|1962-09-25|   21|\n",
      "|1962-09-11|   21|\n",
      "|1962-09-27|   21|\n",
      "|1962-02-05|   23|\n",
      "|1962-09-24|   21|\n",
      "|1962-02-20|   23|\n",
      "|1962-12-19|   19|\n",
      "|1962-07-27|   19|\n",
      "|1962-07-02|   19|\n",
      "|1962-03-26|   19|\n",
      "|1962-12-12|   18|\n",
      "|1962-12-07|   18|\n",
      "|1962-06-18|   19|\n",
      "|1962-06-15|   19|\n",
      "|1962-03-16|   19|\n",
      "|1962-03-13|   19|\n",
      "|1962-06-13|   19|\n",
      "|1962-06-29|   19|\n",
      "|1962-03-15|   19|\n",
      "|1962-07-24|   19|\n",
      "|1962-07-19|   19|\n",
      "|1962-03-05|   19|\n",
      "|1962-07-03|   19|\n",
      "|1962-03-01|   19|\n",
      "|1962-12-14|   18|\n",
      "|1962-06-27|   19|\n",
      "|1962-12-11|   18|\n",
      "|1962-07-10|   19|\n",
      "|1962-12-17|   18|\n",
      "|1962-06-20|   19|\n",
      "|1962-03-07|   19|\n",
      "|1962-07-13|   19|\n",
      "|1962-06-22|   19|\n",
      "|1962-07-16|   19|\n",
      "|1962-06-26|   19|\n",
      "|1962-07-23|   19|\n",
      "|1962-03-28|   19|\n",
      "|1962-07-17|   19|\n",
      "|1962-07-18|   19|\n",
      "|1962-06-04|   19|\n",
      "|1962-12-27|   19|\n",
      "|1962-07-31|   19|\n",
      "|1962-06-19|   19|\n",
      "|1962-07-26|   19|\n",
      "|1962-12-06|   18|\n",
      "|1962-03-30|   19|\n",
      "|1962-06-11|   19|\n",
      "|1962-06-14|   19|\n",
      "|1962-06-01|   19|\n",
      "|1962-06-05|   19|\n",
      "|1962-06-25|   19|\n",
      "|1962-03-06|   19|\n",
      "|1962-03-08|   19|\n",
      "|1962-03-21|   19|\n",
      "|1962-03-29|   19|\n",
      "|1962-03-23|   19|\n",
      "|1962-03-12|   19|\n",
      "|1962-07-06|   19|\n",
      "|1962-12-26|   19|\n",
      "|1962-12-24|   19|\n",
      "|1962-07-09|   19|\n",
      "|1962-12-04|   18|\n",
      "|1962-06-28|   19|\n",
      "|1962-07-05|   19|\n",
      "|1962-07-11|   19|\n",
      "|1962-12-13|   18|\n",
      "|1962-07-12|   19|\n",
      "|1962-03-27|   19|\n",
      "|1962-12-10|   18|\n",
      "|1962-03-02|   19|\n",
      "|1962-06-21|   19|\n",
      "|1962-03-09|   19|\n",
      "|1962-07-30|   19|\n",
      "|1962-12-05|   18|\n",
      "|1962-06-08|   19|\n",
      "+----------+-----+\n",
      "\n"
     ]
    }
   ],
   "source": [
    "#df.orderBy('date').groupby('date').count().where(F.col('count') != 20).show(400)\n",
    "df.orderBy('date').groupby('date').count().where(F.col('count') != 20).show(300)"
   ]
  },
  {
   "cell_type": "markdown",
   "metadata": {},
   "source": [
    "> ℹ️ **Instructions** ℹ️\n",
    ">\n",
    "> From the above result, investigate the number of times a stock appears for the given month. You can infer the months by using the output of the previous cell.\n",
    ">\n",
    ">*You may use as many coding cells as necessary.*"
   ]
  },
  {
   "cell_type": "code",
   "execution_count": 47,
   "metadata": {},
   "outputs": [
    {
     "name": "stdout",
     "output_type": "stream",
     "text": [
      "+-----------+-----+-----+\n",
      "|month(date)|stock|count|\n",
      "+-----------+-----+-----+\n",
      "|          1|   GE|   22|\n",
      "|          1|   ED|   22|\n",
      "|          1|  XOM|   22|\n",
      "|          1|  DTE|   22|\n",
      "|          1|   KO|   22|\n",
      "|          1|   BA|   22|\n",
      "|          1| ARNC|   22|\n",
      "|          1|  JNJ|   22|\n",
      "|          1|  CAT|   22|\n",
      "|          1|   MO|   22|\n",
      "|          1|   GT|   22|\n",
      "|          1|   FL|   22|\n",
      "|          1|  NAV|   22|\n",
      "|          1|  IBM|   22|\n",
      "|          1|  CVX|   22|\n",
      "|          1|   PG|   22|\n",
      "|          1|   IP|   22|\n",
      "|          1|  DIS|   22|\n",
      "|          1|  HPQ|   22|\n",
      "|          1|   AA|   22|\n",
      "|          2|   GE|   19|\n",
      "|          2|  DTE|   19|\n",
      "|          2|   BA|   19|\n",
      "|          2|   GT|   19|\n",
      "|          2|   IP|   19|\n",
      "|          2|   FL|   19|\n",
      "|          2|  CVX|   19|\n",
      "|          2|  HPQ|   76|\n",
      "|          2|  XOM|   19|\n",
      "|          2| ARNC|   19|\n",
      "|          2|   ED|   19|\n",
      "|          2|   KO|   19|\n",
      "|          2|  NAV|   19|\n",
      "|          2|  DIS|   19|\n",
      "|          2|   PG|   19|\n",
      "|          2|  CAT|   19|\n",
      "|          2|  JNJ|   19|\n",
      "|          2|   MO|   19|\n",
      "|          2|   AA|   19|\n",
      "|          2|  IBM|   19|\n",
      "|          3|  DIS|   22|\n",
      "|          3|   ED|   22|\n",
      "|          3|   BA|   22|\n",
      "|          3|  DTE|   22|\n",
      "|          3|   KO|   22|\n",
      "|          3|  IBM|   22|\n",
      "|          3|   PG|   22|\n",
      "|          3|   GE|   22|\n",
      "|          3|  CVX|   22|\n",
      "|          3|  XOM|   22|\n",
      "|          3|   AA|   22|\n",
      "|          3|  NAV|   22|\n",
      "|          3|   MO|   22|\n",
      "|          3|   IP|   22|\n",
      "|          3|   FL|   22|\n",
      "|          3|   GT|   22|\n",
      "|          3| ARNC|   22|\n",
      "|          3|  HPQ|   22|\n",
      "|          3|  JNJ|   22|\n",
      "|          4|  JNJ|   20|\n",
      "|          4|  CVX|   20|\n",
      "|          4|   IP|   20|\n",
      "|          4|   GT|   20|\n",
      "|          4|  IBM|   20|\n",
      "|          4|   ED|   20|\n",
      "|          4|  HPQ|   20|\n",
      "|          4|  XOM|   20|\n",
      "|          4|   MO|   20|\n",
      "|          4|   FL|   20|\n",
      "|          4|  NAV|   20|\n",
      "|          4|   GE|   20|\n",
      "|          4| ARNC|   20|\n",
      "|          4|  DIS|   20|\n",
      "|          4|   KO|   20|\n",
      "|          4|   BA|   20|\n",
      "|          4|  DTE|   20|\n",
      "|          4|   PG|   20|\n",
      "|          4|   AA|   20|\n",
      "|          4|  CAT|   20|\n",
      "|          5|  CVX|   22|\n",
      "|          5|  IBM|   22|\n",
      "|          5|   IP|   22|\n",
      "|          5|  CAT|   22|\n",
      "|          5|   ED|   22|\n",
      "|          5|   AA|   22|\n",
      "|          5|  NAV|   22|\n",
      "|          5|   FL|   22|\n",
      "|          5| ARNC|   22|\n",
      "|          5|  HPQ|   22|\n",
      "|          5|   MO|   22|\n",
      "|          5|  DIS|   22|\n",
      "|          5|   GT|   22|\n",
      "|          5|   KO|   22|\n",
      "|          5|  XOM|   22|\n",
      "|          5|   GE|   22|\n",
      "|          5|   PG|   22|\n",
      "|          5|  JNJ|   22|\n",
      "|          5|  DTE|   22|\n",
      "|          5|   BA|   22|\n",
      "|          6|  CAT|   21|\n",
      "|          6| ARNC|   21|\n",
      "|          6|   MO|   21|\n",
      "|          6|   AA|   21|\n",
      "|          6|  IBM|   21|\n",
      "|          6|  HPQ|   21|\n",
      "|          6|  DTE|   21|\n",
      "|          6|   PG|   21|\n",
      "|          6|   ED|   21|\n",
      "|          6|  DIS|   21|\n",
      "|          6|  CVX|   21|\n",
      "|          6|   BA|   21|\n",
      "|          6|  XOM|   21|\n",
      "|          6|   IP|   21|\n",
      "|          6|  NAV|   21|\n",
      "|          6|   GT|   21|\n",
      "|          6|  JNJ|   21|\n",
      "|          6|   KO|   21|\n",
      "|          6|   GE|   21|\n",
      "|          7|   ED|   21|\n",
      "|          7|   PG|   21|\n",
      "|          7|   KO|   21|\n",
      "|          7|   IP|   21|\n",
      "|          7|   GT|   21|\n",
      "|          7|   FL|   21|\n",
      "|          7|   MO|   21|\n",
      "|          7|  DIS|   21|\n",
      "|          7|  XOM|   21|\n",
      "|          7| ARNC|   21|\n",
      "|          7|  DTE|   21|\n",
      "|          7|  NAV|   21|\n",
      "|          7|  CAT|   21|\n",
      "|          7|   BA|   21|\n",
      "|          7|  IBM|   21|\n",
      "|          7|   GE|   21|\n",
      "|          7|   AA|   21|\n",
      "|          7|  CVX|   21|\n",
      "|          7|  HPQ|   21|\n",
      "|          8|  XOM|   23|\n",
      "|          8|  JNJ|   23|\n",
      "|          8|   GT|   23|\n",
      "|          8|  HPQ|   23|\n",
      "|          8|  NAV|   23|\n",
      "|          8|  DIS|   23|\n",
      "|          8|   AA|   23|\n",
      "|          8|  CVX|   23|\n",
      "|          8|   MO|   23|\n",
      "|          8|  DTE|   23|\n",
      "|          8|   PG|   23|\n",
      "|          8|   GE|   23|\n",
      "|          8|  IBM|   23|\n",
      "|          8|  CAT|   23|\n",
      "|          8|   FL|   23|\n",
      "|          8|   BA|   23|\n",
      "|          8|   KO|   23|\n",
      "|          8|   IP|   23|\n",
      "|          8|   ED|   23|\n",
      "|          8| ARNC|   23|\n",
      "|          9|   KO|   19|\n",
      "|          9|  XOM|   19|\n",
      "|          9|   PG|   19|\n",
      "|          9|  IBM|   19|\n",
      "|          9|  JNJ|   19|\n",
      "|          9|   MO|   19|\n",
      "|          9|   GE|   19|\n",
      "|          9|  DIS|   19|\n",
      "|          9|  CAT|   19|\n",
      "|          9|   ED|   38|\n",
      "|          9|   AA|   19|\n",
      "|          9|   BA|   19|\n",
      "|          9|  HPQ|   19|\n",
      "|          9|   IP|   19|\n",
      "|          9|  NAV|   19|\n",
      "|          9| ARNC|   19|\n",
      "|          9|  DTE|   19|\n",
      "|          9|  CVX|   19|\n",
      "|          9|   GT|   19|\n",
      "|          9|   FL|   19|\n",
      "|         10|   AA|   23|\n",
      "|         10|   GT|   23|\n",
      "|         10|  HPQ|   23|\n",
      "|         10|   IP|   23|\n",
      "|         10|   KO|   23|\n",
      "|         10|  CVX|   23|\n",
      "|         10|   FL|   23|\n",
      "|         10|  DIS|   23|\n",
      "|         10| ARNC|   23|\n",
      "|         10|   ED|   23|\n",
      "|         10|  DTE|   23|\n",
      "|         10|   BA|   23|\n",
      "|         10|  CAT|   23|\n",
      "|         10|  IBM|   23|\n",
      "|         10|   MO|   23|\n",
      "|         10|   PG|   23|\n",
      "|         10|  XOM|   23|\n",
      "|         10|  JNJ|   23|\n",
      "|         10|  NAV|   23|\n",
      "|         10|   GE|   23|\n",
      "|         11|   FL|   20|\n",
      "|         11|  IBM|   20|\n",
      "|         11|   AA|   20|\n",
      "|         11|  JNJ|   20|\n",
      "|         11|  CAT|   20|\n",
      "|         11|   BA|   20|\n",
      "|         11|  HPQ|   20|\n",
      "|         11|  DTE|   20|\n",
      "|         11|  CVX|   20|\n",
      "|         11|   GT|   20|\n",
      "|         11|   ED|   20|\n",
      "|         11| ARNC|   20|\n",
      "|         11|   GE|   20|\n",
      "|         11|  NAV|   20|\n",
      "|         11|   KO|   20|\n",
      "|         11|  XOM|   20|\n",
      "|         11|   PG|   20|\n",
      "|         11|   MO|   20|\n",
      "|         11|  DIS|   20|\n",
      "|         11|   IP|   20|\n",
      "|         12|   FL|   20|\n",
      "|         12|   GT|   20|\n",
      "|         12|  CVX|   20|\n",
      "|         12|   ED|   20|\n",
      "|         12|  IBM|   20|\n",
      "|         12|   KO|   20|\n",
      "|         12|  CAT|   20|\n",
      "|         12|   PG|   20|\n",
      "|         12|   GE|   20|\n",
      "|         12|  JNJ|   20|\n",
      "|         12|  DIS|   20|\n",
      "|         12|  XOM|   20|\n",
      "|         12|   MO|   20|\n",
      "|         12|   BA|   10|\n",
      "|         12|   AA|   20|\n",
      "|         12|  DTE|   20|\n",
      "|         12|  HPQ|   20|\n",
      "|         12| ARNC|   20|\n",
      "|         12|   IP|   20|\n",
      "+-----------+-----+-----+\n",
      "\n"
     ]
    }
   ],
   "source": [
    "#TODO: Write your code here\n",
    "df.groupby(F.month('date'), 'stock').count().orderBy('month(date)').show(300)"
   ]
  },
  {
   "cell_type": "markdown",
   "metadata": {},
   "source": [
    "## Uniqueness\n",
    "\n",
    "Uniqueness requires that nothing will be recorded more than once based upon how that thing is identified. It is the inverse of an assessment of the level of duplication.\n",
    "\n",
    "Each entry within the dataset should only relate to a single event that has occurred and thus should not be duplicated. This is largely mediated by having the appropriate primary key, which means sticking to the requirements of a good primary key. All fields in the tables should be non-transitively dependent on the primary key.\n",
    "\n",
    "As such, deduplication of the dataset may be required. \n",
    "\n",
    "- **Measured by**: Analysis of the number of things assessed in the “real world” compared to the number of records of things in the dataset. This requires a reference dataset which is the ground truth;\n",
    "- **Units**: Percentage;\n",
    "- **Related to**: Consistency."
   ]
  },
  {
   "cell_type": "markdown",
   "metadata": {},
   "source": [
    "### Duplication Test\n",
    "For time-series data, it is important to check for duplications, as we typically expect all values to be unique within the dataset.\n",
    "\n",
    "The first thing to check will be if the primary key values within the dataset are unique - in our case, that will be a combination of the stock name and the date.\n",
    "\n",
    "Secondly, we want to check if the entries are all unique, which is done by checking for duplicates across that whole dataset."
   ]
  },
  {
   "cell_type": "markdown",
   "metadata": {},
   "source": [
    "> ℹ️ **Instructions** ℹ️\n",
    ">\n",
    "> Write code to determine if there are any duplicates within the data, and then proceed to correct this by dropping them from the dataframe.\n",
    ">\n",
    ">*You may use as many coding cells as necessary.*"
   ]
  },
  {
   "cell_type": "code",
   "execution_count": 48,
   "metadata": {},
   "outputs": [
    {
     "name": "stdout",
     "output_type": "stream",
     "text": [
      "+----------+-----+-----+\n",
      "|      date|stock|count|\n",
      "+----------+-----+-----+\n",
      "|1962-02-09|  HPQ|    4|\n",
      "|1962-02-08|  HPQ|    4|\n",
      "|1962-02-27|  HPQ|    4|\n",
      "|1962-02-23|  HPQ|    4|\n",
      "|1962-02-02|  HPQ|    4|\n",
      "|1962-02-16|  HPQ|    4|\n",
      "|1962-02-01|  HPQ|    4|\n",
      "|1962-02-15|  HPQ|    4|\n",
      "|1962-02-13|  HPQ|    4|\n",
      "|1962-02-05|  HPQ|    4|\n",
      "|1962-02-07|  HPQ|    4|\n",
      "|1962-02-06|  HPQ|    4|\n",
      "|1962-02-26|  HPQ|    4|\n",
      "|1962-02-20|  HPQ|    4|\n",
      "|1962-02-28|  HPQ|    4|\n",
      "|1962-02-12|  HPQ|    4|\n",
      "|1962-02-14|  HPQ|    4|\n",
      "|1962-02-19|  HPQ|    4|\n",
      "|1962-02-21|  HPQ|    4|\n",
      "|1962-09-27|   ED|    2|\n",
      "+----------+-----+-----+\n",
      "only showing top 20 rows\n",
      "\n"
     ]
    }
   ],
   "source": [
    "df.groupby(['date', 'stock']).count().where('count > 1').sort('count', ascending = False).show()"
   ]
  },
  {
   "cell_type": "code",
   "execution_count": 49,
   "metadata": {},
   "outputs": [],
   "source": [
    "df = df.dropDuplicates(['date', 'stock'])"
   ]
  },
  {
   "cell_type": "code",
   "execution_count": 50,
   "metadata": {},
   "outputs": [
    {
     "name": "stdout",
     "output_type": "stream",
     "text": [
      "+----+-----+-----+\n",
      "|date|stock|count|\n",
      "+----+-----+-----+\n",
      "+----+-----+-----+\n",
      "\n"
     ]
    }
   ],
   "source": [
    "df.groupby(['date', 'stock']).count().where('count > 1').sort('count', ascending = False).show()"
   ]
  },
  {
   "cell_type": "markdown",
   "metadata": {},
   "source": [
    "## Validity\n",
    "Data is valid if it conforms to the syntax (format, type, range) of its definition.\n",
    "\n",
    "Certain values within a field may have specific criteria required to make it valid, e.g., numerical columns cannot contain alphabetical characters, which can occur due to scientific notation.\n",
    "\n",
    "This can be more difficult to determine in stings, in which case you may have to check using regex. \n",
    "\n",
    "- **Measured by**: Comparison between the data and metadata or documentation for the data item;\n",
    "- **Units**: Percentage of data items deemed Valid or Invalid;\n",
    "- **Related to**: Accuracy, Completeness, Consistency, and Uniqueness."
   ]
  },
  {
   "cell_type": "markdown",
   "metadata": {},
   "source": [
    "We need to first define what we expect from our dataset:\n",
    "\n",
    "- stock: string (nullable = true) => Should be contained in the list of expected tickers\n",
    "- date: date (nullable = true) => Should conform to date format, and be in the past\n",
    "- open: double (nullable = true) => Should be positive or 0\n",
    "- high: double (nullable = true) => Should be positive or 0\n",
    "- low: double (nullable = true) => Should be positive or 0 (should be < high)\n",
    "- close: double (nullable = true) => Should be positive or 0 (should be <= high )\n",
    "- adj_close: double (nullable = true) => Should be positive or 0\n",
    "- volume: integer (nullable = true) => Should be positive or 0\n",
    "- high_avg: double (nullable = true) => Derived (not needed to test)\n",
    "- high_imp: double (nullable = true) => Derived (not needed to test)\n",
    "- day_of_week: string (nullable = true) => Derived (not needed to test)\n",
    "\n",
    "*Is there any other logic that we can incorporate?*"
   ]
  },
  {
   "cell_type": "markdown",
   "metadata": {},
   "source": [
    "> ℹ️ **Instructions** ℹ️\n",
    ">\n",
    "> Use the metadata to check if all the stocks in your current dataframe are valid. In other words, make sure you have no foreign/unknown tickers in your dataframe.\n",
    ">\n",
    ">*You may use as many coding cells as necessary.*\n"
   ]
  },
  {
   "cell_type": "code",
   "execution_count": 51,
   "metadata": {},
   "outputs": [],
   "source": [
    "# Convert Spark dataframes to pandas dataframes\n",
    "df_pandas = df.select('stock').toPandas()\n",
    "meta_df_pandas = meta_df.select('Symbol').toPandas()"
   ]
  },
  {
   "cell_type": "code",
   "execution_count": 52,
   "metadata": {},
   "outputs": [],
   "source": [
    "# Get unique values of 'stock' and 'Symbol' columns\n",
    "unique_stocks = set(df_pandas['stock'].unique())\n",
    "unique_symbols = set(meta_df_pandas['Symbol'].unique())\n",
    "\n",
    "# Subtract the sets of values\n",
    "result = unique_symbols - unique_stocks"
   ]
  },
  {
   "cell_type": "markdown",
   "metadata": {},
   "source": [
    "> ℹ️ **Instructions** ℹ️\n",
    ">\n",
    ">\n",
    ">Check if the date column contains only valid dates and all dates are in the past.\n",
    ">\n",
    ">*Valid dates should already be checked in the data reading step.*"
   ]
  },
  {
   "cell_type": "code",
   "execution_count": 53,
   "metadata": {},
   "outputs": [
    {
     "name": "stdout",
     "output_type": "stream",
     "text": [
      "+----------+----------+\n",
      "| min(date)| max(date)|\n",
      "+----------+----------+\n",
      "|1962-01-02|1962-12-31|\n",
      "+----------+----------+\n",
      "\n"
     ]
    }
   ],
   "source": [
    "#TODO: Write your code here\n",
    "df.agg(F.min('date'), F.max('date')).show()"
   ]
  },
  {
   "cell_type": "markdown",
   "metadata": {},
   "source": [
    "> ℹ️ **Instructions** ℹ️\n",
    ">\n",
    ">Check that all of numerical columns are positive."
   ]
  },
  {
   "cell_type": "code",
   "execution_count": 54,
   "metadata": {},
   "outputs": [
    {
     "data": {
      "text/plain": [
       "0"
      ]
     },
     "execution_count": 54,
     "metadata": {},
     "output_type": "execute_result"
    }
   ],
   "source": [
    "#TODO: Write your code here\n",
    "import datetime as dt\n",
    "df.where((df.date) > dt.datetime.now()).count()"
   ]
  },
  {
   "cell_type": "markdown",
   "metadata": {},
   "source": [
    "### Save Updates\n",
    "\n",
    "With our initial work of checking the various dimensions of the data quality completed, we can now save these results to a CSV file.  "
   ]
  },
  {
   "cell_type": "code",
   "execution_count": 55,
   "metadata": {},
   "outputs": [],
   "source": [
    "pd_df = df.toPandas()"
   ]
  },
  {
   "cell_type": "code",
   "execution_count": 56,
   "metadata": {},
   "outputs": [],
   "source": [
    "pd_df.to_csv('./Mukthar_Abdulwaheed_data_profiling.csv')"
   ]
  },
  {
   "cell_type": "code",
   "execution_count": null,
   "metadata": {},
   "outputs": [],
   "source": []
  }
 ],
 "metadata": {
  "interpreter": {
   "hash": "24a0a2ddc4dffcb168e507551dd24967ddc40ea2df7a72a200a74e0ae6d88beb"
  },
  "kernelspec": {
   "display_name": "Python 3",
   "language": "python",
   "name": "python3"
  },
  "language_info": {
   "codemirror_mode": {
    "name": "ipython",
    "version": 3
   },
   "file_extension": ".py",
   "mimetype": "text/x-python",
   "name": "python",
   "nbconvert_exporter": "python",
   "pygments_lexer": "ipython3",
   "version": "3.8.5"
  }
 },
 "nbformat": 4,
 "nbformat_minor": 2
}
